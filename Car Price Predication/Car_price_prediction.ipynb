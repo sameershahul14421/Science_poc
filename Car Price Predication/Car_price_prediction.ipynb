{
  "nbformat": 4,
  "nbformat_minor": 0,
  "metadata": {
    "colab": {
      "provenance": []
    },
    "kernelspec": {
      "name": "python3",
      "display_name": "Python 3"
    },
    "language_info": {
      "name": "python"
    }
  },
  "cells": [
    {
      "cell_type": "code",
      "execution_count": null,
      "metadata": {
        "id": "6flhGUElvq-x"
      },
      "outputs": [],
      "source": [
        "import numpy as np\n",
        "import pandas as pd\n",
        "import matplotlib.pyplot as plt\n",
        "import seaborn as sns"
      ]
    },
    {
      "cell_type": "code",
      "source": [
        "from google.colab import files\n",
        "files.upload()"
      ],
      "metadata": {
        "colab": {
          "base_uri": "https://localhost:8080/",
          "height": 1000
        },
        "id": "lxIuWksyv-ty",
        "outputId": "fdeae6b0-e053-4883-e37c-53dd9fccd0e6"
      },
      "execution_count": null,
      "outputs": [
        {
          "output_type": "display_data",
          "data": {
            "text/plain": [
              "<IPython.core.display.HTML object>"
            ],
            "text/html": [
              "\n",
              "     <input type=\"file\" id=\"files-92dcc761-1a51-4fce-92b8-b3d5bea5d9d4\" name=\"files[]\" multiple disabled\n",
              "        style=\"border:none\" />\n",
              "     <output id=\"result-92dcc761-1a51-4fce-92b8-b3d5bea5d9d4\">\n",
              "      Upload widget is only available when the cell has been executed in the\n",
              "      current browser session. Please rerun this cell to enable.\n",
              "      </output>\n",
              "      <script>// Copyright 2017 Google LLC\n",
              "//\n",
              "// Licensed under the Apache License, Version 2.0 (the \"License\");\n",
              "// you may not use this file except in compliance with the License.\n",
              "// You may obtain a copy of the License at\n",
              "//\n",
              "//      http://www.apache.org/licenses/LICENSE-2.0\n",
              "//\n",
              "// Unless required by applicable law or agreed to in writing, software\n",
              "// distributed under the License is distributed on an \"AS IS\" BASIS,\n",
              "// WITHOUT WARRANTIES OR CONDITIONS OF ANY KIND, either express or implied.\n",
              "// See the License for the specific language governing permissions and\n",
              "// limitations under the License.\n",
              "\n",
              "/**\n",
              " * @fileoverview Helpers for google.colab Python module.\n",
              " */\n",
              "(function(scope) {\n",
              "function span(text, styleAttributes = {}) {\n",
              "  const element = document.createElement('span');\n",
              "  element.textContent = text;\n",
              "  for (const key of Object.keys(styleAttributes)) {\n",
              "    element.style[key] = styleAttributes[key];\n",
              "  }\n",
              "  return element;\n",
              "}\n",
              "\n",
              "// Max number of bytes which will be uploaded at a time.\n",
              "const MAX_PAYLOAD_SIZE = 100 * 1024;\n",
              "\n",
              "function _uploadFiles(inputId, outputId) {\n",
              "  const steps = uploadFilesStep(inputId, outputId);\n",
              "  const outputElement = document.getElementById(outputId);\n",
              "  // Cache steps on the outputElement to make it available for the next call\n",
              "  // to uploadFilesContinue from Python.\n",
              "  outputElement.steps = steps;\n",
              "\n",
              "  return _uploadFilesContinue(outputId);\n",
              "}\n",
              "\n",
              "// This is roughly an async generator (not supported in the browser yet),\n",
              "// where there are multiple asynchronous steps and the Python side is going\n",
              "// to poll for completion of each step.\n",
              "// This uses a Promise to block the python side on completion of each step,\n",
              "// then passes the result of the previous step as the input to the next step.\n",
              "function _uploadFilesContinue(outputId) {\n",
              "  const outputElement = document.getElementById(outputId);\n",
              "  const steps = outputElement.steps;\n",
              "\n",
              "  const next = steps.next(outputElement.lastPromiseValue);\n",
              "  return Promise.resolve(next.value.promise).then((value) => {\n",
              "    // Cache the last promise value to make it available to the next\n",
              "    // step of the generator.\n",
              "    outputElement.lastPromiseValue = value;\n",
              "    return next.value.response;\n",
              "  });\n",
              "}\n",
              "\n",
              "/**\n",
              " * Generator function which is called between each async step of the upload\n",
              " * process.\n",
              " * @param {string} inputId Element ID of the input file picker element.\n",
              " * @param {string} outputId Element ID of the output display.\n",
              " * @return {!Iterable<!Object>} Iterable of next steps.\n",
              " */\n",
              "function* uploadFilesStep(inputId, outputId) {\n",
              "  const inputElement = document.getElementById(inputId);\n",
              "  inputElement.disabled = false;\n",
              "\n",
              "  const outputElement = document.getElementById(outputId);\n",
              "  outputElement.innerHTML = '';\n",
              "\n",
              "  const pickedPromise = new Promise((resolve) => {\n",
              "    inputElement.addEventListener('change', (e) => {\n",
              "      resolve(e.target.files);\n",
              "    });\n",
              "  });\n",
              "\n",
              "  const cancel = document.createElement('button');\n",
              "  inputElement.parentElement.appendChild(cancel);\n",
              "  cancel.textContent = 'Cancel upload';\n",
              "  const cancelPromise = new Promise((resolve) => {\n",
              "    cancel.onclick = () => {\n",
              "      resolve(null);\n",
              "    };\n",
              "  });\n",
              "\n",
              "  // Wait for the user to pick the files.\n",
              "  const files = yield {\n",
              "    promise: Promise.race([pickedPromise, cancelPromise]),\n",
              "    response: {\n",
              "      action: 'starting',\n",
              "    }\n",
              "  };\n",
              "\n",
              "  cancel.remove();\n",
              "\n",
              "  // Disable the input element since further picks are not allowed.\n",
              "  inputElement.disabled = true;\n",
              "\n",
              "  if (!files) {\n",
              "    return {\n",
              "      response: {\n",
              "        action: 'complete',\n",
              "      }\n",
              "    };\n",
              "  }\n",
              "\n",
              "  for (const file of files) {\n",
              "    const li = document.createElement('li');\n",
              "    li.append(span(file.name, {fontWeight: 'bold'}));\n",
              "    li.append(span(\n",
              "        `(${file.type || 'n/a'}) - ${file.size} bytes, ` +\n",
              "        `last modified: ${\n",
              "            file.lastModifiedDate ? file.lastModifiedDate.toLocaleDateString() :\n",
              "                                    'n/a'} - `));\n",
              "    const percent = span('0% done');\n",
              "    li.appendChild(percent);\n",
              "\n",
              "    outputElement.appendChild(li);\n",
              "\n",
              "    const fileDataPromise = new Promise((resolve) => {\n",
              "      const reader = new FileReader();\n",
              "      reader.onload = (e) => {\n",
              "        resolve(e.target.result);\n",
              "      };\n",
              "      reader.readAsArrayBuffer(file);\n",
              "    });\n",
              "    // Wait for the data to be ready.\n",
              "    let fileData = yield {\n",
              "      promise: fileDataPromise,\n",
              "      response: {\n",
              "        action: 'continue',\n",
              "      }\n",
              "    };\n",
              "\n",
              "    // Use a chunked sending to avoid message size limits. See b/62115660.\n",
              "    let position = 0;\n",
              "    do {\n",
              "      const length = Math.min(fileData.byteLength - position, MAX_PAYLOAD_SIZE);\n",
              "      const chunk = new Uint8Array(fileData, position, length);\n",
              "      position += length;\n",
              "\n",
              "      const base64 = btoa(String.fromCharCode.apply(null, chunk));\n",
              "      yield {\n",
              "        response: {\n",
              "          action: 'append',\n",
              "          file: file.name,\n",
              "          data: base64,\n",
              "        },\n",
              "      };\n",
              "\n",
              "      let percentDone = fileData.byteLength === 0 ?\n",
              "          100 :\n",
              "          Math.round((position / fileData.byteLength) * 100);\n",
              "      percent.textContent = `${percentDone}% done`;\n",
              "\n",
              "    } while (position < fileData.byteLength);\n",
              "  }\n",
              "\n",
              "  // All done.\n",
              "  yield {\n",
              "    response: {\n",
              "      action: 'complete',\n",
              "    }\n",
              "  };\n",
              "}\n",
              "\n",
              "scope.google = scope.google || {};\n",
              "scope.google.colab = scope.google.colab || {};\n",
              "scope.google.colab._files = {\n",
              "  _uploadFiles,\n",
              "  _uploadFilesContinue,\n",
              "};\n",
              "})(self);\n",
              "</script> "
            ]
          },
          "metadata": {}
        },
        {
          "output_type": "stream",
          "name": "stdout",
          "text": [
            "Saving quikr_car.csv to quikr_car.csv\n"
          ]
        },
        {
          "output_type": "execute_result",
          "data": {
            "text/plain": [
              "{'quikr_car.csv': b'name,company,year,Price,kms_driven,fuel_type\\nHyundai Santro Xing XO eRLX Euro III,Hyundai,2007,\"80,000\",\"45,000 kms\",Petrol\\nMahindra Jeep CL550 MDI,Mahindra,2006,\"4,25,000\",40 kms,Diesel\\nMaruti Suzuki Alto 800 Vxi,Maruti,2018,Ask For Price,\"22,000 kms\",Petrol\\nHyundai Grand i10 Magna 1.2 Kappa VTVT,Hyundai,2014,\"3,25,000\",\"28,000 kms\",Petrol\\nFord EcoSport Titanium 1.5L TDCi,Ford,2014,\"5,75,000\",\"36,000 kms\",Diesel\\nFord EcoSport Titanium 1.5L TDCi,Ford,2015,Ask For Price,\"59,000 kms\",Diesel\\nFord Figo,Ford,2012,\"1,75,000\",\"41,000 kms\",Diesel\\nHyundai Eon,Hyundai,2013,\"1,90,000\",\"25,000 kms\",Petrol\\nFord EcoSport Ambiente 1.5L TDCi,Ford,2016,\"8,30,000\",\"24,530 kms\",Diesel\\nMaruti Suzuki Alto K10 VXi AMT,Maruti,2015,\"2,50,000\",\"60,000 kms\",Petrol\\nSkoda Fabia Classic 1.2 MPI,Skoda,2010,\"1,82,000\",\"60,000 kms\",Petrol\\nMaruti Suzuki Stingray VXi,Maruti,2015,\"3,15,000\",\"30,000 kms\",Petrol\\nHyundai Elite i20 Magna 1.2,Hyundai,2014,\"4,15,000\",\"32,000 kms\",Petrol\\nMahindra Scorpio SLE BS IV,Mahindra,2015,\"3,20,000\",\"48,660 kms\",Diesel\\nHyundai Santro Xing XO eRLX Euro III,Hyundai,2007,\"80,000\",\"45,000 kms\",Petrol\\nMahindra Jeep CL550 MDI,Mahindra,2006,\"4,25,000\",40 kms,Diesel\\nAudi A8,Audi,2017,\"10,00,000\",\"4,000 kms\",Petrol\\nAudi Q7,Audi,2014,\"5,00,000\",\"16,934 kms\",Diesel\\nMahindra Scorpio S10,Mahindra,2016,\"3,50,000\",\"43,000 kms\",Diesel\\nMaruti Suzuki Alto 800,Maruti,2014,\"1,60,000\",\"35,550 kms\",Petrol\\nMahindra Scorpio S10,Mahindra,2016,\"3,50,000\",\"43,000 kms\",Diesel\\nMahindra Scorpio S10,Mahindra,2016,\"3,10,000\",\"39,522 kms\",Diesel\\nMaruti Suzuki Alto 800 Vxi,Maruti,2015,\"75,000\",\"39,000 kms\",Petrol\\nHyundai i20 Sportz 1.2,Hyundai,2012,\"1,00,000\",\"55,000 kms\",Petrol\\nHyundai i20 Sportz 1.2,Hyundai,2012,\"1,00,000\",\"55,000 kms\",Petrol\\nHyundai i20 Sportz 1.2,Hyundai,2012,\"1,00,000\",\"55,000 kms\",Petrol\\nMaruti Suzuki Alto 800 Lx,Maruti,2017,\"1,90,000\",\"72,000 kms\",Petrol\\nMaruti Suzuki Vitara Brezza ZDi,Maruti,2016,\"2,90,000\",\"15,975 kms\",Diesel\\nMaruti Suzuki Alto LX,Maruti,2008,\"95,000\",\"70,000 kms\",Petrol\\nMahindra Bolero DI,Mahindra,2017,\"1,80,000\",\"23,452 kms\",Diesel\\nMaruti Suzuki Swift Dzire ZDi,Maruti,2014,\"3,85,000\",\"35,522 kms\",Diesel\\nMahindra Scorpio S10 4WD,Mahindra,2015,\"2,50,000\",\"48,508 kms\",Diesel\\nMaruti Suzuki Swift Vdi BSIII,Maruti,2017,\"1,80,000\",\"15,487 kms\",Petrol\\nMaruti Suzuki Wagon R VXi BS III,Maruti,2013,\"1,05,000\",\"39,000 kms\",Petrol\\nMaruti Suzuki Wagon R VXi Minor,Maruti,2013,\"1,05,000\",\"39,000 kms\",Petrol\\nToyota Innova 2.0 G 8 STR BS IV,Toyota,2012,\"6,50,000\",\"82,000 kms\",Diesel\\nRenault Lodgy 85 PS RXL,Renault,2018,\"6,89,999\",\"20,000 kms\",Diesel\\nSkoda Yeti Ambition 2.0 TDI CR 4x2,Skoda,2012,\"4,48,000\",\"68,000 kms\",Diesel\\nMaruti Suzuki Baleno Delta 1.2,Maruti,2017,\"5,49,000\",\"32,000 kms\",Diesel\\nRenault Duster 110 PS RxZ Diesel Plus,Renault,2012,\"5,01,000\",\"38,000 kms\",Diesel\\nRenault Duster 85 PS RxE Diesel,Renault,2013,\"4,89,999\",\"27,000 kms\",Diesel\\nHonda City 1.5 S MT,Honda,2011,\"2,80,000\",\"33,000 kms\",Petrol\\nMaruti Suzuki Alto K10 VXi AMT,Maruti,2015,\"2,50,000\",\"60,000 kms\",Petrol\\nMaruti Suzuki Dzire,Maruti,2013,\"3,49,999\",\"46,000 kms\",Diesel\\nHonda Amaze,Honda,2013,\"2,84,999\",\"46,000 kms\",Diesel\\nHonda Amaze 1.5 SX i DTEC,Honda,2015,\"3,45,000\",\"36,000 kms\",Diesel\\nHonda City,Honda,2015,\"4,99,999\",\"55,000 kms\",Petrol\\nDatsun Redi GO S,Datsun,2017,\"2,35,000\",\"16,000 kms\",Petrol\\nMaruti Suzuki SX4 ZXI MT,Maruti,2010,\"2,49,999\",\"36,000 kms\",Petrol\\nMitsubishi Pajero Sport Limited Edition,Mitsubishi,2015,\"14,75,000\",\"47,000 kms\",Diesel\\nMahindra Bolero DI,Mahindra,2017,\"1,80,000\",\"23,452 kms\",Diesel\\nMaruti Suzuki Swift Dzire ZDi,Maruti,2014,\"3,85,000\",\"35,522 kms\",Diesel\\nMahindra Scorpio S10 4WD,Mahindra,2015,\"2,50,000\",\"48,508 kms\",Diesel\\nMaruti Suzuki Swift Vdi BSIII,Maruti,2017,\"1,80,000\",\"15,487 kms\",Petrol\\nMaruti Suzuki Wagon R VXi BS III,Maruti,2013,\"1,05,000\",\"39,000 kms\",Petrol\\nMaruti Suzuki Wagon R VXi Minor,Maruti,2013,\"1,05,000\",\"39,000 kms\",Petrol\\nMahindra Scorpio S10,Mahindra,2015,\"3,95,000\",\"35,000 kms\",Diesel\\nMaruti Suzuki Swift VXi 1.2 ABS BS IV,Maruti,2017,\"2,20,000\",\"30,874 kms\",Petrol\\nHonda City ZX CVT,Honda,2017,\"1,70,000\",\"15,000 kms\",Diesel\\nMaruti Suzuki Wagon R LX BS IV,Maruti,2013,\"85,000\",\"29,685 kms\",Petrol\\nFord Figo,Ford,2012,\"1,75,000\",\"41,000 kms\",Diesel\\nHyundai Eon,Hyundai,2013,\"1,90,000\",\"25,000 kms\",Petrol\\nTata Indigo eCS LS CR4 BS IV,Tata,2017,\"2,00,000\",\"1,30,000 kms\",Diesel\\nFord EcoSport Ambiente 1.5L TDCi,Ford,2016,\"8,30,000\",\"24,530 kms\",Diesel\\nTata Indigo eCS LS CR4 BS IV,Tata,2017,\"2,00,000\",\"1,30,000 kms\",Diesel\\nMahindra Scorpio SLE BS IV,Mahindra,2012,\"5,70,000\",\"19,000 kms\",Diesel\\nVolkswagen Polo Highline Exquisite P,Volkswagen,2014,\"3,15,000\",\"60,000 kms\",Petrol\\nSkoda Fabia Classic 1.2 MPI,Skoda,2010,\"1,82,000\",\"60,000 kms\",Petrol\\nMaruti Suzuki Stingray VXi,Maruti,2015,\"3,15,000\",\"30,000 kms\",Petrol\\nI want to sell my car Tata Zest,I,2017,Ask For Price,,\\nChevrolet Spark LS 1.0,Chevrolet,2010,\"1,10,000\",\"41,000 kms\",Petrol\\nRenault Duster 110PS Diesel RxZ,Renault,2012,\"5,01,000\",\"35,000 kms\",Diesel\\nHonda City,Honda,2015,\"4,48,999\",\"54,000 kms\",Petrol\\nMini Cooper S 1.6,Mini,2013,\"18,91,111\",\"13,000 kms\",Petrol\\nDatsun Redi GO S,Datsun,2017,\"2,35,000\",\"16,000 kms\",Petrol\\nSkoda Fabia 1.2L Diesel Ambiente,Skoda,2011,\"1,59,500\",\"38,200 kms\",Diesel\\nHonda Amaze,Honda,2015,\"3,44,999\",\"22,000 kms\",Petrol\\nHonda Amaze,Honda,2015,\"3,44,999\",\"22,000 kms\",Petrol\\nRenault Duster,Renault,2014,\"4,49,999\",\"50,000 kms\",Diesel\\nMini Cooper S 1.6,Mini,2013,\"18,91,111\",\"13,500 kms\",Petrol\\nMahindra Scorpio S4,Mahindra,2015,\"8,65,000\",\"30,000 kms\",Diesel\\nMahindra Scorpio VLX 2WD BS IV,Mahindra,2014,\"6,99,000\",\"50,000 kms\",Diesel\\nMahindra Quanto C8,Mahindra,2013,\"3,75,000\",\"20,000 kms\",Diesel\\nFord EcoSport,Ford,2017,\"4,89,999\",\"39,000 kms\",Petrol\\nHonda Brio,Honda,2012,\"2,24,999\",\"30,000 kms\",Petrol\\nI want to sell my car Tata Zest,I,2017,Ask For Price,,\\nVolkswagen Vento Highline Plus 1.5 Diesel AT,Volkswagen,2019,\"12,00,000\",\"3,600 kms\",Diesel\\nHyundai i20 Magna,Hyundai,2009,\"1,95,000\",\"32,000 kms\",Petrol\\nToyota Corolla Altis Diesel D4DG,Toyota,2010,\"3,51,000\",\"38,000 kms\",Diesel\\nHyundai Verna Transform SX VTVT,Hyundai,2008,\"1,60,000\",\"45,000 kms\",Petrol\\nToyota Corolla Altis Petrol Ltd,Toyota,2009,\"2,40,000\",\"35,000 kms\",Petrol\\nHonda City 1.5 EXi New,Honda,2005,\"90,000\",\"50,000 kms\",Petrol\\nHyundai Elite i20 Magna 1.2,Hyundai,2014,\"4,15,000\",\"32,000 kms\",Petrol\\nSkoda Fabia 1.2L Diesel Elegance,Skoda,2011,\"1,55,000\",\"45,863 kms\",Diesel\\nBMW 3 Series 320i,BMW,2011,\"6,00,000\",\"60,500 kms\",Petrol\\nMaruti Suzuki A Star Lxi,Maruti,2011,\"1,89,500\",\"12,500 kms\",Petrol\\nToyota Etios GD,Toyota,2013,\"3,50,000\",\"60,000 kms\",Diesel\\nFord Figo Diesel EXI Option,Ford,2012,\"2,10,000\",\"35,000 kms\",Diesel\\nMaruti Suzuki Swift Dzire VXi 1.2 BS IV,Maruti,2014,\"3,90,000\",\"35,000 kms\",Petrol\\nChevrolet Beat LT Diesel,Chevrolet,2012,\"1,35,000\",\"45,000 kms\",Diesel\\nBMW 7 Series 740Li Sedan,BMW,2009,\"16,00,000\",\"35,000 kms\",Petrol\\nMahindra XUV500 W8 AWD 2013,Mahindra,2013,\"7,01,000\",\"38,000 kms\",Diesel\\nHyundai i10 Magna 1.2,Hyundai,2014,\"2,65,000\",\"18,000 kms\",Petrol\\nHyundai Verna Fluidic New,Hyundai,2015,\"5,25,000\",\"35,000 kms\",Diesel\\nMaruti Suzuki Swift VXi 1.2 BS IV,Maruti,2013,\"3,72,000\",\"13,349 kms\",Petrol\\nMaruti Suzuki Ertiga ZXI Plus,Maruti,2016,\"6,35,000\",\"29,000 kms\",Petrol\\nFord EcoSport Titanium 1.5L TDCi,Ford,2014,\"5,50,000\",\"44,000 kms\",Diesel\\nMaruti Suzuki Ertiga Vxi,Maruti,2016,\"5,75,000\",\"29,000 kms\",Petrol\\nMaruti Suzuki Ertiga VDi,Maruti,2013,\"4,85,000\",\"42,000 kms\",Diesel\\nMaruti Suzuki Alto LXi BS III,Maruti,2012,\"1,55,000\",\"14,000 kms\",Petrol\\nHyundai Grand i10 Asta 1.1 CRDi,Hyundai,2014,\"3,45,000\",\"49,000 kms\",Diesel\\nHonda Amaze 1.2 S i VTEC,Honda,2014,\"3,25,000\",\"42,000 kms\",Petrol\\nHyundai i20 Asta 1.4 CRDI 6 Speed,Hyundai,2012,\"3,29,500\",\"36,200 kms\",Diesel\\nFord Figo Diesel EXI,Ford,2014,\"1,95,000\",\"50,000 kms\",Diesel\\nMaruti Suzuki Eeco 5 STR WITH AC HTR,Maruti,2015,\"2,51,111\",\"55,000 kms\",Petrol\\nMaruti Suzuki Ertiga ZXi,Maruti,2014,\"5,69,999\",\"45,000 kms\",Petrol\\nMaruti Suzuki Esteem LXi BS III,Maruti,2007,\"69,999\",\"51,000 kms\",Petrol\\nMaruti Suzuki Ritz VXI,Maruti,2014,\"2,99,999\",\"19,000 kms\",Petrol\\nMaruti Suzuki Dzire,Maruti,2009,\"2,20,000\",\"46,000 kms\",Petrol\\nMaruti Suzuki Ritz LDi,Maruti,2013,\"3,99,999\",\"33,000 kms\",Diesel\\nMaruti Suzuki Swift VXi 1.2 BS IV,Maruti,2013,\"3,72,000\",\"13,349 kms\",Petrol\\nMaruti Suzuki Dzire VDI,Maruti,2015,\"4,50,000\",\"1,04,000 kms\",Diesel\\nToyota Etios Liva G,Toyota,2014,\"2,70,000\",\"55,000 kms\",Petrol\\nHyundai i20 Sportz 1.4 CRDI,Hyundai,2011,\"3,50,000\",\"33,333 kms\",Diesel\\nChevrolet Spark,Chevrolet,2012,\"1,58,400\",\"33,600 kms\",Petrol\\nMaruti Suzuki Alto K10 VXi AMT,Maruti,2017,\"3,50,000\",\"5,600 kms\",Petrol\\nNissan Micra XV,Nissan,2011,\"1,79,000\",\"41,000 kms\",Petrol\\nMaruti Suzuki Swift,Maruti,2007,\"1,25,000\",\"70,000 kms\",Petrol\\nMaruti Suzuki Alto 800,Maruti,2018,\"2,00,000\",\"7,500 kms\",Petrol\\nHonda Amaze 1.5 S i DTEC,Honda,2013,\"2,99,000\",\"45,000 kms\",Diesel\\nMaruti Suzuki Alto 800 Vxi,Maruti,2015,\"2,20,000\",\"38,000 kms\",Petrol\\nChevrolet Beat,Chevrolet,2015,\"1,50,000\",\"30,000 kms\",Petrol\\nToyota Corolla,Toyota,2009,\"2,75,000\",\"26,000 kms\",\\nHonda City 1.5 V MT,Honda,2010,\"2,85,000\",\"35,000 kms\",Petrol\\nFord EcoSport Trend 1.5L TDCi,Ford,2016,\"8,30,000\",\"24,330 kms\",Diesel\\nHyundai i20 Asta 1.2,Hyundai,2009,\"2,10,000\",\"65,480 kms\",Petrol\\nMaruti Suzuki Swift Dzire VXi 1.2 BS IV,Maruti,2013,\"3,40,000\",\"41,000 kms\",Petrol\\nTata Indica V2 eLS,Tata,2006,\"90,000\",\"20,000 kms\",Petrol\\nMaruti Suzuki Alto 800 Lxi,Maruti,2018,Ask For Price,\"28,028 kms\",Petrol\\nHindustan Motors Ambassador,Hindustan,2000,\"70,000\",\"2,00,000 kms\",Diesel\\nToyota Corolla Altis 1.8 GL,Toyota,2010,\"2,89,999\",\"70,000 kms\",Petrol\\nToyota Corolla Altis 1.8 J,Toyota,2012,\"3,49,999\",\"59,000 kms\",Petrol\\nToyota Innova 2.5 GX BS IV 7 STR,Toyota,2012,\"8,49,999\",\"99,000 kms\",Diesel\\nVolkswagen Jetta Highline TDI AT,Volkswagen,2014,\"7,49,999\",\"46,000 kms\",Diesel\\nVolkswagen Polo Comfortline 1.2L P,Volkswagen,2015,\"3,99,999\",\"2,800 kms\",Petrol\\nVolkswagen Polo,Volkswagen,2014,\"2,74,999\",\"32,000 kms\",Petrol\\nMahindra Scorpio,Mahindra,2015,\"9,84,999\",\"22,000 kms\",Diesel\\nRenault Duster,Renault,2014,\"4,49,999\",\"50,000 kms\",Diesel\\nHonda Amaze,Honda,2015,\"3,44,999\",\"22,000 kms\",Petrol\\nNissan Sunny,Nissan,2012,\"2,24,999\",\"45,000 kms\",Petrol\\nHyundai Elite i20,Hyundai,2018,\"5,99,999\",\"21,000 kms\",Petrol\\nRenault Kwid,Renault,2016,\"2,44,999\",\"11,000 kms\",Petrol\\nRenault Duster,Renault,2013,\"3,99,999\",\"41,000 kms\",Diesel\\nFord EcoSport,Ford,2017,\"4,89,999\",\"39,000 kms\",Petrol\\nRenault Duster,Renault,2014,\"4,74,999\",\"50,000 kms\",Diesel\\nMahindra Scorpio VLX Airbag,Mahindra,2011,\"4,99,999\",\"66,000 kms\",Diesel\\nMaruti Suzuki Alto 800 Lxi,Maruti,2018,\"3,10,000\",\"3,000 kms\",Petrol\\nChevrolet Spark LT 1.0,Chevrolet,2010,\"85,000\",\"45,000 kms\",Petrol\\nDatsun Redi GO T O,Datsun,2016,\"2,45,000\",\"7,000 kms\",Petrol\\nMaruti Suzuki Swift RS VDI,Maruti,2010,\"1,89,500\",\"38,500 kms\",Diesel\\nFiat Punto Emotion 1.2,Fiat,2012,\"1,69,500\",\"37,200 kms\",Diesel\\nMaruti Suzuki Swift RS VDI,Maruti,2010,\"1,59,500\",\"43,200 kms\",Diesel\\nToyota Etios GD,Toyota,2013,\"2,75,000\",\"24,800 kms\",Petrol\\nHyundai i20 Sportz 1.4 CRDI,Hyundai,2014,\"3,70,000\",\"60,000 kms\",Diesel\\nHyundai i10 Sportz 1.2,Hyundai,2010,\"1,68,000\",\"45,872 kms\",Petrol\\nChevrolet Beat LT Opt Diesel,Chevrolet,2011,\"1,50,000\",\"40,000 kms\",Diesel\\nChevrolet Beat LS Diesel,Chevrolet,2011,\"1,45,000\",\"45,000 kms\",Diesel\\nChevrolet Beat LT Diesel,Chevrolet,2012,\"98,500\",\"38,000 kms\",Diesel\\nMahindra Scorpio VLX 2WD BS IV,Mahindra,2014,\"6,99,000\",\"50,000 kms\",Diesel\\nTata Indigo CS,Tata,2011,\"85,000\",\"11,400 kms\",Diesel\\nToyota Corolla Altis 1.8 J,Toyota,2015,\"5,75,000\",\"42,000 kms\",Petrol\\nHonda City 1.5 V MT,Honda,2014,\"5,49,000\",\"39,000 kms\",Petrol\\nMaruti Suzuki Swift VDi,Maruti,2011,\"2,09,000\",\"47,000 kms\",Diesel\\nHyundai Eon Era Plus,Hyundai,2013,\"1,85,000\",\"27,000 kms\",Petrol\\nMahindra Scorpio S10,Mahindra,2015,\"9,00,000\",\"97,200 kms\",Diesel\\nMahindra XUV500,Mahindra,2014,\"6,99,999\",\"52,000 kms\",Diesel\\nHonda Brio,Honda,2012,\"2,24,999\",\"30,000 kms\",Petrol\\nFord Fiesta,Ford,2011,\"2,74,999\",\"55,000 kms\",Diesel\\nHonda Amaze,Honda,2013,\"2,84,999\",\"46,000 kms\",Diesel\\nHonda City,Honda,2015,\"5,99,999\",\"30,000 kms\",Diesel\\nMaruti Suzuki Wagon R,Maruti,2012,\"1,99,999\",\"44,000 kms\",Petrol\\nHonda City,Honda,2014,\"5,44,999\",\"45,000 kms\",Diesel\\nHyundai i20,Hyundai,2009,\"1,99,000\",\"31,000 kms\",Petrol\\nTata Indigo eCS LX TDI BS III,Tata,2016,\"3,20,000\",\"1,75,430 kms\",Diesel\\nHyundai Fluidic Verna 1.6 CRDi SX,Hyundai,2015,\"5,40,000\",\"38,000 kms\",Diesel\\n\"Commercial , DZire LDI, 2016, for sale\",Commercial,...,Ask For Price,,\\nMahindra Quanto C8,Mahindra,2013,\"3,40,000\",\"37,000 kms\",Diesel\\nFiat Petra ELX 1.2 PS,Fiat,2008,\"75,000\",\"65,000 kms\",Petrol\\nSkoda Fabia 1.2L Diesel Ambiente,Skoda,2011,\"1,59,500\",\"38,200 kms\",Diesel\\nMini Cooper S 1.6,Mini,2013,\"18,91,111\",\"13,000 kms\",Petrol\\nHyundai Santro Xing XS,Hyundai,2005,\"49,000\",\"7,500 kms\",Petrol\\nMaruti Suzuki Ciaz VXi Plus,Maruti,2016,\"7,00,000\",\"3,350 kms\",Petrol\\nMaruti Suzuki Zen VX,Maruti,2000,\"55,000\",\"60,000 kms\",Petrol\\nHonda City,Honda,2015,\"4,48,999\",\"54,000 kms\",Petrol\\nHyundai Creta 1.6 SX Plus Petrol,Hyundai,2017,\"8,95,000\",\"32,000 kms\",Petrol\\n\"Tata indigo ecs LX, 201\",Tata,150k,\"1,50,000\",,\\nMahindra Scorpio SLX,Mahindra,2007,\"3,55,000\",\"75,000 kms\",Diesel\\nMahindra Scorpio SLE BS IV,Mahindra,2012,\"5,65,000\",\"62,000 kms\",Diesel\\nToyota Innova 2.5 G BS III 8 STR,Toyota,2006,\"3,65,000\",\"73,000 kms\",Diesel\\nMaruti Suzuki Alto K10 VXi AMT,Maruti,2011,\"1,45,000\",\"41,000 kms\",Petrol\\nMaruti Suzuki Wagon R LXI BS IV,Maruti,2011,\"2,10,000\",\"35,000 kms\",Petrol\\nTata Nano Cx BSIV,Tata,2013,\"40,000\",\"2,200 kms\",Petrol\\nMaruti Suzuki Alto Std BS IV,Maruti,2013,\"1,25,000\",\"39,000 kms\",Petrol\\nMaruti Suzuki Wagon R LXi BS III,Maruti,2009,\"1,35,000\",\"45,000 kms\",Petrol\\nMaruti Suzuki Swift VXI BSIII,Maruti,2006,\"1,35,000\",\"45,000 kms\",Petrol\\nTata Sumo Victa EX 10 by 7 Str BSIII,Tata,2012,\"2,85,000\",\"65,000 kms\",Diesel\\nMARUTI SUZUKI DESI,MARUTI,TOUR,\"4,00,000\",,\\nMaruti Suzuki Wagon R LXi BS III,Maruti,2010,\"1,45,000\",\"54,870 kms\",Petrol\\nMaruti Suzuki Alto LXi BS III,Maruti,2010,\"1,35,000\",\"34,580 kms\",Petrol\\nVolkswagen Passat Diesel Comfortline AT,Volkswagen,2009,\"4,50,000\",\"97,000 kms\",Diesel\\nRenault Scala RxL Diesel Travelogue,Renault,2015,\"3,75,000\",\"25,000 kms\",Diesel\\nMahindra Quanto C8,Mahindra,2013,\"3,75,000\",\"20,000 kms\",Diesel\\nHyundai Grand i10 Sportz O 1.2 Kappa VTVT,Hyundai,2014,\"3,65,000\",\"20,000 kms\",Petrol\\nHyundai i20 Active 1.2 SX,Hyundai,2015,\"5,00,000\",\"18,000 kms\",Petrol\\nMahindra Xylo E4,Mahindra,2012,\"4,00,000\",\"35,000 kms\",Diesel\\nMahindra Jeep MM 550 XDB,Mahindra,2019,\"3,90,000\",60 kms,Diesel\\nRenault Duster 110PS Diesel RxZ,Renault,2012,\"5,01,000\",\"35,000 kms\",Diesel\\nMahindra Bolero SLE BS IV,Mahindra,2013,\"3,30,000\",\"80,200 kms\",Diesel\\nForce Motors Force One LX ABS 7 STR,Force,2015,\"5,80,000\",\"3,200 kms\",Diesel\\nMaruti Suzuki SX4,Maruti,2012,\"2,65,000\",\"46,000 kms\",Diesel\\nMahindra Jeep CL550 MDI,Mahindra,2019,\"3,79,000\",\"0,000 kms\",Diesel\\nMaruti Suzuki Alto 800,Maruti,2015,\"2,19,000\",\"5,000 kms\",Petrol\\nMahindra Jeep CL550 MDI,Mahindra,2018,\"3,85,000\",588 kms,Diesel\\nToyota Etios,Toyota,2011,\"2,75,000\",\"36,000 kms\",Diesel\\nVolkswagen Polo,Volkswagen,2015,\"3,30,000\",\"38,000 kms\",Diesel\\nHonda City ZX VTEC,Honda,2008,\"1,10,000\",\"45,000 kms\",Petrol\\nMaruti Suzuki Wagon R LX BS III,Maruti,2006,\"80,000\",\"71,200 kms\",Petrol\\nHonda City VX O MT Diesel,Honda,2016,\"5,19,000\",\"52,000 kms\",Diesel\\nMahindra Thar CRDe 4x4 AC,Mahindra,2016,\"7,30,000\",\"29,000 kms\",Diesel\\nMitsubishi Pajero Sport Limited Edition,Mitsubishi,2015,\"14,75,000\",\"47,000 kms\",Diesel\\nAudi A4 1.8 TFSI Multitronic Premium Plus,Audi,2009,\"6,99,000\",\"47,000 kms\",Petrol\\nMercedes Benz GLA Class 200 CDI Sport,Mercedes,2015,\"20,00,000\",\"20,000 kms\",Diesel\\nLand Rover Freelander 2 SE,Land,2015,\"21,00,000\",\"30,000 kms\",Diesel\\nRenault Kwid RXT,Renault,2017,\"3,40,000\",\"5,000 kms\",Petrol\\nTata Aria Pleasure 4X2,Tata,2014,\"3,90,000\",\"35,000 kms\",Diesel\\nMercedes Benz B Class B180 Sports,Mercedes,2014,\"14,00,000\",\"31,000 kms\",Petrol\\nDatsun GO T O,Datsun,2016,\"2,45,000\",\"7,000 kms\",Petrol\\nTata Indigo eCS LX TDI BS III,Tata,2016,\"3,20,000\",\"1,75,430 kms\",Diesel\\nTata Indigo eCS LX TDI BS III,Tata,2016,\"3,20,000\",\"1,75,400 kms\",Diesel\\nHonda Jazz VX MT,Honda,2016,\"4,50,000\",\"41,000 kms\",Petrol\\nHonda Amaze 1.2 S i VTEC,Honda,2014,\"3,11,000\",\"33,000 kms\",Petrol\\nHonda Amaze,Honda,2013,\"2,84,999\",\"46,000 kms\",Diesel\\nHonda City,Honda,2012,\"3,99,999\",\"45,000 kms\",Petrol\\nHonda City,Honda,2015,\"5,99,999\",\"39,000 kms\",Diesel\\nHonda Amaze,Honda,2015,\"3,44,999\",\"22,000 kms\",Petrol\\nAudi A4 1.8 TFSI Multitronic Premium Plus,Audi,2009,\"6,99,000\",\"47,000 kms\",Petrol\\nForce Motors Force One LX ABS 7 STR,Force,2015,\"5,80,000\",\"3,200 kms\",Diesel\\nMahindra Scorpio S4,Mahindra,2015,\"8,55,000\",\"30,000 kms\",Diesel\\nHyundai i20 Active 1.4L SX O,Hyundai,2015,\"5,35,000\",\"37,000 kms\",Diesel\\nMini Cooper S,Mini,2013,\"18,91,111\",\"13,000 kms\",Petrol\\nMaruti Suzuki Ciaz ZXI Plus,Maruti,2017,\"6,99,000\",\"14,000 kms\",Petrol\\nChevrolet Tavera Neo,Chevrolet,2013,\"3,75,000\",\"55,000 kms\",Diesel\\nHonda Amaze,Honda,2013,\"2,84,999\",\"46,000 kms\",Diesel\\nHyundai Eon Sportz,Hyundai,2012,\"1,78,000\",\"30,000 kms\",Petrol\\nTata Sumo Gold Select Variant,Tata,2013,\"3,00,000\",\"50,000 kms\",Diesel\\nMaruti Suzuki Wagon R 1.0,Maruti,2003,\"90,000\",\"45,000 kms\",Petrol\\nMaruti Suzuki Esteem VXi BS III,Maruti,2006,\"95,000\",\"45,000 kms\",Petrol\\nMaruti Suzuki Eeco 5 STR WITH AC HTR,Maruti,2015,\"2,55,000\",\"9,300 kms\",Petrol\\nChevrolet Enjoy 1.4 LS 8 STR,Chevrolet,2013,\"2,45,000\",\"55,000 kms\",Diesel\\nHyundai i20 Asta 1.4 CRDI 6 Speed,Hyundai,2012,\"3,29,500\",\"36,200 kms\",Diesel\\nFord Figo Diesel EXI,Ford,2014,\"1,95,000\",\"50,000 kms\",Diesel\\nMaruti Suzuki Eeco 5 STR WITH AC HTR,Maruti,2015,\"2,51,111\",\"55,000 kms\",Petrol\\nMaruti Suzuki Ertiga ZXi,Maruti,2014,\"5,69,999\",\"45,000 kms\",Petrol\\nMaruti Suzuki Esteem LXi BS III,Maruti,2007,\"69,999\",\"51,000 kms\",Petrol\\nMaruti Suzuki Ritz VXI,Maruti,2014,\"2,99,999\",\"19,000 kms\",Petrol\\nMaruti Suzuki Dzire,Maruti,2009,\"2,20,000\",\"46,000 kms\",Petrol\\nMaruti Suzuki Ritz LDi,Maruti,2013,\"3,99,999\",\"33,000 kms\",Diesel\\nMaruti Suzuki SX4 ZXI MT,Maruti,2010,\"2,49,999\",\"36,000 kms\",Petrol\\nMaruti Suzuki Wagon R 1.0 VXi,Maruti,2015,\"2,89,999\",\"22,000 kms\",Petrol\\nMini Cooper S 1.6,Mini,2013,\"18,91,111\",\"13,500 kms\",Petrol\\nNissan Terrano XL D Plus,Nissan,2015,\"4,99,999\",\"60,000 kms\",Diesel\\nRenault Duster 85 PS RxE Diesel,Renault,2013,\"4,89,999\",\"27,000 kms\",Diesel\\nRenault Duster 85 PS RxE Diesel,Renault,2014,\"4,89,999\",\"59,000 kms\",Diesel\\nRenault Duster 85 PS RxL Diesel,Renault,2015,\"5,49,999\",\"19,000 kms\",Diesel\\nMaruti Suzuki Dzire ZXI,Maruti,2013,\"3,80,000\",\"30,000 kms\",Petrol\\nRenault Kwid RXT Opt,Renault,2018,\"3,25,000\",\"15,000 kms\",Petrol\\nMaruti Suzuki Maruti 800 Std,Maruti,2003,\"57,000\",\"56,758 kms\",Petrol\\nRenault Kwid 1.0 RXT AMT,Renault,2018,\"3,49,999\",\"10,000 kms\",Petrol\\nRenault Lodgy 85 PS RXL,Renault,2018,\"6,89,999\",\"20,000 kms\",Diesel\\nRenault Scala RxL Diesel,Renault,2014,\"3,49,999\",\"49,000 kms\",Diesel\\nHyundai Grand i10 Asta 1.2 Kappa VTVT O,Hyundai,2014,\"4,10,000\",\"41,000 kms\",Petrol\\nMaruti Suzuki Swift Dzire VXi 1.2 BS IV,Maruti,2011,\"2,25,000\",\"45,000 kms\",Petrol\\nChevrolet Beat LS Petrol,Chevrolet,2010,\"1,20,000\",\"43,000 kms\",Petrol\\nTata Indigo eCS LX TDI BS III,Tata,2016,\"3,20,000\",\"1,75,430 kms\",Diesel\\nHyundai Santro Xing XO eRLX Euro III,Hyundai,2000,\"59,000\",\"56,450 kms\",Petrol\\nHyundai Fluidic Verna 1.6 CRDi SX,Hyundai,2015,\"5,40,000\",\"38,000 kms\",Diesel\\n\"Commercial , DZire LDI, 2016, for sale\",Commercial,...,Ask For Price,,\\nChevrolet Beat LS Petrol,Chevrolet,2010,\"80,000\",\"56,000 kms\",Petrol\\nMahindra Quanto C8,Mahindra,2013,\"3,40,000\",\"37,000 kms\",Diesel\\nFiat Petra ELX 1.2 PS,Fiat,2008,\"75,000\",\"65,000 kms\",Petrol\\nChevrolet Beat LS Petrol,Chevrolet,2015,\"2,20,000\",\"32,700 kms\",Petrol\\nSkoda Fabia 1.2L Diesel Ambiente,Skoda,2011,\"1,59,500\",\"38,200 kms\",Diesel\\nFord EcoSport Titanium 1.5L TDCi,Ford,2016,\"5,99,000\",\"30,000 kms\",Diesel\\nHyundai Accent GLX,Hyundai,2006,\"80,000\",\"56,000 kms\",Petrol\\nYama,Yamaha,r 15,\"55,000\",,\\nMaruti Suzuki Swift LDi,Maruti,2010,Ask For Price,\"52,000 kms\",Diesel\\nMahindra TUV300 T4 Plus,Mahindra,2016,\"6,75,000\",\"9,000 kms\",Diesel\\nMini Cooper S 1.6,Mini,2013,\"18,91,111\",\"13,000 kms\",Petrol\\nMini Cooper S 1.6,Mini,2013,\"18,91,111\",\"13,000 kms\",Petrol\\nTata Indica V2 Xeta e GLE,Tata,2008,\"1,50,000\",\"11,000 kms\",Petrol\\nMini Cooper S,Mini,2013,\"18,91,111\",\"13,000 kms\",Petrol\\nTata Indigo CS LS DiCOR,Tata,2009,\"72,500\",\"46,000 kms\",Diesel\\nMaruti Suzuki Swift VXi 1.2 ABS BS IV,Maruti,2019,\"6,10,000\",73 kms,Petrol\\nMahindra Scorpio VLX Special Edition BS III,Mahindra,2004,\"2,30,000\",\"1,60,000 kms\",Diesel\\nTata Indica eV2 LS,Tata,2017,Ask For Price,\"84,000 kms\",Diesel\\nHonda Accord,Honda,2009,\"1,75,000\",\"58,559 kms\",Petrol\\nMahindra Scorpio S4,Mahindra,2015,\"8,55,000\",\"30,000 kms\",Diesel\\nChevrolet Tavera Neo,Chevrolet,2013,\"3,75,000\",\"55,000 kms\",Diesel\\nFord EcoSport Titanium 1.5 TDCi,Ford,2014,\"5,20,000\",\"57,000 kms\",Diesel\\nMaruti Suzuki Ertiga,Maruti,2015,\"5,24,999\",\"50,000 kms\",Diesel\\nHonda Amaze,Honda,2014,\"2,99,999\",\"37,000 kms\",Petrol\\nMaruti Suzuki Dzire,Maruti,2012,\"2,99,999\",\"40,000 kms\",Petrol\\nHonda City,Honda,2011,\"2,84,999\",\"55,000 kms\",Petrol\\nMahindra Scorpio 2.6 CRDe,Mahindra,2007,\"2,20,000\",\"1,70,000 kms\",Diesel\\nMaruti Suzuki Dzire,Maruti,2014,\"4,24,999\",\"55,000 kms\",Diesel\\nHonda City,Honda,2015,\"6,44,999\",\"39,000 kms\",Petrol\\nHonda Mobilio,Honda,2014,\"3,99,999\",\"44,000 kms\",Petrol\\nToyota Corolla Altis,Toyota,2009,\"1,99,999\",\"65,000 kms\",Petrol\\nHonda City,Honda,2014,\"5,84,999\",\"39,000 kms\",Petrol\\nSkoda Laura,Skoda,2012,\"3,49,999\",\"44,000 kms\",Diesel\\nRenault Duster,Renault,2015,\"4,49,999\",\"49,000 kms\",Diesel\\nMaruti Suzuki Ertiga,Maruti,2018,\"7,99,999\",\"9,000 kms\",Diesel\\nMaruti Suzuki Dzire,Maruti,2015,\"4,44,999\",\"45,000 kms\",Diesel\\nMahindra XUV500,Mahindra,2014,\"6,49,999\",\"47,000 kms\",Diesel\\nHyundai Verna Fluidic,Hyundai,2012,\"4,44,999\",\"40,000 kms\",Diesel\\nMaruti Suzuki Vitara Brezza,Maruti,2016,\"6,89,999\",\"29,000 kms\",Diesel\\nMaruti Suzuki Wagon R,Maruti,2016,\"3,44,999\",\"15,000 kms\",Petrol\\nMahindra Scorpio,Mahindra,2015,\"9,44,999\",\"45,000 kms\",Diesel\\nHonda Amaze,Honda,2014,\"2,74,999\",\"35,000 kms\",Petrol\\nMahindra XUV500,Mahindra,2013,\"6,89,999\",\"80,000 kms\",Diesel\\nMahindra Scorpio,Mahindra,2013,\"5,74,999\",\"68,000 kms\",Diesel\\nSkoda Laura,Skoda,2013,\"3,74,999\",\"50,000 kms\",Diesel\\nVolkswagen Polo,Volkswagen,2010,\"1,99,999\",\"60,000 kms\",Diesel\\nHyundai Elite i20,Hyundai,2016,\"5,49,999\",\"9,000 kms\",Petrol\\nTata Manza Aura Quadrajet,Tata,2012,\"1,30,000\",\"72,000 kms\",Diesel\\nChevrolet Sail UVA Petrol LT ABS,Chevrolet,2013,\"2,10,000\",\"60,000 kms\",Petrol\\nRenault Duster 110 PS RxZ Diesel Plus,Renault,2012,\"5,01,000\",\"38,000 kms\",Diesel\\nHyundai Verna Fluidic 1.6 VTVT SX,Hyundai,2013,\"4,01,000\",\"45,000 kms\",Diesel\\nAudi A4 2.0 TDI 177bhp Premium,Audi,2012,\"13,50,000\",\"40,000 kms\",Diesel\\nHyundai Elantra SX,Hyundai,2013,\"6,00,000\",\"20,000 kms\",Petrol\\nMahindra Scorpio VLX 4WD Airbag,Mahindra,2013,\"6,10,000\",\"35,000 kms\",Diesel\\nMahindra KUV100 K8 D 6 STR,Mahindra,2016,\"4,00,000\",\"20,000 kms\",Diesel\\nRenault Scala RxL Diesel Travelogue,Renault,2015,\"3,75,000\",\"25,000 kms\",Diesel\\nMahindra Quanto C8,Mahindra,2013,\"3,75,000\",\"20,000 kms\",Diesel\\nHyundai Grand i10 Sportz O 1.2 Kappa VTVT,Hyundai,2014,\"3,65,000\",\"20,000 kms\",Petrol\\nHyundai i20 Active 1.2 SX,Hyundai,2015,\"5,00,000\",\"18,000 kms\",Petrol\\nMahindra Xylo E4,Mahindra,2012,\"4,00,000\",\"35,000 kms\",Diesel\\nHyundai Grand i10,Hyundai,2017,\"5,24,999\",\"6,821 kms\",Petrol\\nHyundai i20,Hyundai,2014,\"4,49,999\",\"23,000 kms\",Petrol\\nHyundai Eon,Hyundai,2014,\"1,74,999\",\"14,000 kms\",Petrol\\nHyundai i10,Hyundai,2012,\"2,44,999\",\"38,000 kms\",Petrol\\nHyundai i20 Active,Hyundai,2015,\"5,74,999\",\"35,000 kms\",Diesel\\nDatsun Redi GO,Datsun,2017,\"2,44,999\",\"22,000 kms\",Petrol\\nToyota Etios Liva,Toyota,2011,\"2,39,999\",\"41,000 kms\",Petrol\\nHyundai Accent,Hyundai,2010,\"99,999\",\"45,000 kms\",Petrol\\nHyundai Verna,Hyundai,2014,\"4,89,999\",\"44,000 kms\",Diesel\\nMaruti Suzuki Swift,Maruti,2013,\"3,24,999\",\"45,000 kms\",Diesel\\nToyota Fortuner,Toyota,2011,\"10,74,999\",\"52,000 kms\",Diesel\\nHyundai i10 Sportz,Hyundai,2012,\"2,30,000\",\"34,000 kms\",Petrol\\nMahindra Bolero Power Plus SLE,Mahindra,2018,\"6,99,000\",\"1,800 kms\",Diesel\\nselling car Ta,selling,Zest,Ask For Price,,\\nMahindra XUV500,Mahindra,2015,\"10,00,000\",\"15,000 kms\",Diesel\\nHonda City 1.5 V MT Exclusive,Honda,2010,\"2,40,000\",\"4,00,000 kms\",Petrol\\nChevrolet Spark LT 1.0 Airbag,Chevrolet,2009,\"1,10,000\",\"44,000 kms\",Petrol\\nMahindra Jeep MM 550 XDB,Mahindra,2019,\"3,90,000\",60 kms,Diesel\\nRenault Duster 110PS Diesel RxZ,Renault,2012,\"5,01,000\",\"35,000 kms\",Diesel\\nMahindra XUV500,Mahindra,2016,\"11,30,000\",\"72,000 kms\",Diesel\\nTata Indigo eCS VX CR4 BS IV,Tata,2014,\"2,50,000\",\"40,000 kms\",Diesel\\nTata Zest 90,Tata,/-Rs,Ask For Price,,\\nMahindra Bolero SLE BS IV,Mahindra,2013,\"3,30,000\",\"80,200 kms\",Diesel\\nForce Motors Force One LX ABS 7 STR,Force,2015,\"5,80,000\",\"3,200 kms\",Diesel\\nSkoda Rapid Elegance 1.6 TDI CR MT,Skoda,2013,\"3,40,000\",\"48,000 kms\",Diesel\\nTata Vista Quadrajet VX,Tata,2011,\"1,20,000\",\"90,000 kms\",Diesel\\nMaruti Suzuki Alto K10 VXi AT,Maruti,2015,\"2,65,000\",\"12,000 kms\",Petrol\\nMaruti Suzuki SX4,Maruti,2012,\"2,65,000\",\"46,000 kms\",Diesel\\nMaruti Suzuki Zen LXi BS III,Maruti,2003,\"85,000\",\"69,900 kms\",Petrol\\nMahindra Jeep CL550 MDI,Mahindra,2019,\"3,79,000\",\"0,000 kms\",Diesel\\nHyundai i10 Magna 1.2,Hyundai,2011,\"1,75,000\",\"45,000 kms\",Petrol\\nMaruti Suzuki Alto 800,Maruti,2015,\"2,19,000\",\"5,000 kms\",Petrol\\nMaruti Suzuki Swift Dzire Tour LDi,Maruti,2016,\"3,50,000\",\"1,66,000 kms\",Diesel\\nHonda City ZX EXi,Honda,2008,\"1,49,000\",\"42,000 kms\",Petrol\\nMahindra Jeep CL550 MDI,Mahindra,2018,\"3,85,000\",588 kms,Diesel\\nMahindra Jeep MM 550 XDB,Mahindra,2006,\"4,25,000\",122 kms,Diesel\\nChevrolet Beat Diesel,Chevrolet,2017,\"1,50,000\",\"62,000 kms\",Diesel\\nHonda City 1.5 S MT,Honda,2010,\"2,25,000\",\"70,000 kms\",Petrol\\nMaruti Suzuki Swift Dzire car,Maruti,sale,\"3,00,000\",,\\nHyundai Verna 1.4 VTVT,Hyundai,2014,\"3,75,000\",\"36,000 kms\",Petrol\\nToyota Innova 2.5 E MS 7 STR BS IV,Toyota,2012,\"7,70,000\",0 kms,Diesel\\nMaruti Suzuki Alto 800 Lxi,Maruti,2018,Ask For Price,\"24,000 kms\",Petrol\\nMaruti Suzuki Maruti 800 Std \\xe2\\x80\\x93 Befo,Maruti,1995,\"30,000\",\"55,000 kms\",Petrol\\nToyota Etios,Toyota,2011,\"2,75,000\",\"36,000 kms\",Diesel\\nVolkswagen Polo,Volkswagen,2015,\"3,30,000\",\"38,000 kms\",Diesel\\nMaruti Suzuki Swift,Maruti,2014,\"3,35,000\",\"55,000 kms\",Diesel\\nHyundai Elite i20 Asta 1.4 CRDI,Hyundai,2015,\"4,50,000\",\"20,000 kms\",Diesel\\nMaruti Suzuki Swift Dzire VXi 1.2 BS IV,Maruti,2012,\"2,25,000\",\"40,000 kms\",Petrol\\nMaruti Suzuki Swift Dzire Tour (Gat,Maruti,ara),\"3,00,000\",,\\nMaruti Suzuki Versa DX2 8 SEATER BSIII,Maruti,2004,\"80,000\",\"50,000 kms\",Petrol\\nTata Indigo LX TDI BS III,Tata,2016,\"1,30,000\",\"1,04,000 kms\",Diesel\\nVolkswagen Vento Konekt Diesel Highline,Volkswagen,2011,\"2,45,000\",\"65,000 kms\",Diesel\\nMercedes Benz C Class 200 CDI Classic,Mercedes,2002,\"3,99,000\",\"41,000 kms\",Petrol\\nMaruti Suzuki Ertiga VDi,Maruti,2013,\"4,50,000\",\"90,000 kms\",Diesel\\nURJE,URJENT,SELL,\"1,80,000\",,\\nHonda City,Honda,2000,\"65,000\",\"80,000 kms\",Petrol\\nHyundai Santro Xing GLS,Hyundai,2006,\"75,000\",\"46,000 kms\",Petrol\\nMaruti Suzuki Omni Limited Edition,Maruti,2001,\"70,000\",\"70,000 kms\",Petrol\\nHyundai Sonata Transform 2.4 GDi MT,Hyundai,2017,\"1,90,000\",\"36,469 kms\",Diesel\\nHyundai Elite i20 Sportz 1.2,Hyundai,2018,\"6,00,000\",\"7,800 kms\",Petrol\\nVolkswagen Vento Konekt Diesel Highline,Volkswagen,2011,\"2,45,000\",\"65,000 kms\",Diesel\\nMaruti Suzuki Alto 800 Lxi,Maruti,2017,\"2,40,000\",\"60,000 kms\",Petrol\\nMaruti Suzuki Alto LXi BS III,Maruti,2011,\"1,55,000\",\"32,000 kms\",Petrol\\nHonda Jazz S MT,Honda,2009,\"1,69,999\",\"24,695 kms\",Petrol\\nHyundai Grand i10 Sportz 1.2 Kappa VTVT,Hyundai,2017,\"4,50,000\",\"15,141 kms\",Petrol\\nMaruti Suzuki Zen LXi BSII,Maruti,2001,\"40,000\",\"40,000 kms\",Petrol\\nMahindra Scorpio W Turbo 2.6DX 9 Seater,Mahindra,2012,\"1,65,000\",\"65,000 kms\",Diesel\\nSwift Dzire Tour 27 Dec 2016 Regis,Swift,tion,\"3,70,000\",,\\nMaruti Suzuki Alto K10 VXi,Maruti,2014,\"2,70,000\",\"22,000 kms\",Petrol\\nHyundai Grand i10 Asta 1.2 Kappa VTVT,Hyundai,2016,\"2,80,000\",\"59,910 kms\",Diesel\\nMahindra XUV500 W8,Mahindra,2012,\"5,60,000\",\"1,00,000 kms\",Diesel\\nHyundai Creta 1.6 SX Plus Petrol,Hyundai,2016,\"9,50,000\",\"25,000 kms\",Petrol\\nHyundai i20 Magna O 1.2,Hyundai,2013,\"3,10,000\",\"35,000 kms\",Petrol\\nRenault Duster 85 PS RxL Explore LE,Renault,2015,\"7,15,000\",\"65,000 kms\",Diesel\\nHyundai Grand i10 Sportz 1.2 Kappa VTVT,Hyundai,2014,\"3,40,000\",\"35,000 kms\",Petrol\\nHonda Brio V MT,Honda,2012,\"2,35,000\",\"33,000 kms\",Petrol\\nMahindra TUV300 T4 Plus,Mahindra,2017,\"6,10,000\",\"68,000 kms\",Diesel\\nChevrolet Spark LS 1.0,Chevrolet,2010,\"95,000\",\"23,000 kms\",Petrol\\nMahindra TUV300 T8,Mahindra,2018,\"10,00,000\",\"4,500 kms\",Diesel\\nMaruti Suzuki Swift Dzire Tour LDi,Maruti,2015,\"2,20,000\",\"1,29,000 kms\",Diesel\\nNissan X Trail Select Variant,Nissan,2019,\"12,00,000\",300 kms,Diesel\\nMaruti Suzuki Alto 800 Vxi,Maruti,2015,\"2,30,000\",\"5,000 kms\",Petrol\\nFord Ikon 1.3 CLXi NXt Finesse,Ford,2001,\"45,000\",\"65,000 kms\",Petrol\\nToyota Fortuner 3.0 4x4 MT,Toyota,2010,\"9,40,000\",\"1,31,000 kms\",Diesel\\nTata Manza ELAN Quadrajet,Tata,2010,\"1,55,555\",\"1,11,111 kms\",Petrol\\nTata zest x,Tata,odel,\"3,20,000\",,\\nMahindra xyl,Mahindra,2 bs,\"3,50,000\",,\\nMercedes Benz A Class A 180 Sport Petrol,Mercedes,2013,\"15,00,000\",\"14,000 kms\",Petrol\\nChevrolet Beat LS Diesel,Chevrolet,2016,\"2,10,000\",\"22,000 kms\",Diesel\\nFord EcoSport Trend 1.5L TDCi,Ford,2013,\"4,95,000\",\"38,000 kms\",Diesel\\nTata Indigo LS,Tata,2016,\"1,25,000\",\"70,000 kms\",Diesel\\nHyundai i20 Magna 1.2,Hyundai,2010,\"1,95,000\",\"36,000 kms\",Petrol\\nVolkswagen Vento Highline Plus 1.5 Diesel AT,Volkswagen,2015,\"5,50,000\",\"34,000 kms\",Diesel\\nRenault Kwid RXT,Renault,2015,\"2,70,000\",\"43,000 kms\",Petrol\\nUsed Commercial Maruti Omn,Used,arry,\"1,50,000\",,\\nFord EcoSport Titanium 1.5L TDCi,Ford,2014,\"5,00,000\",\"40,000 kms\",Diesel\\nHonda Amaze 1.5 E i DTEC,Honda,2016,\"2,40,000\",\"1,60,000 kms\",Diesel\\nHyundai Verna 1.6 EX VTVT,Hyundai,2017,\"8,00,000\",\"12,000 kms\",Petrol\\nBMW 5 Series 520d Sedan,BMW,2011,\"12,99,000\",\"49,000 kms\",Diesel\\nSkoda Superb 1.8 TFSI AT,Skoda,2011,\"5,30,000\",\"68,000 kms\",Petrol\\nAudi Q3 2.0 TDI quattro Premium,Audi,2013,\"14,99,000\",\"37,000 kms\",Diesel\\nMahindra Bolero DI BSII,Mahindra,2012,\"2,20,000\",\"59,466 kms\",Diesel\\nMaruti Suzuki Zen Estilo LXI Green CNG,Maruti,2011,Ask For Price,\"16,000 kms\",Petrol\\nMahindra Scorpio S10,Mahindra,2015,\"9,00,000\",\"97,200 kms\",Diesel\\nFord Figo Duratorq Diesel Titanium 1.4,Ford,2012,\"2,50,000\",\"99,000 kms\",Diesel\\nMaruti Suzuki Wagon R VXI BS IV,Maruti,2018,\"3,95,000\",\"25,500 kms\",Petrol\\nMahindra Logan Diesel 1.5 DLS,Mahindra,2009,\"1,30,000\",\"66,000 kms\",Petrol\\nTata Nano GenX XMA,Tata,2010,\"32,000\",\"44,005 kms\",Petrol\\nMahindra TUV300 T4 Plus,Mahindra,2016,\"5,40,000\",\"35,000 kms\",Diesel\\nMahindra TUV300 T4 Plus,Mahindra,2016,\"5,40,000\",\"35,000 kms\",Diesel\\nHyundai Elite i20 Magna 1.2,Hyundai,2015,\"4,05,000\",\"28,000 kms\",Petrol\\nHyundai Elite i20 Magna 1.2,Hyundai,2015,\"4,00,000\",\"30,000 kms\",Petrol\\nHonda City SV,Honda,2017,\"7,60,000\",\"4,000 kms\",Petrol\\nMaruti Suzuki Baleno Delta 1.2,Maruti,2016,\"5,00,000\",\"28,000 kms\",Petrol\\nFord Figo Petrol LXI,Ford,2011,\"1,75,000\",\"75,000 kms\",Petrol\\nMahindra Scorpio S10,Mahindra,2015,\"9,00,000\",\"97,200 kms\",Diesel\\nHonda City,Honda,2017,\"7,50,000\",\"3,000 kms\",Petrol\\nHyundai Elite i20 Magna 1.2,Hyundai,2015,\"4,19,000\",\"20,000 kms\",Petrol\\nMaruti Suzuki Versa DX2 8 SEATER BSIII,Maruti,2004,\"90,000\",\"50,000 kms\",Petrol\\nHyundai Eon Era Plus,Hyundai,2018,\"1,40,000\",\"2,110 kms\",Petrol\\nMitsubishi Pajero Sport Limited Edition,Mitsubishi,2015,\"15,40,000\",\"43,222 kms\",Petrol\\nHyundai i10 Magna 1.2 Kappa2,Hyundai,2008,\"2,75,000\",\"1,00,200 kms\",Petrol\\nToyota Corolla H2,Toyota,2003,\"1,50,000\",\"1,00,000 kms\",Petrol\\nMaruti Suzuki Swift Dzire Tour VXi,Maruti,2011,\"2,30,000\",65 kms,Petrol\\nTata Indigo CS eLS BS IV,Tata,2015,\"1,23,000\",\"1,00,000 kms\",Diesel\\nMahindra Scorpio S10,Mahindra,2015,\"9,00,000\",\"97,200 kms\",Diesel\\nMahindra Scorpio S10,Mahindra,2015,\"9,00,000\",\"97,200 kms\",Diesel\\nHyundai Xcent Base 1.1 CRDi,Hyundai,2016,\"3,00,000\",\"1,40,000 kms\",Diesel\\nHonda City,Honda,2015,\"4,99,999\",\"55,000 kms\",Petrol\\nHyundai Accent Executive Edition,Hyundai,2009,\"1,65,000\",\"48,000 kms\",Petrol\\nMaruti Suzuki Baleno Delta 1.2,Maruti,2016,\"4,98,000\",\"22,000 kms\",Petrol\\nTata Zest XE 75 PS Diesel,Tata,2018,\"4,80,000\",\"1,03,553 kms\",Diesel\\nMaruti Suzuki Dzire LDI,Maruti,2017,\"4,88,000\",\"80,000 kms\",Diesel\\nTata Sumo Gold LX BS IV,Tata,2014,\"2,50,000\",\"99,000 kms\",Diesel\\nToyota Corolla Altis GL Petrol,Toyota,2010,\"2,20,000\",\"58,000 kms\",Petrol\\nMaruti Suzuki Eeco 7 STR,Maruti,2013,\"2,90,000\",\"70,000 kms\",LPG\\nToyota Fortuner 3.0 4x2 MT,Toyota,2015,\"15,25,000\",\"1,20,000 kms\",Diesel\\nMahindra XUV500 W6,Mahindra,2013,\"5,48,900\",\"49,800 kms\",Diesel\\nTata Tigor Revotron XZ,Tata,2019,\"6,50,000\",100 kms,Diesel\\nMaruti Suzuki 800,Maruti,2001,\"55,000\",\"81,876 kms\",Petrol\\nMaruti Suzuki Ertiga Vxi,Maruti,2015,\"5,50,000\",\"75,000 kms\",Petrol\\nMaruti Suzuki Versa DX2 8 SEATER BSIII,Maruti,2004,\"90,000\",\"50,000 kms\",Petrol\\nHonda Mobilio S i DTEC,Honda,2014,\"3,99,000\",\"44,000 kms\",Diesel\\nMaruti Suzuki Ertiga,Maruti,2016,\"7,30,000\",\"55,000 kms\",Diesel\\nMaruti Suzuki Vitara Brezza,Maruti,2017,\"7,25,000\",\"36,000 kms\",Diesel\\nHyundai Verna 1.6 CRDI E,Hyundai,2016,\"1,95,000\",\"56,000 kms\",Diesel\\nMaruti Suzuki Swift VXI BSIII,Maruti,2007,\"1,30,000\",\"62,000 kms\",Petrol\\nToyota Fortuner 3.0 4x2 MT,Toyota,2015,\"15,25,000\",\"1,20,000 kms\",Diesel\\nMaruti Suzuki Omni Select Variant,Maruti,2014,\"1,90,000\",\"6,020 kms\",Petrol\\nHonda Amaze,Honda,2013,\"2,50,000\",\"55,700 kms\",Diesel\\nTata Indica,Tata,2005,\"80,000\",\"42,000 kms\",Petrol\\nHyundai Santro Xing,Hyundai,2003,\"1,20,000\",\"50,000 kms\",Petrol\\nMaruti Suzuki Zen Estilo,Maruti,2010,\"1,49,000\",\"35,000 kms\",Petrol\\nMaruti Suzuki Wagon R LXI BS IV,Maruti,2014,\"2,50,000\",\"18,500 kms\",Petrol\\nMaruti Suzuki Wagon R,Maruti,2007,\"1,20,000\",\"7,000 kms\",Petrol\\nHonda Brio VX AT,Honda,2017,\"4,50,000\",\"11,000 kms\",Petrol\\nHyundai Xcent Base 1.1 CRDi,Hyundai,2015,Ask For Price,\"1,80,000 kms\",Diesel\\nMaruti Suzuki Zen LXi BSII,Maruti,2003,\"99,999\",\"53,000 kms\",Petrol\\nMaruti Suzuki Zen Estilo LXI Green CNG,Maruti,2008,\"1,35,000\",\"23,000 kms\",Petrol\\nMaruti Suzuki Wagon R Select Variant,Maruti,2016,\"2,25,000\",\"35,500 kms\",Diesel\\nMaruti Suzuki Alto LXi BS III,Maruti,2010,\"99,000\",\"22,134 kms\",Petrol\\nRenault Kwid RXT,Renault,2019,\"3,70,000\",\"1,000 kms\",Petrol\\nTata Nano Lx BSIV,Tata,2010,\"52,000\",\"9,000 kms\",Petrol\\nJaguar XE XE Portfolio,Jaguar,2016,\"28,00,000\",\"8,500 kms\",Petrol\\nHyundai Xcent S 1.2,Hyundai,2015,Ask For Price,\"35,000 kms\",Petrol\\nHyundai Eon Magna Plus,Hyundai,2014,\"1,90,000\",\"35,000 kms\",Petrol\\nHonda City 1.5 S MT,Honda,2014,\"4,99,000\",\"22,000 kms\",Petrol\\nHindustan Motors Ambassador,Hindustan,2002,\"90,000\",\"25,000 kms\",Diesel\\nMaruti Suzuki Ritz GENUS VXI,Maruti,2010,\"1,49,000\",\"40,000 kms\",Petrol\\nHyundai Grand i10 Magna AT 1.2 Kappa VTVT,Hyundai,2017,\"4,00,000\",\"20,000 kms\",Petrol\\nHyundai Eon D Lite Plus,Hyundai,2016,\"1,20,000\",\"87,000 kms\",Petrol\\nMaruti Suzuki Swift Dzire VXi 1.2 BS IV,Maruti,2015,\"2,50,000\",\"55,000 kms\",Petrol\\nMaruti Suzuki Wagon R VXI BS IV,Maruti,2017,\"3,75,000\",\"23,000 kms\",Petrol\\nHonda Amaze 1.2 VX i VTEC,Honda,2014,\"3,81,000\",\"6,000 kms\",Petrol\\nMaruti Suzuki Estilo VXi ABS BS IV,Maruti,2013,\"1,80,000\",\"65,000 kms\",Petrol\\nMaruti Suzuki Vitara Brezza LDi O,Maruti,2016,\"5,80,000\",\"25,000 kms\",Diesel\\nMaruti Suzuki Eeco 5 STR WITH AC HTR,Maruti,2015,\"2,78,000\",\"39,000 kms\",Petrol\\nToyota Innova 2.0 V,Toyota,2009,Ask For Price,\"15,574 kms\",Diesel\\nHyundai Creta 1.6 SX Plus Petrol AT,Hyundai,2016,\"10,00,000\",\"8,000 kms\",Petrol\\nMahindra Scorpio Vlx BSIV,Mahindra,2013,\"6,90,000\",\"75,000 kms\",Diesel\\nMaruti Suzuki Ertiga VDi,Maruti,2012,\"4,80,000\",\"51,000 kms\",Diesel\\nMitsubishi Lancer 1.8 LXi,Mitsubishi,2006,\"85,000\",\"50,000 kms\",Petrol\\nMaruti Suzuki Maruti 800 AC,Maruti,2001,\"40,000\",\"75,000 kms\",Petrol\\nMaruti Suzuki Alto 800 LXI CNG O,Maruti,2015,\"90,000\",\"55,800 kms\",Petrol\\nHyundai Grand i10 Magna 1.2 Kappa VTVT,Hyundai,2015,\"3,40,000\",\"53,000 kms\",Petrol\\nHyundai Eon D Lite Plus,Hyundai,2018,\"2,60,000\",\"25,000 kms\",Petrol\\nFord Fiesta SXi 1.6 ABS,Ford,2009,\"2,50,000\",\"56,400 kms\",Petrol\\nMaruti Suzuki Ritz VDi,Maruti,2010,\"1,80,000\",\"72,160 kms\",Diesel\\nHyundai Verna Fluidic New,Hyundai,2012,\"3,50,000\",\"10,000 kms\",Diesel\\nMaruti Suzuki Wagon R LXi BS III,Maruti,2006,\"90,001\",\"48,000 kms\",Petrol\\nMaruti Suzuki Estilo LX BS IV,Maruti,2007,\"1,15,000\",\"36,000 kms\",Petrol\\nAudi A6 2.0 TDI Premium,Audi,2012,\"15,99,000\",\"11,500 kms\",Diesel\\nMaruti Suzuki Wagon R LXi BS III,Maruti,2003,\"1,30,000\",\"1,33,000 kms\",Petrol\\nMaruti Suzuki Wagon R,Maruti,2009,\"1,59,000\",\"27,000 kms\",Petrol\\nMaruti Suzuki Wagon R,Maruti,2009,\"1,60,000\",\"35,000 kms\",Petrol\\nMaruti Suzuki Alto,Maruti,2010,\"1,10,000\",\"55,000 kms\",Petrol\\nMaruti Suzuki Baleno Sigma 1.2,Maruti,2016,\"4,25,000\",\"40,000 kms\",Petrol\\nHyundai Verna 1.6 SX VTVT AT,Hyundai,2019,\"9,00,000\",\"2,000 kms\",Petrol\\nMaruti Suzuki Swift GLAM,Maruti,2009,\"1,50,000\",\"45,000 kms\",Petrol\\nHyundai Getz Prime 1.3 GVS,Hyundai,2009,\"1,10,000\",\"20,000 kms\",Petrol\\nHyundai Santro,Hyundai,2000,\"51,999\",\"88,000 kms\",Petrol\\nHyundai Getz Prime 1.3 GLX,Hyundai,2009,\"1,15,000\",\"20,000 kms\",Petrol\\nChevrolet Beat PS Diesel,Chevrolet,2012,\"2,15,000\",\"65,422 kms\",Diesel\\nFord EcoSport Trend 1.5 Ti VCT,Ford,2017,\"5,80,000\",\"10,000 kms\",Petrol\\nMaruti Suzuki Dzire ZXI,Maruti,2013,\"3,80,000\",\"35,000 kms\",Petrol\\nHyundai Fluidic Verna 1.6 CRDi SX,Hyundai,2013,\"3,50,000\",\"1,17,000 kms\",Diesel\\nTata Indica V2 DLG,Tata,2005,\"35,000\",\"1,50,000 kms\",Diesel\\nBMW X1 xDrive20d xLine,BMW,2011,\"11,50,000\",\"72,000 kms\",Diesel\\nHyundai i20 Asta 1.2,Hyundai,2010,\"3,00,000\",\"10,750 kms\",Petrol\\nHonda City 1.5 V AT,Honda,2009,\"2,69,000\",\"55,000 kms\",Petrol\\nTata Nano,Tata,2013,\"60,000\",\"6,800 kms\",Petrol\\nChevrolet Cruze LTZ AT,Chevrolet,2014,\"4,00,000\",\"41,000 kms\",Diesel\\nHyundai Verna Fluidic New,Hyundai,2015,\"4,30,000\",\"73,000 kms\",Diesel\\nHyun,Hyundai,Eon,Ask For Price,,\\nMaruti Suzuki Swift Dzire VDi,Maruti,2011,\"1,40,000\",\"65,000 kms\",Diesel\\nMahindra XUV500 W6,Mahindra,2014,\"85,00,003\",\"45,000 kms\",Diesel\\nMahindra XUV500 W10,Mahindra,2018,\"12,99,000\",\"40,000 kms\",Diesel\\nMaruti Suzuki Alto K10 LXi CNG,Maruti,2014,\"1,99,000\",\"37,000 kms\",Petrol\\nHyundai Accent GLE,Hyundai,2006,\"90,000\",\"55,000 kms\",Petrol\\nForce Motors One SUV,Force,2013,\"5,50,000\",\"1,40,000 kms\",Diesel\\nDatsun Go Plus T O,Datsun,2016,Ask For Price,5 kms,Petrol\\nMaruti Suzuki Alto,Maruti,2019,\"2,65,000\",\"9,800 kms\",Petrol\\nChevrolet Spark 1.0 LT,Chevrolet,2011,\"1,00,000\",\"27,000 kms\",Petrol\\nHyundai i10,Hyundai,2009,\"2,15,000\",\"27,000 kms\",Petrol\\nToyota Etios Liva GD,Toyota,2012,\"3,80,000\",\"20,000 kms\",Diesel\\nRenault Duster 85PS Diesel RxL Optional with Nav,Renault,2013,\"4,01,919\",\"57,923 kms\",Diesel\\nChevrolet Enjoy,Chevrolet,2014,\"4,90,000\",\"30,201 kms\",Diesel\\nMaruti Suzuki Alto 800 Lxi,Maruti,2017,\"2,80,000\",\"6,200 kms\",Petrol\\nBMW 5 Series 530i,BMW,2009,\"6,50,000\",\"37,518 kms\",Petrol\\nToyota Etios Liva G,Toyota,2014,\"1,60,000\",\"24,652 kms\",Petrol\\nMahindra Jeep MM 550 XDB,Mahindra,2004,\"4,24,000\",383 kms,Diesel\\nChevrolet Beat LS Diesel,Chevrolet,2016,\"2,25,000\",\"95,000 kms\",Diesel\\nChevrolet Cruze LTZ,Chevrolet,2011,\"3,50,000\",\"35,000 kms\",Diesel\\nJeep Wrangler Unlimited 4x4 Diesel,Jeep,2015,\"9,50,000\",\"3,528 kms\",Diesel\\nMaruti Suzuki Ertiga VDi,Maruti,2013,\"4,85,000\",\"52,500 kms\",Diesel\\nHyundai Verna VGT CRDi SX ABS,Hyundai,2010,\"2,05,000\",\"47,900 kms\",Diesel\\nMaruti Suzuki Omni,Maruti,2012,\"1,60,000\",\"14,000 kms\",Petrol\\nMaruti Suzuki Celerio VDi,Maruti,2018,\"3,10,000\",\"37,000 kms\",Petrol\\nTata Zest Quadrajet 1.3,Tata,2017,\"1,80,000\",\"90,000 kms\",Diesel\\nMahindra XUV500 W6,Mahindra,2013,\"5,49,900\",\"52,800 kms\",Diesel\\nTata Indigo CS eLX BS IV,Tata,2016,\"1,50,000\",\"1,04,000 kms\",Diesel\\nHyundai i10 Era,Hyundai,2011,\"1,75,000\",\"30,000 kms\",Petrol\\nTata Indigo eCS LX TDI BS III,Tata,2014,\"95,000\",\"1,95,000 kms\",Diesel\\nTata Indigo LX TDI BS III,Tata,2016,\"2,30,000\",\"1,04,000 kms\",Diesel\\nTata Indigo eCS LX CR4 BS IV,Tata,2016,\"2,30,000\",\"1,04,000 kms\",Diesel\\nTata Indigo Marina LS,Tata,2004,\"1,80,000\",\"70,000 kms\",Diesel\\nCommercial Chevrolet Sail Hatchback ca,Commercial,o...,\"2,25,000\",,\\nHyundai Xcent SX 1.2,Hyundai,2015,\"4,00,000\",\"43,000 kms\",Diesel\\nHyundai Eon Magna Plus,Hyundai,2013,\"1,85,000\",\"23,000 kms\",Petrol\\nRenault Duster 85 PS RxL Diesel,Renault,2015,\"3,85,000\",\"51,000 kms\",Diesel\\nMaruti Suzuki Alto K10 LXi CNG,Maruti,2009,\"90,000\",\"62,000 kms\",Petrol\\nTata Nano LX Special Edition,Tata,2010,\"32,000\",\"48,008 kms\",Petrol\\nCommercial Car Ta,Commercial,Zest,\"3,71,500\",,\\nRenault Duster 110 PS RxZ Diesel,Renault,2013,\"4,35,000\",\"39,000 kms\",Diesel\\nMaruti Suzuki Wagon R AX BSIV,Maruti,2010,\"2,25,000\",\"40,000 kms\",Petrol\\nMaruti Suzuki Swift,Maruti,2006,\"1,89,700\",\"48,247 kms\",Petrol\\nMaruti Suzuki Ertiga,Maruti,2012,\"3,89,700\",\"39,000 kms\",Diesel\\nMaruti Suzuki Swift VXi 1.2 ABS BS IV,Maruti,2014,\"3,65,000\",\"23,000 kms\",Petrol\\nMaruti Suzuki Alto K10 New,Maruti,2017,\"3,60,000\",\"9,400 kms\",Petrol\\nHyundai i20 Magna,Hyundai,2010,\"2,10,000\",\"50,000 kms\",Petrol\\nHyundai i10 Magna 1.2,Hyundai,2009,\"1,70,000\",\"75,000 kms\",Petrol\\ntata Indica,tata,sale,\"1,30,000\",,\\nTata Zest XE 75 PS Diesel,Tata,2017,\"3,80,000\",\"70,000 kms\",Diesel\\nMahindra Xylo E8,Mahindra,2009,\"2,95,000\",\"64,000 kms\",Diesel\\nToyota Corolla Altis GL Petrol,Toyota,2010,\"1,85,000\",\"55,000 kms\",Petrol\\nTata Manza Aqua Quadrajet,Tata,2014,\"1,60,000\",\"2,00,000 kms\",Diesel\\nMahindra KUV100 K8 D 6 STR,Mahindra,2018,Ask For Price,\"7,500 kms\",Diesel\\nUsed bt new conditions ta,Used,Zest,\"2,55,000\",,\\nRenault Kwid 1.0,Renault,2018,\"2,90,000\",\"2,137 kms\",Petrol\\nSale tata,Sale,ture,\"1,00,000\",,\\nTata Venture EX 8 STR,Tata,2013,\"1,00,000\",\"30,000 kms\",Diesel\\nMaruti Suzuki Swift Dzire Tour LXi,Maruti,2014,\"3,15,000\",\"44,000 kms\",Petrol\\nMaruti Suzuki Alto LX BSII,Maruti,2002,Ask For Price,\"56,000 kms\",Petrol\\nSkoda Octavia Classic 1.9 TDI MT,Skoda,2006,\"1,14,990\",\"65,000 kms\",Diesel\\nMaruti Suzuki Omni LPG BS IV,Maruti,2012,\"1,20,000\",\"1,60,000 kms\",LPG\\nChevrolet Beat Diesel,Chevrolet,2011,\"1,25,000\",\"56,000 kms\",Diesel\\nTata Sumo Gold EX BS IV,Tata,2012,\"2,10,000\",\"75,000 kms\",Diesel\\nTata indigo 2017 top model..,Tata,emi,\"1,70,000\",,\\nHyundai Verna 1.6 CRDI SX,Hyundai,2018,\"8,55,000\",\"42,000 kms\",Diesel\\nTata Sumo Gold EX BS IV,Tata,2012,\"2,10,000\",\"75,000 kms\",Diesel\\nMahindra Scorpio 2.6 CRDe,Mahindra,2007,\"2,60,000\",\"56,000 kms\",Diesel\\nMaruti Suzuki Zen LXi BS III,Maruti,2002,\"95,000\",\"10,544 kms\",Petrol\\nMaruti Suzuki Swift Dzire VXi 1.2 BS IV,Maruti,2011,\"2,55,000\",\"64,000 kms\",Petrol\\nMahindra Scorpio SLX 2.6 Turbo 8 Str,Mahindra,2008,\"3,00,000\",\"70,000 kms\",Diesel\\nHyundai Grand i10 Sportz 1.2 Kappa VTVT,Hyundai,2014,\"3,40,000\",\"25,000 kms\",Petrol\\nHyundai Elite i20 Sportz 1.2,Hyundai,2017,\"5,50,000\",\"15,000 kms\",Petrol\\nFord Ikon 1.6 Nxt,Ford,2003,\"60,000\",\"50,000 kms\",Petrol\\nHyundai Elite i20 Sportz 1.2,Hyundai,2015,Ask For Price,\"49,500 kms\",Petrol\\nTata indigo,Tata,car,\"1,50,000\",,\\nToyota Innova 2.5 V 7 STR,Toyota,2011,\"7,50,000\",\"1,47,000 kms\",Diesel\\nNissan Sunny XL,Nissan,2011,\"2,30,000\",\"52,000 kms\",Petrol\\nChevrolet Beat LT Diesel,Chevrolet,2012,\"1,30,000\",\"90,001 kms\",Diesel\\nMaruti Suzuki Alto 800 Lxi,Maruti,2017,\"2,70,000\",\"21,000 kms\",Petrol\\nMaruti Suzuki Swift VDi BS IV,Maruti,2012,\"2,80,000\",\"48,006 kms\",Diesel\\nMaruti Suzuki Swift VDi BS IV,Maruti,2012,\"2,80,000\",\"48,006 kms\",Diesel\\nMaruti Suzuki Swift,Maruti,2012,\"2,80,000\",\"48,006 kms\",Diesel\\nvery good condition tata bolts are av,very,able,\"2,00,000\",,\\nToyota Innova 2.0 G4,Toyota,2012,\"6,00,000\",\"80,000 kms\",Diesel\\nSale Hyundai xcent commerc,Sale,no.,Ask For Price,,\\nMaruti Suzuki Swift VDi ABS,Maruti,2010,\"1,90,000\",\"74,000 kms\",Diesel\\nHyundai Elite i20 Asta 1.2,Hyundai,2015,\"5,00,000\",\"22,000 kms\",Petrol\\nMahindra XUV500 W10,Mahindra,2016,\"10,65,000\",\"41,000 kms\",Diesel\\nVolkswagen Polo Trendline 1.5L D,Volkswagen,2015,\"3,50,000\",\"25,000 kms\",Diesel\\nToyota Etios Liva Diesel,Toyota,2012,\"3,50,000\",\"85,000 kms\",Diesel\\nMahindra TUV300 T4 Plus,Mahindra,2016,\"5,40,000\",\"29,500 kms\",Diesel\\nHyundai Elite i20 Asta 1.2,Hyundai,2015,\"4,70,000\",\"30,000 kms\",Petrol\\nHyundai Santro Xing GLS,Hyundai,2014,\"1,79,000\",\"57,000 kms\",Petrol\\nMaruti Suzuki Zen LXi BS III,Maruti,2003,\"48,000\",\"60,000 kms\",Petrol\\nMaruti Suzuki Ciaz ZXi Plus RS,Maruti,2016,\"6,50,000\",\"50,000 kms\",Petrol\\nHyundai Eon Era Plus,Hyundai,2013,\"1,90,000\",\"39,700 kms\",Petrol\\nHyundai Elantra 1.8 S,Hyundai,2012,\"5,00,000\",\"65,000 kms\",Petrol\\nMaruti Suzuki Swift VDi,Maruti,2010,\"2,70,000\",\"67,000 kms\",Diesel\\nMaruti Suzuki Zen Estilo LXI Green CNG,Maruti,2008,\"1,25,000\",\"46,000 kms\",Petrol\\nHyundai Eon Era Plus,Hyundai,2012,\"1,88,000\",\"38,000 kms\",Petrol\\nHyundai Grand i10 Magna 1.2 Kappa VTVT,Hyundai,2016,\"3,80,000\",\"27,000 kms\",Petrol\\nHyundai Verna Fluidic New,Hyundai,2011,\"3,65,000\",\"43,000 kms\",Diesel\\nFord EcoSport Trend 1.5L Ti VCT,Ford,2014,\"4,65,000\",\"47,000 kms\",Petrol\\nHyundai i20 Magna,Hyundai,2011,\"2,40,000\",\"42,000 kms\",Petrol\\nChevrolet Beat Diesel,Chevrolet,2016,\"1,79,999\",\"19,336 kms\",Diesel\\nTata Indica eV2 LS,Tata,2015,\"1,40,000\",\"60,105 kms\",Diesel\\nJaguar XF 2.2 Diesel Luxury,Jaguar,2013,\"21,90,000\",\"29,000 kms\",Diesel\\nAudi Q5 2.0 TDI quattro Premium Plus,Audi,2014,\"23,90,000\",\"34,000 kms\",Diesel\\nBMW 3 Series 320d Sedan,BMW,2011,\"10,75,000\",\"35,000 kms\",Diesel\\nMaruti Suzuki Swift ZXi 1.2 BS IV,Maruti,2015,\"4,75,000\",\"22,000 kms\",Petrol\\nBMW X1 sDrive20d,BMW,2012,\"10,25,000\",\"41,000 kms\",Diesel\\nMaruti Suzuki S Cross Sigma 1.3,Maruti,2016,\"6,15,000\",\"21,000 kms\",Diesel\\nMaruti Suzuki Ertiga LDi,Maruti,2013,\"4,75,000\",\"48,000 kms\",Diesel\\nMaruti Suzuki Alto K10 VXi AMT,Maruti,2016,\"2,70,000\",\"38,000 kms\",Petrol\\nHonda City SV,Honda,2014,\"4,75,000\",\"34,000 kms\",Diesel\\nVolkswagen Vento Comfortline Petrol,Volkswagen,2011,\"2,40,000\",\"45,933 kms\",Petrol\\nHonda City 1.5 EXi New,Honda,2005,\"1,20,000\",\"68,000 kms\",Petrol\\nAudi A4 2.0 TDI 177bhp Premium,Audi,2016,\"19,00,000\",\"44,000 kms\",Diesel\\nMahindra KUV100,Mahindra,2017,\"3,60,000\",\"35,000 kms\",Diesel\\nTata Zest XE 75 PS Diesel,Tata,2018,\"4,50,000\",\"1,02,563 kms\",Diesel\\nMahindra XUV500 W8,Mahindra,2015,\"9,00,000\",\"28,600 kms\",Diesel\\nMaruti Suzuki Swift Dzire Tour VDi,Maruti,2017,\"6,50,000\",\"41,800 kms\",Diesel\\nTata Sumo Gold LX BS IV,Tata,2014,\"2,75,000\",\"1,16,000 kms\",Diesel\\nMaruti Suzuki Swift Dzire VXi 1.2 BS IV,Maruti,2009,\"2,10,000\",\"59,000 kms\",Petrol\\nMahindra Scorpio 2.6 SLX,Mahindra,2004,\"1,75,000\",\"58,000 kms\",Diesel\\nMaruti Suzuki Omni 8 STR BS III,Maruti,2009,\"85,000\",\"45,000 kms\",Petrol\\nMitsubishi Pajero Sport Limited Edition,Mitsubishi,2015,\"14,90,000\",\"42,590 kms\",Diesel\\nRenault Duster,Renault,2014,\"8,00,000\",\"7,400 kms\",Diesel\\nVolkswagen Jetta Comfortline 1.9 TDI AT,Volkswagen,2009,\"4,50,000\",\"54,500 kms\",Diesel\\nMaruti Suzuki Ertiga Vxi,Maruti,2012,\"10,00,000\",\"2,00,000 kms\",Diesel\\nAudi A4 2.0 TDI 177bhp Premium,Audi,2013,\"15,10,000\",\"27,000 kms\",Diesel\\nVolvo S80 Summum D4,Volvo,2015,\"18,50,000\",\"42,000 kms\",Diesel\\nToyota Corolla Altis VL AT Petrol,Toyota,2014,\"7,90,000\",\"29,000 kms\",Petrol\\nMitsubishi Pajero Sport 2.5 AT,Mitsubishi,2015,\"17,25,000\",\"37,000 kms\",Diesel\\nChevrolet Beat LT Petrol,Chevrolet,2012,\"1,35,000\",\"36,000 kms\",Petrol\\nBMW X1,BMW,2011,\"10,00,000\",\"34,000 kms\",Diesel\\nDatsun Redi GO S,Datsun,2018,\"2,99,999\",\"7,000 kms\",Petrol\\nMercedes Benz C Class C 220 CDI Avantgarde,Mercedes,2009,\"12,25,000\",\"76,000 kms\",Diesel\\nMahindra Scorpio SLX,Mahindra,2004,\"1,75,000\",\"60,000 kms\",Diesel\\nVolkswagen Vento Comfortline Diesel,Volkswagen,2011,\"2,00,000\",\"95,000 kms\",Diesel\\nTata Indigo CS GLS,Tata,2017,\"2,70,000\",\"50,000 kms\",Diesel\\nFord Figo Petrol Titanium,Ford,2019,\"5,25,000\",00 kms,Petrol\\nHonda City ZX GXi,Honda,2006,\"1,80,000\",\"50,000 kms\",Petrol\\nMaruti Suzuki Wagon R Duo Lxi,Maruti,2008,\"1,40,000\",\"68,000 kms\",Petrol\\nFord EcoSport Trend 1.5L TDCi,Ford,2014,\"4,00,000\",\"16,000 kms\",Petrol\\nMaruti Suzuki Swift Dzire VDi,Maruti,2016,\"4,99,000\",\"51,000 kms\",Diesel\\nMaruti Suzuki Omni 8 STR BS III,Maruti,2009,\"85,000\",\"56,000 kms\",Petrol\\nMaruti Suzuki Zen LX BSII,Maruti,2004,\"70,000\",\"1,00,000 kms\",Petrol\\nRenault Duster RxL Petrol,Renault,2015,\"5,50,000\",\"36,000 kms\",Petrol\\nMaruti Suzuki Swift VXi 1.2 BS IV,Maruti,2014,\"3,70,000\",\"11,523 kms\",Petrol\\nMaruti Suzuki Baleno Zeta 1.2,Maruti,2018,\"6,90,000\",\"1,000 kms\",Petrol\\nHonda WR V S MT Petrol,Honda,2009,\"2,50,000\",\"60,000 kms\",Petrol\\nTata Indigo CS eLX BS IV,Tata,2016,\"1,10,000\",\"85,000 kms\",Diesel\\nRenault Duster 110 PS RxL Diesel,Renault,2013,\"4,90,000\",\"38,600 kms\",Diesel\\nMahindra Scorpio LX BS III,Mahindra,2009,\"3,20,000\",\"95,500 kms\",Diesel\\nMaruti Suzuki Zen LXi BS III,Maruti,2004,\"68,000\",\"56,000 kms\",Petrol\\nMaruti Suzuki Wagon R LXi BS III,Maruti,2014,\"1,30,000\",\"37,458 kms\",Petrol\\nMaruti Suzuki SX4 Celebration Diesel,Maruti,2016,\"9,70,000\",\"85,960 kms\",Diesel\\nAudi A3 Cabriolet 40 TFSI,Audi,2015,\"31,00,000\",\"12,516 kms\",Petrol\\nHyundai Eon D Lite Plus,Hyundai,2018,\"2,80,000\",\"35,000 kms\",Petrol\\nMaruti Suzuki Zen Estilo LXI Green CNG,Maruti,2009,\"1,25,000\",00 kms,Petrol\\nMahindra Scorpio SLX,Mahindra,2008,\"2,85,000\",\"80,000 kms\",Diesel\\nI want to sell my commercial car due t,I,o...,\"4,75,000\",,\\nHyundai Santro AE GLS Audio,Hyundai,2011,\"1,65,000\",\"45,000 kms\",Petrol\\ni want sale my car.no emi....uber atta,i,d...,\"3,20,000\",,\\nMaruti Suzuki Swift Dzire Tour VDi,Maruti,2009,\"2,50,000\",\"51,000 kms\",Diesel\\nMahindra Scorpio S4,Mahindra,2015,\"8,65,000\",\"30,000 kms\",Diesel\\nTata ZEST 6 month old,Tata,car,\"3,70,000\",,\\nMahindra Xylo D2 BS IV,Mahindra,2011,\"3,90,000\",\"48,000 kms\",Diesel\\nHyundai Santro,Hyundai,2003,\"60,000\",\"51,000 kms\",Petrol\\nChevrolet Beat LT Diesel,Chevrolet,2015,\"2,15,000\",\"90,000 kms\",Diesel\\nMaruti Suzuki Swift Dzire VDi,Maruti,2015,\"4,75,000\",\"43,000 kms\",Diesel\\nMahindra XUV500 W8,Mahindra,2015,\"8,99,000\",\"53,000 kms\",Diesel\\nToyota Fortuner 3.0 4x4 MT,Toyota,2013,\"14,99,000\",\"97,000 kms\",Diesel\\nMaruti Suzuki Alto K10 VXi,Maruti,2013,\"2,40,000\",\"20,000 kms\",Petrol\\nHyundai Getz GLE,Hyundai,2007,\"99,000\",\"55,000 kms\",Petrol\\nMaruti Suzuki Swift Dzire Tour LDi,Maruti,2014,\"2,60,000\",\"1,20,000 kms\",Diesel\\nHyundai Creta 1.6 SX,Hyundai,2019,\"12,00,000\",0 kms,Petrol\\nHyundai Santro Xing XL AT eRLX Euro III,Hyundai,2007,\"1,15,000\",\"46,000 kms\",Petrol\\nHyundai Santro Xing XL eRLX Euro III,Hyundai,2009,\"88,000\",\"43,200 kms\",Petrol\\nMahindra Xylo D2 BS IV,Mahindra,2011,\"3,90,000\",\"56,000 kms\",Diesel\\nHyundai Santro Xing XL eRLX Euro III,Hyundai,2007,\"1,35,000\",\"42,000 kms\",Petrol\\nTata Indica V2 DLS BS III,Tata,2009,\"90,000\",\"30,600 kms\",Diesel\\nHyundai i10 Sportz 1.2,Hyundai,2011,\"2,20,000\",\"38,000 kms\",Petrol\\nHyundai Grand i10 Magna 1.2 Kappa VTVT,Hyundai,2017,\"4,24,999\",\"2,550 kms\",Petrol\\nHyundai Santro Xing XL AT eRLX Euro III,Hyundai,2007,\"1,35,000\",\"47,000 kms\",Petrol\\nHonda City 1.5 E MT,Honda,2005,\"95,000\",\"41,000 kms\",Petrol\\nNissan Micra XL,Nissan,2017,\"4,30,000\",\"62,500 kms\",Diesel\\nHonda City 1.5 S Inspire,Honda,2005,\"1,15,000\",\"68,000 kms\",Petrol\\nMaruti Suzuki Alto 800 Lxi,Maruti,2015,\"2,15,000\",\"50,000 kms\",Petrol\\nMaruti Suzuki Wagon R LX BS III,Maruti,2004,\"53,000\",\"69,000 kms\",Petrol\\nMaruti Suzuki Ertiga VDi,Maruti,2012,\"5,00,000\",\"48,000 kms\",Diesel\\nTata Indica eV2 eXeta eGLX,Tata,2012,\"85,000\",\"55,000 kms\",Diesel\\nMaruti Suzuki Omni E 8 STR BS IV,Maruti,2013,\"1,65,000\",\"25,000 kms\",Petrol\\nHyundai Eon Era Plus,Hyundai,2014,\"2,00,000\",\"28,400 kms\",Petrol\\nHyundai Eon,Hyundai,2014,\"2,00,000\",\"28,000 kms\",Petrol\\nMaruti Suzuki Swift LDi,Maruti,2015,\"4,25,000\",\"42,000 kms\",Diesel\\nMARUTI SUZUKI ERTIGA F,MARUTI,SALE,\"6,50,000\",,\\nHyundai Verna 1.6 CRDI SX Plus AT,Hyundai,2012,\"6,00,000\",\"29,000 kms\",Diesel\\nChevrolet Tavera LS B3 10 Seats BSII,Chevrolet,2005,\"1,30,000\",\"68,485 kms\",Diesel\\nTata Tiago Revotron XM,Tata,2018,\"4,30,000\",\"3,500 kms\",Petrol\\nTata Tiago Revotorq XZ,Tata,2019,\"5,68,500\",0 kms,Petrol\\nTata Nexon,Tata,2019,Ask For Price,0 kms,Petrol\\nTata,Tata,digo,Ask For Price,,\\nMaruti Suzuki Zen LXi BS III,Maruti,2006,\"71,000\",\"32,000 kms\",Petrol\\nMahindra KUV100 K8 D 6 STR,Mahindra,2018,\"5,60,000\",\"8,000 kms\",Diesel\\nFord EcoSport Titanium 1.5 TDCi,Ford,2014,\"5,90,000\",\"34,000 kms\",Diesel\\nHindustan Motors Ambassador Classic Mark 4 \\xe2\\x80\\x93 Befo,Hindustan,1995,\"7,50,000\",\"37,000 kms\",Petrol\\nFord Fusion 1.4 TDCi Diesel,Ford,2007,\"1,25,000\",\"85,455 kms\",Diesel\\nHyundai Santro Xing XL AT eRLX Euro III,Hyundai,2007,\"1,35,000\",\"46,000 kms\",Petrol\\nHyundai Santro,Hyundai,2002,\"60,000\",\"47,000 kms\",Petrol\\nFiat Linea Emotion 1.4 L T Jet Petrol,Fiat,2009,\"1,20,000\",\"64,000 kms\",Petrol\\nFord Ikon 1.3 Flair Josh 100,Ford,2008,\"95,000\",\"46,000 kms\",Petrol\\nMaruti Suzuki Omni E 8 STR BS IV,Maruti,2017,\"2,40,000\",\"8,000 kms\",Petrol\\nTata Indica V2 LS,Tata,2012,\"1,15,000\",\"64,000 kms\",Diesel\\nMahindra Scorpio S4,Mahindra,2015,\"7,95,000\",\"63,000 kms\",Diesel\\nHyundai Santro Xing XL eRLX Euro III,Hyundai,2007,\"55,000\",\"65,000 kms\",Petrol\\nMahindra Xylo D2,Mahindra,2009,\"3,00,000\",\"62,000 kms\",Diesel\\nHyundai Grand i10 Asta 1.2 Kappa VTVT,Hyundai,2014,\"3,20,000\",\"41,000 kms\",Petrol\\nMaruti Suzuki Alto 800 Lxi,Maruti,2015,\"2,65,000\",\"14,000 kms\",Petrol\\nToyota Corolla,Toyota,2006,\"1,60,000\",\"40,000 kms\",Petrol\\nHyundai Eon Magna,Hyundai,2017,\"3,00,000\",\"1,600 kms\",Petrol\\nTata Sumo Grande MKII GX,Tata,2010,\"1,30,000\",\"90,000 kms\",Diesel\\nMaruti Suzuki Swift VDi,Maruti,2011,\"2,50,000\",\"58,000 kms\",Diesel\\nVolkswagen Polo Highline1.2L P,Volkswagen,2013,\"3,80,000\",\"27,000 kms\",Petrol\\nMaruti Suzuki Alto 800 Lx,Maruti,2003,\"42,000\",\"60,000 kms\",Petrol\\nTata Tiago Revotron XZ,Tata,2017,\"4,00,000\",\"31,000 kms\",Petrol\\nMaruti Suzuki Swift LDi,Maruti,2009,\"1,20,000\",\"90,000 kms\",Diesel\\nMaruti Suzuki Swift VDi,Maruti,2009,\"1,20,000\",\"90,000 kms\",Diesel\\nTata Indigo eCS,Tata,2016,\"1,30,000\",\"1,50,000 kms\",Diesel\\nChevrolet Beat LS Diesel,Chevrolet,2014,\"1,89,000\",\"31,000 kms\",Diesel\\n2012 Tata Sumo Gold f,2012,sell,\"2,50,000\",,\\nMahindra Xylo E8 BS IV,Mahindra,2011,\"3,65,000\",\"43,000 kms\",Diesel\\nHyundai Eon D Lite Plus,Hyundai,2013,\"1,70,000\",\"20,000 kms\",Petrol\\nWell mentained Tata Sumo,Well,d Ex,\"3,80,000\",,\\nall paper updated tata indica v2 and u,all,n...,\"1,45,000\",,\\nMaruti Ertiga showroom condition with,Maruti,e...,\"4,80,000\",,\\n7 SEATER MAHINDRA BOLERO IN VERY GOOD,7,D...,Ask For Price,,\\n9 SEATER MAHINDRA BOL,9,\", Ac\",Ask For Price,,\\nscratch less Tata I,scratch,go .,\"1,40,000\",,\\nMaruti Suzuki swift dzire for sale in,Maruti,d...,\"3,60,000\",,\\nCommercial Chevrolet beat for sale in,Commercial,k...,\"1,80,000\",,\\nurgent sell my Mahindra qu,urgent,o c4,\"3,50,000\",,\\nTata Sumo Gold FX BSIII,Tata,2013,\"2,15,000\",\"1,00,000 kms\",Petrol\\nsell my car Maruti Suzuki Swif,sell,zire,\"3,00,000\",,\\nMaruti Suzuki Swift Dzire good car fo,Maruti,o...,\"3,10,000\",,\\nHyunda,Hyundai,cent,Ask For Price,,\\nCommercial Maruti Suzuki Alto Lxi 800,Commercial,...,Ask For Price,,\\nurgent sale Ta,urgent,Sumo,\"2,20,000\",,\\nMaruti Suzuki Alto vxi t,Maruti,cab,\"95,000\",,\\ntata,tata,t xe,Ask For Price,,\\nTATA INDI,TATA,EV2,\"1,10,000\",,\\nTata Nano,Tata,2013,\"60,000\",\"7,000 kms\",Petrol\\nHyundai Elite i20,Hyundai,2017,\"5,99,999\",\"31,000 kms\",Petrol\\nHyundai i10 Magna 1.2 Kappa2,Hyundai,2009,\"4,00,000\",\"33,000 kms\",Petrol\\nHyundai Creta,Hyundai,2016,\"9,00,000\",\"60,000 kms\",Diesel\\nVolkswagen Polo,Volkswagen,2013,\"2,99,999\",\"48,000 kms\",Diesel\\nMaruti Suzuki Dzire,Maruti,2014,\"3,74,999\",\"33,000 kms\",Petrol\\nTata Bolt XM Petrol,Tata,2015,\"6,00,000\",\"15,000 kms\",Petrol\\nMaruti Suzuki Alto 800 Lx,Maruti,2005,\"70,000\",\"47,000 kms\",Petrol\\nMaruti Suzuki Alto,Maruti,2005,\"1,00,000\",\"40,000 kms\",Petrol\\nHyundai Venue,Hyundai,2019,Ask For Price,\"7,000 kms\",Diesel\\nMaruti Suzuki Ritz,Maruti,2010,\"1,50,000\",\"38,000 kms\",Diesel\\nMaruti Suzuki Alto 800 Lxi,Maruti,2017,\"2,25,000\",\"12,500 kms\",Petrol\\nMaruti Suzuki Dzire,Maruti,2009,\"2,10,000\",\"42,000 kms\",Petrol\\nRenault Lodgy,Renault,2016,Ask For Price,\"20,000 kms\",Diesel\\nHyundai i20 Asta,Hyundai,2014,\"4,25,000\",\"31,000 kms\",Petrol\\nMaruti Suzuki Swift Select Variant,Maruti,2008,\"1,62,000\",\"60,000 kms\",Diesel\\nTata Indica V2 DLX BS III,Tata,2005,\"60,000\",\"80,000 kms\",Diesel\\nMahindra Scorpio VLX 2.2 mHawk Airbag BSIV,Mahindra,2014,\"6,50,000\",\"77,000 kms\",Diesel\\nToyota Innova 2.5 E 8 STR,Toyota,2012,\"7,50,000\",\"75,000 kms\",Diesel\\nMahindra Xylo E8,Mahindra,2010,\"3,75,000\",\"40,000 kms\",Diesel\\nHyundai i20 Magna 1.2,Hyundai,2011,\"2,30,000\",\"47,000 kms\",Petrol\\nMaruti Suzuki Omni,Maruti,2000,\"35,999\",\"60,000 kms\",Petrol\\nMahindra KUV100,Mahindra,2016,\"3,80,000\",\"26,500 kms\",Petrol\\nMahindra KUV100 K8 6 STR,Mahindra,2019,\"5,60,000\",\"2,875 kms\",Petrol\\nDatsun Go Plus,Datsun,2016,\"2,85,000\",\"13,900 kms\",Petrol\\nFord Endeavor 4x4 Thunder Plus,Ford,2019,\"29,00,000\",\"9,000 kms\",Diesel\\nTata Indica V2,Tata,2005,\"39,999\",\"80,000 kms\",Diesel\\nHyundai Santro Xing GL,Hyundai,2006,\"85,000\",\"60,000 kms\",Petrol\\nMaruti Suzuki Wagon R 1.0 VXi,Maruti,2016,\"3,95,000\",\"20,000 kms\",Petrol\\nMaruti Suzuki Swift Select Variant,Maruti,2008,\"1,75,000\",\"58,000 kms\",Diesel\\nMaruti Suzuki Alto 800 Lx,Maruti,2019,\"4,00,000\",\"1,500 kms\",Petrol\\nToyota Innova 2.5 Z Diesel 7 Seater,Toyota,2011,\"7,50,000\",\"75,000 kms\",Diesel\\nAny type car avaiabel hare...comercica,Any,r...,\"1,70,000\",,\\nMaruti Suzuki Alto 800,Maruti,2016,\"2,50,000\",\"2,450 kms\",Petrol\\nMaruti Suzuki Alto AX,Maruti,2019,\"4,25,000\",\"1,625 kms\",Petrol\\nMaruti Suzuki Alto 800 Lx,Maruti,2019,Ask For Price,\"1,500 kms\",Petrol\\nVolkswagen Polo Highline1.2L P,Volkswagen,2017,\"5,25,000\",\"45,000 kms\",Petrol\\nMahindra Logan,Mahindra,2009,\"1,30,000\",\"65,000 kms\",Diesel\\nMaruti Suzuki 800 Std BS III,Maruti,2000,\"30,000\",\"33,400 kms\",Petrol\\nMahindra Scorpio,Mahindra,2011,\"4,75,000\",\"60,123 kms\",Diesel\\nChevrolet Sail 1.2 LS,Chevrolet,2013,\"3,00,000\",\"28,000 kms\",Petrol\\nVolkswagen Vento Highline Plus 1.5 Diesel,Volkswagen,2015,Ask For Price,\"38,900 kms\",Diesel\\nHyundai Santro AE GLS Audio,Hyundai,2003,\"60,000\",\"70,000 kms\",Petrol\\nMaruti Suzuki Wagon R VXi Minor,Maruti,2006,\"1,00,000\",\"7,000 kms\",Petrol\\nHyundai Eon,Hyundai,2018,\"2,60,000\",\"25,000 kms\",Petrol\\nTata Manza,Tata,2015,\"1,00,000\",\"1,00,000 kms\",Diesel\\nToyota Innova 2.0 G1 Petrol 8seater,Toyota,2019,Ask For Price,\"4,000 kms\",Petrol\\nToyota Etios G,Toyota,2013,\"2,65,000\",\"42,000 kms\",Petrol\\nHyundai Getz Prime 1.3 GLX,Hyundai,2009,\"1,15,000\",\"20,000 kms\",Petrol\\nToyota Qualis,Toyota,2003,\"1,80,000\",\"1,00,000 kms\",Diesel\\nHyundai Santro Xing,Hyundai,2004,\"45,000\",\"1,37,495 kms\",Petrol\\nTata Indica eV2 LS,Tata,2016,\"50,500\",\"91,200 kms\",Diesel\\nHonda City 1.5 S MT,Honda,2009,\"2,70,000\",\"55,000 kms\",Petrol\\nTata Zest XE 75 PS Diesel,Tata,2017,\"2,90,000\",\"1,20,000 kms\",Diesel\\nMahindra Quanto C4,Mahindra,2013,\"3,25,000\",\"63,000 kms\",Diesel\\nTata Indigo eCS LX CR4 BS IV,Tata,2016,\"1,60,000\",\"1,04,000 kms\",Diesel\\nMaruti Suzuki Swift Dzire,Maruti,2016,\"3,50,000\",\"1,46,000 kms\",Diesel\\nHyundai Elite i20,Hyundai,2011,\"2,90,000\",\"40,000 kms\",Petrol\\nHyundai i20 Select Variant,Hyundai,2011,\"2,90,000\",\"40,000 kms\",Petrol\\nChevrolet Tavera Neo,Chevrolet,2007,\"4,65,000\",\"1,00,800 kms\",Diesel\\nMaruti Suzuki Dzire,Maruti,2016,\"3,25,000\",\"1,50,000 kms\",Diesel\\nHyundai Elite i20,Hyundai,2018,\"5,10,000\",\"2,100 kms\",Petrol\\nHonda City VX Petrol,Honda,2016,\"8,60,000\",\"95,000 kms\",Petrol\\nMaruti Suzuki Dzire,Maruti,2016,\"4,50,000\",\"2,500 kms\",Diesel\\nHyundai Getz,Hyundai,2006,\"1,25,000\",\"80,000 kms\",Petrol\\nMercedes Benz C Class 200 K MT,Mercedes,2006,\"5,00,001\",\"15,000 kms\",Petrol\\nMaruti Suzuki Alto LXi BS III,Maruti,2005,\"95,000\",\"65,000 kms\",Petrol\\nMaruti Suzuki Swift Dzire Tour VDi,Maruti,2009,\"2,50,000\",\"51,000 kms\",Diesel\\nSkoda Fabia,Skoda,2009,\"1,10,000\",\"45,000 kms\",Petrol\\nMaruti Suzuki Alto 800 Select Variant,Maruti,2015,Ask For Price,\"70,000 kms\",Petrol\\nMaruti Suzuki Ritz VXI ABS,Maruti,2011,\"2,70,000\",\"50,000 kms\",Petrol\\ntata zest 2017 f,tata,sale,\"4,50,000\",,\\nTata Indica V2 DLE BS III,Tata,2009,\"1,10,000\",\"30,000 kms\",Diesel\\nToyota Corolla Altis,Toyota,2009,\"3,00,000\",\"1,32,000 kms\",Petrol\\nTa,Tara,zest,\"3,10,000\",,\\nTata Zest XM Diesel,Tata,2018,\"2,60,000\",\"27,000 kms\",Diesel\\nMahindra Quanto C8,Mahindra,2013,\"3,90,000\",\"40,000 kms\",Diesel\\nHonda Amaze 1.2 E i VTEC,Honda,2014,\"1,80,000\",Petrol,\\nChevrolet Sail 1.2 LT ABS,Chevrolet,2014,\"1,60,000\",Petrol,'}"
            ]
          },
          "metadata": {},
          "execution_count": 2
        }
      ]
    },
    {
      "cell_type": "code",
      "source": [
        "df=pd.read_csv(\"quikr_car.csv\")\n",
        "df.head()"
      ],
      "metadata": {
        "colab": {
          "base_uri": "https://localhost:8080/",
          "height": 206
        },
        "id": "cWwL79n1v-zY",
        "outputId": "2868129a-e057-4873-a643-74f21bde2d45"
      },
      "execution_count": null,
      "outputs": [
        {
          "output_type": "execute_result",
          "data": {
            "text/plain": [
              "                                     name   company  year          Price  \\\n",
              "0    Hyundai Santro Xing XO eRLX Euro III   Hyundai  2007         80,000   \n",
              "1                 Mahindra Jeep CL550 MDI  Mahindra  2006       4,25,000   \n",
              "2              Maruti Suzuki Alto 800 Vxi    Maruti  2018  Ask For Price   \n",
              "3  Hyundai Grand i10 Magna 1.2 Kappa VTVT   Hyundai  2014       3,25,000   \n",
              "4        Ford EcoSport Titanium 1.5L TDCi      Ford  2014       5,75,000   \n",
              "\n",
              "   kms_driven fuel_type  \n",
              "0  45,000 kms    Petrol  \n",
              "1      40 kms    Diesel  \n",
              "2  22,000 kms    Petrol  \n",
              "3  28,000 kms    Petrol  \n",
              "4  36,000 kms    Diesel  "
            ],
            "text/html": [
              "\n",
              "  <div id=\"df-a77549ec-ec39-45c9-9b09-b0f4f8108847\" class=\"colab-df-container\">\n",
              "    <div>\n",
              "<style scoped>\n",
              "    .dataframe tbody tr th:only-of-type {\n",
              "        vertical-align: middle;\n",
              "    }\n",
              "\n",
              "    .dataframe tbody tr th {\n",
              "        vertical-align: top;\n",
              "    }\n",
              "\n",
              "    .dataframe thead th {\n",
              "        text-align: right;\n",
              "    }\n",
              "</style>\n",
              "<table border=\"1\" class=\"dataframe\">\n",
              "  <thead>\n",
              "    <tr style=\"text-align: right;\">\n",
              "      <th></th>\n",
              "      <th>name</th>\n",
              "      <th>company</th>\n",
              "      <th>year</th>\n",
              "      <th>Price</th>\n",
              "      <th>kms_driven</th>\n",
              "      <th>fuel_type</th>\n",
              "    </tr>\n",
              "  </thead>\n",
              "  <tbody>\n",
              "    <tr>\n",
              "      <th>0</th>\n",
              "      <td>Hyundai Santro Xing XO eRLX Euro III</td>\n",
              "      <td>Hyundai</td>\n",
              "      <td>2007</td>\n",
              "      <td>80,000</td>\n",
              "      <td>45,000 kms</td>\n",
              "      <td>Petrol</td>\n",
              "    </tr>\n",
              "    <tr>\n",
              "      <th>1</th>\n",
              "      <td>Mahindra Jeep CL550 MDI</td>\n",
              "      <td>Mahindra</td>\n",
              "      <td>2006</td>\n",
              "      <td>4,25,000</td>\n",
              "      <td>40 kms</td>\n",
              "      <td>Diesel</td>\n",
              "    </tr>\n",
              "    <tr>\n",
              "      <th>2</th>\n",
              "      <td>Maruti Suzuki Alto 800 Vxi</td>\n",
              "      <td>Maruti</td>\n",
              "      <td>2018</td>\n",
              "      <td>Ask For Price</td>\n",
              "      <td>22,000 kms</td>\n",
              "      <td>Petrol</td>\n",
              "    </tr>\n",
              "    <tr>\n",
              "      <th>3</th>\n",
              "      <td>Hyundai Grand i10 Magna 1.2 Kappa VTVT</td>\n",
              "      <td>Hyundai</td>\n",
              "      <td>2014</td>\n",
              "      <td>3,25,000</td>\n",
              "      <td>28,000 kms</td>\n",
              "      <td>Petrol</td>\n",
              "    </tr>\n",
              "    <tr>\n",
              "      <th>4</th>\n",
              "      <td>Ford EcoSport Titanium 1.5L TDCi</td>\n",
              "      <td>Ford</td>\n",
              "      <td>2014</td>\n",
              "      <td>5,75,000</td>\n",
              "      <td>36,000 kms</td>\n",
              "      <td>Diesel</td>\n",
              "    </tr>\n",
              "  </tbody>\n",
              "</table>\n",
              "</div>\n",
              "    <div class=\"colab-df-buttons\">\n",
              "\n",
              "  <div class=\"colab-df-container\">\n",
              "    <button class=\"colab-df-convert\" onclick=\"convertToInteractive('df-a77549ec-ec39-45c9-9b09-b0f4f8108847')\"\n",
              "            title=\"Convert this dataframe to an interactive table.\"\n",
              "            style=\"display:none;\">\n",
              "\n",
              "  <svg xmlns=\"http://www.w3.org/2000/svg\" height=\"24px\" viewBox=\"0 -960 960 960\">\n",
              "    <path d=\"M120-120v-720h720v720H120Zm60-500h600v-160H180v160Zm220 220h160v-160H400v160Zm0 220h160v-160H400v160ZM180-400h160v-160H180v160Zm440 0h160v-160H620v160ZM180-180h160v-160H180v160Zm440 0h160v-160H620v160Z\"/>\n",
              "  </svg>\n",
              "    </button>\n",
              "\n",
              "  <style>\n",
              "    .colab-df-container {\n",
              "      display:flex;\n",
              "      gap: 12px;\n",
              "    }\n",
              "\n",
              "    .colab-df-convert {\n",
              "      background-color: #E8F0FE;\n",
              "      border: none;\n",
              "      border-radius: 50%;\n",
              "      cursor: pointer;\n",
              "      display: none;\n",
              "      fill: #1967D2;\n",
              "      height: 32px;\n",
              "      padding: 0 0 0 0;\n",
              "      width: 32px;\n",
              "    }\n",
              "\n",
              "    .colab-df-convert:hover {\n",
              "      background-color: #E2EBFA;\n",
              "      box-shadow: 0px 1px 2px rgba(60, 64, 67, 0.3), 0px 1px 3px 1px rgba(60, 64, 67, 0.15);\n",
              "      fill: #174EA6;\n",
              "    }\n",
              "\n",
              "    .colab-df-buttons div {\n",
              "      margin-bottom: 4px;\n",
              "    }\n",
              "\n",
              "    [theme=dark] .colab-df-convert {\n",
              "      background-color: #3B4455;\n",
              "      fill: #D2E3FC;\n",
              "    }\n",
              "\n",
              "    [theme=dark] .colab-df-convert:hover {\n",
              "      background-color: #434B5C;\n",
              "      box-shadow: 0px 1px 3px 1px rgba(0, 0, 0, 0.15);\n",
              "      filter: drop-shadow(0px 1px 2px rgba(0, 0, 0, 0.3));\n",
              "      fill: #FFFFFF;\n",
              "    }\n",
              "  </style>\n",
              "\n",
              "    <script>\n",
              "      const buttonEl =\n",
              "        document.querySelector('#df-a77549ec-ec39-45c9-9b09-b0f4f8108847 button.colab-df-convert');\n",
              "      buttonEl.style.display =\n",
              "        google.colab.kernel.accessAllowed ? 'block' : 'none';\n",
              "\n",
              "      async function convertToInteractive(key) {\n",
              "        const element = document.querySelector('#df-a77549ec-ec39-45c9-9b09-b0f4f8108847');\n",
              "        const dataTable =\n",
              "          await google.colab.kernel.invokeFunction('convertToInteractive',\n",
              "                                                    [key], {});\n",
              "        if (!dataTable) return;\n",
              "\n",
              "        const docLinkHtml = 'Like what you see? Visit the ' +\n",
              "          '<a target=\"_blank\" href=https://colab.research.google.com/notebooks/data_table.ipynb>data table notebook</a>'\n",
              "          + ' to learn more about interactive tables.';\n",
              "        element.innerHTML = '';\n",
              "        dataTable['output_type'] = 'display_data';\n",
              "        await google.colab.output.renderOutput(dataTable, element);\n",
              "        const docLink = document.createElement('div');\n",
              "        docLink.innerHTML = docLinkHtml;\n",
              "        element.appendChild(docLink);\n",
              "      }\n",
              "    </script>\n",
              "  </div>\n",
              "\n",
              "\n",
              "<div id=\"df-be7ab389-6446-4b82-ae66-3d9370dc700f\">\n",
              "  <button class=\"colab-df-quickchart\" onclick=\"quickchart('df-be7ab389-6446-4b82-ae66-3d9370dc700f')\"\n",
              "            title=\"Suggest charts\"\n",
              "            style=\"display:none;\">\n",
              "\n",
              "<svg xmlns=\"http://www.w3.org/2000/svg\" height=\"24px\"viewBox=\"0 0 24 24\"\n",
              "     width=\"24px\">\n",
              "    <g>\n",
              "        <path d=\"M19 3H5c-1.1 0-2 .9-2 2v14c0 1.1.9 2 2 2h14c1.1 0 2-.9 2-2V5c0-1.1-.9-2-2-2zM9 17H7v-7h2v7zm4 0h-2V7h2v10zm4 0h-2v-4h2v4z\"/>\n",
              "    </g>\n",
              "</svg>\n",
              "  </button>\n",
              "\n",
              "<style>\n",
              "  .colab-df-quickchart {\n",
              "      --bg-color: #E8F0FE;\n",
              "      --fill-color: #1967D2;\n",
              "      --hover-bg-color: #E2EBFA;\n",
              "      --hover-fill-color: #174EA6;\n",
              "      --disabled-fill-color: #AAA;\n",
              "      --disabled-bg-color: #DDD;\n",
              "  }\n",
              "\n",
              "  [theme=dark] .colab-df-quickchart {\n",
              "      --bg-color: #3B4455;\n",
              "      --fill-color: #D2E3FC;\n",
              "      --hover-bg-color: #434B5C;\n",
              "      --hover-fill-color: #FFFFFF;\n",
              "      --disabled-bg-color: #3B4455;\n",
              "      --disabled-fill-color: #666;\n",
              "  }\n",
              "\n",
              "  .colab-df-quickchart {\n",
              "    background-color: var(--bg-color);\n",
              "    border: none;\n",
              "    border-radius: 50%;\n",
              "    cursor: pointer;\n",
              "    display: none;\n",
              "    fill: var(--fill-color);\n",
              "    height: 32px;\n",
              "    padding: 0;\n",
              "    width: 32px;\n",
              "  }\n",
              "\n",
              "  .colab-df-quickchart:hover {\n",
              "    background-color: var(--hover-bg-color);\n",
              "    box-shadow: 0 1px 2px rgba(60, 64, 67, 0.3), 0 1px 3px 1px rgba(60, 64, 67, 0.15);\n",
              "    fill: var(--button-hover-fill-color);\n",
              "  }\n",
              "\n",
              "  .colab-df-quickchart-complete:disabled,\n",
              "  .colab-df-quickchart-complete:disabled:hover {\n",
              "    background-color: var(--disabled-bg-color);\n",
              "    fill: var(--disabled-fill-color);\n",
              "    box-shadow: none;\n",
              "  }\n",
              "\n",
              "  .colab-df-spinner {\n",
              "    border: 2px solid var(--fill-color);\n",
              "    border-color: transparent;\n",
              "    border-bottom-color: var(--fill-color);\n",
              "    animation:\n",
              "      spin 1s steps(1) infinite;\n",
              "  }\n",
              "\n",
              "  @keyframes spin {\n",
              "    0% {\n",
              "      border-color: transparent;\n",
              "      border-bottom-color: var(--fill-color);\n",
              "      border-left-color: var(--fill-color);\n",
              "    }\n",
              "    20% {\n",
              "      border-color: transparent;\n",
              "      border-left-color: var(--fill-color);\n",
              "      border-top-color: var(--fill-color);\n",
              "    }\n",
              "    30% {\n",
              "      border-color: transparent;\n",
              "      border-left-color: var(--fill-color);\n",
              "      border-top-color: var(--fill-color);\n",
              "      border-right-color: var(--fill-color);\n",
              "    }\n",
              "    40% {\n",
              "      border-color: transparent;\n",
              "      border-right-color: var(--fill-color);\n",
              "      border-top-color: var(--fill-color);\n",
              "    }\n",
              "    60% {\n",
              "      border-color: transparent;\n",
              "      border-right-color: var(--fill-color);\n",
              "    }\n",
              "    80% {\n",
              "      border-color: transparent;\n",
              "      border-right-color: var(--fill-color);\n",
              "      border-bottom-color: var(--fill-color);\n",
              "    }\n",
              "    90% {\n",
              "      border-color: transparent;\n",
              "      border-bottom-color: var(--fill-color);\n",
              "    }\n",
              "  }\n",
              "</style>\n",
              "\n",
              "  <script>\n",
              "    async function quickchart(key) {\n",
              "      const quickchartButtonEl =\n",
              "        document.querySelector('#' + key + ' button');\n",
              "      quickchartButtonEl.disabled = true;  // To prevent multiple clicks.\n",
              "      quickchartButtonEl.classList.add('colab-df-spinner');\n",
              "      try {\n",
              "        const charts = await google.colab.kernel.invokeFunction(\n",
              "            'suggestCharts', [key], {});\n",
              "      } catch (error) {\n",
              "        console.error('Error during call to suggestCharts:', error);\n",
              "      }\n",
              "      quickchartButtonEl.classList.remove('colab-df-spinner');\n",
              "      quickchartButtonEl.classList.add('colab-df-quickchart-complete');\n",
              "    }\n",
              "    (() => {\n",
              "      let quickchartButtonEl =\n",
              "        document.querySelector('#df-be7ab389-6446-4b82-ae66-3d9370dc700f button');\n",
              "      quickchartButtonEl.style.display =\n",
              "        google.colab.kernel.accessAllowed ? 'block' : 'none';\n",
              "    })();\n",
              "  </script>\n",
              "</div>\n",
              "\n",
              "    </div>\n",
              "  </div>\n"
            ]
          },
          "metadata": {},
          "execution_count": 3
        }
      ]
    },
    {
      "cell_type": "code",
      "source": [
        "df.shape"
      ],
      "metadata": {
        "colab": {
          "base_uri": "https://localhost:8080/"
        },
        "id": "t927T37Xv-1L",
        "outputId": "27daf648-5a28-414f-d843-042ee457d23b"
      },
      "execution_count": null,
      "outputs": [
        {
          "output_type": "execute_result",
          "data": {
            "text/plain": [
              "(892, 6)"
            ]
          },
          "metadata": {},
          "execution_count": 4
        }
      ]
    },
    {
      "cell_type": "code",
      "source": [
        "df.info()"
      ],
      "metadata": {
        "colab": {
          "base_uri": "https://localhost:8080/"
        },
        "id": "mRwLkzUIv-3j",
        "outputId": "e2538ae7-b5a0-4579-d8b5-325b573de921"
      },
      "execution_count": null,
      "outputs": [
        {
          "output_type": "stream",
          "name": "stdout",
          "text": [
            "<class 'pandas.core.frame.DataFrame'>\n",
            "RangeIndex: 892 entries, 0 to 891\n",
            "Data columns (total 6 columns):\n",
            " #   Column      Non-Null Count  Dtype \n",
            "---  ------      --------------  ----- \n",
            " 0   name        892 non-null    object\n",
            " 1   company     892 non-null    object\n",
            " 2   year        892 non-null    object\n",
            " 3   Price       892 non-null    object\n",
            " 4   kms_driven  840 non-null    object\n",
            " 5   fuel_type   837 non-null    object\n",
            "dtypes: object(6)\n",
            "memory usage: 41.9+ KB\n"
          ]
        }
      ]
    },
    {
      "cell_type": "code",
      "source": [
        "df.describe()"
      ],
      "metadata": {
        "colab": {
          "base_uri": "https://localhost:8080/",
          "height": 246
        },
        "id": "qQz6jdqqv-5H",
        "outputId": "4426799b-11f4-4da9-b0a6-830f9c698cba"
      },
      "execution_count": null,
      "outputs": [
        {
          "output_type": "error",
          "ename": "NameError",
          "evalue": "name 'df' is not defined",
          "traceback": [
            "\u001b[0;31m---------------------------------------------------------------------------\u001b[0m",
            "\u001b[0;31mNameError\u001b[0m                                 Traceback (most recent call last)",
            "\u001b[0;32m<ipython-input-1-ea8415b8a3ee>\u001b[0m in \u001b[0;36m<cell line: 1>\u001b[0;34m()\u001b[0m\n\u001b[0;32m----> 1\u001b[0;31m \u001b[0mdf\u001b[0m\u001b[0;34m.\u001b[0m\u001b[0mdescribe\u001b[0m\u001b[0;34m(\u001b[0m\u001b[0;34m)\u001b[0m\u001b[0;34m\u001b[0m\u001b[0;34m\u001b[0m\u001b[0m\n\u001b[0m",
            "\u001b[0;31mNameError\u001b[0m: name 'df' is not defined"
          ]
        }
      ]
    },
    {
      "cell_type": "code",
      "source": [
        "df.isnull().mean()"
      ],
      "metadata": {
        "colab": {
          "base_uri": "https://localhost:8080/"
        },
        "id": "__OmrpS3v-6x",
        "outputId": "858eed39-fa69-48b5-c778-b2c2c41f51c2"
      },
      "execution_count": null,
      "outputs": [
        {
          "output_type": "execute_result",
          "data": {
            "text/plain": [
              "name          0.000000\n",
              "company       0.000000\n",
              "year          0.000000\n",
              "Price         0.000000\n",
              "kms_driven    0.058296\n",
              "fuel_type     0.061659\n",
              "dtype: float64"
            ]
          },
          "metadata": {},
          "execution_count": 7
        }
      ]
    },
    {
      "cell_type": "code",
      "source": [
        "df['year'].unique()"
      ],
      "metadata": {
        "colab": {
          "base_uri": "https://localhost:8080/"
        },
        "id": "jvOH4zmKv-8u",
        "outputId": "e7d9e533-9b0f-4946-aa6d-11c144bcb699"
      },
      "execution_count": null,
      "outputs": [
        {
          "output_type": "execute_result",
          "data": {
            "text/plain": [
              "array(['2007', '2006', '2018', '2014', '2015', '2012', '2013', '2016',\n",
              "       '2010', '2017', '2008', '2011', '2019', '2009', '2005', '2000',\n",
              "       '...', '150k', 'TOUR', '2003', 'r 15', '2004', 'Zest', '/-Rs',\n",
              "       'sale', '1995', 'ara)', '2002', 'SELL', '2001', 'tion', 'odel',\n",
              "       '2 bs', 'arry', 'Eon', 'o...', 'ture', 'emi', 'car', 'able', 'no.',\n",
              "       'd...', 'SALE', 'digo', 'sell', 'd Ex', 'n...', 'e...', 'D...',\n",
              "       ', Ac', 'go .', 'k...', 'o c4', 'zire', 'cent', 'Sumo', 'cab',\n",
              "       't xe', 'EV2', 'r...', 'zest'], dtype=object)"
            ]
          },
          "metadata": {},
          "execution_count": 8
        }
      ]
    },
    {
      "cell_type": "code",
      "source": [
        "df['Price'].unique()"
      ],
      "metadata": {
        "colab": {
          "base_uri": "https://localhost:8080/"
        },
        "id": "w8KzLhsSv---",
        "outputId": "9c5dd856-7472-489c-f5cd-ed6cda914591"
      },
      "execution_count": null,
      "outputs": [
        {
          "output_type": "execute_result",
          "data": {
            "text/plain": [
              "array(['80,000', '4,25,000', 'Ask For Price', '3,25,000', '5,75,000',\n",
              "       '1,75,000', '1,90,000', '8,30,000', '2,50,000', '1,82,000',\n",
              "       '3,15,000', '4,15,000', '3,20,000', '10,00,000', '5,00,000',\n",
              "       '3,50,000', '1,60,000', '3,10,000', '75,000', '1,00,000',\n",
              "       '2,90,000', '95,000', '1,80,000', '3,85,000', '1,05,000',\n",
              "       '6,50,000', '6,89,999', '4,48,000', '5,49,000', '5,01,000',\n",
              "       '4,89,999', '2,80,000', '3,49,999', '2,84,999', '3,45,000',\n",
              "       '4,99,999', '2,35,000', '2,49,999', '14,75,000', '3,95,000',\n",
              "       '2,20,000', '1,70,000', '85,000', '2,00,000', '5,70,000',\n",
              "       '1,10,000', '4,48,999', '18,91,111', '1,59,500', '3,44,999',\n",
              "       '4,49,999', '8,65,000', '6,99,000', '3,75,000', '2,24,999',\n",
              "       '12,00,000', '1,95,000', '3,51,000', '2,40,000', '90,000',\n",
              "       '1,55,000', '6,00,000', '1,89,500', '2,10,000', '3,90,000',\n",
              "       '1,35,000', '16,00,000', '7,01,000', '2,65,000', '5,25,000',\n",
              "       '3,72,000', '6,35,000', '5,50,000', '4,85,000', '3,29,500',\n",
              "       '2,51,111', '5,69,999', '69,999', '2,99,999', '3,99,999',\n",
              "       '4,50,000', '2,70,000', '1,58,400', '1,79,000', '1,25,000',\n",
              "       '2,99,000', '1,50,000', '2,75,000', '2,85,000', '3,40,000',\n",
              "       '70,000', '2,89,999', '8,49,999', '7,49,999', '2,74,999',\n",
              "       '9,84,999', '5,99,999', '2,44,999', '4,74,999', '2,45,000',\n",
              "       '1,69,500', '3,70,000', '1,68,000', '1,45,000', '98,500',\n",
              "       '2,09,000', '1,85,000', '9,00,000', '6,99,999', '1,99,999',\n",
              "       '5,44,999', '1,99,000', '5,40,000', '49,000', '7,00,000', '55,000',\n",
              "       '8,95,000', '3,55,000', '5,65,000', '3,65,000', '40,000',\n",
              "       '4,00,000', '3,30,000', '5,80,000', '3,79,000', '2,19,000',\n",
              "       '5,19,000', '7,30,000', '20,00,000', '21,00,000', '14,00,000',\n",
              "       '3,11,000', '8,55,000', '5,35,000', '1,78,000', '3,00,000',\n",
              "       '2,55,000', '5,49,999', '3,80,000', '57,000', '4,10,000',\n",
              "       '2,25,000', '1,20,000', '59,000', '5,99,000', '6,75,000', '72,500',\n",
              "       '6,10,000', '2,30,000', '5,20,000', '5,24,999', '4,24,999',\n",
              "       '6,44,999', '5,84,999', '7,99,999', '4,44,999', '6,49,999',\n",
              "       '9,44,999', '5,74,999', '3,74,999', '1,30,000', '4,01,000',\n",
              "       '13,50,000', '1,74,999', '2,39,999', '99,999', '3,24,999',\n",
              "       '10,74,999', '11,30,000', '1,49,000', '7,70,000', '30,000',\n",
              "       '3,35,000', '3,99,000', '65,000', '1,69,999', '1,65,000',\n",
              "       '5,60,000', '9,50,000', '7,15,000', '45,000', '9,40,000',\n",
              "       '1,55,555', '15,00,000', '4,95,000', '8,00,000', '12,99,000',\n",
              "       '5,30,000', '14,99,000', '32,000', '4,05,000', '7,60,000',\n",
              "       '7,50,000', '4,19,000', '1,40,000', '15,40,000', '1,23,000',\n",
              "       '4,98,000', '4,80,000', '4,88,000', '15,25,000', '5,48,900',\n",
              "       '7,25,000', '99,000', '52,000', '28,00,000', '4,99,000',\n",
              "       '3,81,000', '2,78,000', '6,90,000', '2,60,000', '90,001',\n",
              "       '1,15,000', '15,99,000', '1,59,000', '51,999', '2,15,000',\n",
              "       '35,000', '11,50,000', '2,69,000', '60,000', '4,30,000',\n",
              "       '85,00,003', '4,01,919', '4,90,000', '4,24,000', '2,05,000',\n",
              "       '5,49,900', '3,71,500', '4,35,000', '1,89,700', '3,89,700',\n",
              "       '3,60,000', '2,95,000', '1,14,990', '10,65,000', '4,70,000',\n",
              "       '48,000', '1,88,000', '4,65,000', '1,79,999', '21,90,000',\n",
              "       '23,90,000', '10,75,000', '4,75,000', '10,25,000', '6,15,000',\n",
              "       '19,00,000', '14,90,000', '15,10,000', '18,50,000', '7,90,000',\n",
              "       '17,25,000', '12,25,000', '68,000', '9,70,000', '31,00,000',\n",
              "       '8,99,000', '88,000', '53,000', '5,68,500', '71,000', '5,90,000',\n",
              "       '7,95,000', '42,000', '1,89,000', '1,62,000', '35,999',\n",
              "       '29,00,000', '39,999', '50,500', '5,10,000', '8,60,000',\n",
              "       '5,00,001'], dtype=object)"
            ]
          },
          "metadata": {},
          "execution_count": 9
        }
      ]
    },
    {
      "cell_type": "code",
      "source": [
        "df['kms_driven'].unique()"
      ],
      "metadata": {
        "colab": {
          "base_uri": "https://localhost:8080/"
        },
        "id": "OKCpvWH7v_BR",
        "outputId": "28f3bf76-da40-49b6-ed78-6c6fa5e36c59"
      },
      "execution_count": null,
      "outputs": [
        {
          "output_type": "execute_result",
          "data": {
            "text/plain": [
              "array(['45,000 kms', '40 kms', '22,000 kms', '28,000 kms', '36,000 kms',\n",
              "       '59,000 kms', '41,000 kms', '25,000 kms', '24,530 kms',\n",
              "       '60,000 kms', '30,000 kms', '32,000 kms', '48,660 kms',\n",
              "       '4,000 kms', '16,934 kms', '43,000 kms', '35,550 kms',\n",
              "       '39,522 kms', '39,000 kms', '55,000 kms', '72,000 kms',\n",
              "       '15,975 kms', '70,000 kms', '23,452 kms', '35,522 kms',\n",
              "       '48,508 kms', '15,487 kms', '82,000 kms', '20,000 kms',\n",
              "       '68,000 kms', '38,000 kms', '27,000 kms', '33,000 kms',\n",
              "       '46,000 kms', '16,000 kms', '47,000 kms', '35,000 kms',\n",
              "       '30,874 kms', '15,000 kms', '29,685 kms', '1,30,000 kms',\n",
              "       '19,000 kms', nan, '54,000 kms', '13,000 kms', '38,200 kms',\n",
              "       '50,000 kms', '13,500 kms', '3,600 kms', '45,863 kms',\n",
              "       '60,500 kms', '12,500 kms', '18,000 kms', '13,349 kms',\n",
              "       '29,000 kms', '44,000 kms', '42,000 kms', '14,000 kms',\n",
              "       '49,000 kms', '36,200 kms', '51,000 kms', '1,04,000 kms',\n",
              "       '33,333 kms', '33,600 kms', '5,600 kms', '7,500 kms', '26,000 kms',\n",
              "       '24,330 kms', '65,480 kms', '28,028 kms', '2,00,000 kms',\n",
              "       '99,000 kms', '2,800 kms', '21,000 kms', '11,000 kms',\n",
              "       '66,000 kms', '3,000 kms', '7,000 kms', '38,500 kms', '37,200 kms',\n",
              "       '43,200 kms', '24,800 kms', '45,872 kms', '40,000 kms',\n",
              "       '11,400 kms', '97,200 kms', '52,000 kms', '31,000 kms',\n",
              "       '1,75,430 kms', '37,000 kms', '65,000 kms', '3,350 kms',\n",
              "       '75,000 kms', '62,000 kms', '73,000 kms', '2,200 kms',\n",
              "       '54,870 kms', '34,580 kms', '97,000 kms', '60 kms', '80,200 kms',\n",
              "       '3,200 kms', '0,000 kms', '5,000 kms', '588 kms', '71,200 kms',\n",
              "       '1,75,400 kms', '9,300 kms', '56,758 kms', '10,000 kms',\n",
              "       '56,450 kms', '56,000 kms', '32,700 kms', '9,000 kms', '73 kms',\n",
              "       '1,60,000 kms', '84,000 kms', '58,559 kms', '57,000 kms',\n",
              "       '1,70,000 kms', '80,000 kms', '6,821 kms', '23,000 kms',\n",
              "       '34,000 kms', '1,800 kms', '4,00,000 kms', '48,000 kms',\n",
              "       '90,000 kms', '12,000 kms', '69,900 kms', '1,66,000 kms',\n",
              "       '122 kms', '0 kms', '24,000 kms', '36,469 kms', '7,800 kms',\n",
              "       '24,695 kms', '15,141 kms', '59,910 kms', '1,00,000 kms',\n",
              "       '4,500 kms', '1,29,000 kms', '300 kms', '1,31,000 kms',\n",
              "       '1,11,111 kms', '59,466 kms', '25,500 kms', '44,005 kms',\n",
              "       '2,110 kms', '43,222 kms', '1,00,200 kms', '65 kms',\n",
              "       '1,40,000 kms', '1,03,553 kms', '58,000 kms', '1,20,000 kms',\n",
              "       '49,800 kms', '100 kms', '81,876 kms', '6,020 kms', '55,700 kms',\n",
              "       '18,500 kms', '1,80,000 kms', '53,000 kms', '35,500 kms',\n",
              "       '22,134 kms', '1,000 kms', '8,500 kms', '87,000 kms', '6,000 kms',\n",
              "       '15,574 kms', '8,000 kms', '55,800 kms', '56,400 kms',\n",
              "       '72,160 kms', '11,500 kms', '1,33,000 kms', '2,000 kms',\n",
              "       '88,000 kms', '65,422 kms', '1,17,000 kms', '1,50,000 kms',\n",
              "       '10,750 kms', '6,800 kms', '5 kms', '9,800 kms', '57,923 kms',\n",
              "       '30,201 kms', '6,200 kms', '37,518 kms', '24,652 kms', '383 kms',\n",
              "       '95,000 kms', '3,528 kms', '52,500 kms', '47,900 kms',\n",
              "       '52,800 kms', '1,95,000 kms', '48,008 kms', '48,247 kms',\n",
              "       '9,400 kms', '64,000 kms', '2,137 kms', '10,544 kms', '49,500 kms',\n",
              "       '1,47,000 kms', '90,001 kms', '48,006 kms', '74,000 kms',\n",
              "       '85,000 kms', '29,500 kms', '39,700 kms', '67,000 kms',\n",
              "       '19,336 kms', '60,105 kms', '45,933 kms', '1,02,563 kms',\n",
              "       '28,600 kms', '41,800 kms', '1,16,000 kms', '42,590 kms',\n",
              "       '7,400 kms', '54,500 kms', '76,000 kms', '00 kms', '11,523 kms',\n",
              "       '38,600 kms', '95,500 kms', '37,458 kms', '85,960 kms',\n",
              "       '12,516 kms', '30,600 kms', '2,550 kms', '62,500 kms',\n",
              "       '69,000 kms', '28,400 kms', '68,485 kms', '3,500 kms',\n",
              "       '85,455 kms', '63,000 kms', '1,600 kms', '77,000 kms',\n",
              "       '26,500 kms', '2,875 kms', '13,900 kms', '1,500 kms', '2,450 kms',\n",
              "       '1,625 kms', '33,400 kms', '60,123 kms', '38,900 kms',\n",
              "       '1,37,495 kms', '91,200 kms', '1,46,000 kms', '1,00,800 kms',\n",
              "       '2,100 kms', '2,500 kms', '1,32,000 kms', 'Petrol'], dtype=object)"
            ]
          },
          "metadata": {},
          "execution_count": 10
        }
      ]
    },
    {
      "cell_type": "code",
      "source": [
        "df['fuel_type'].unique()"
      ],
      "metadata": {
        "colab": {
          "base_uri": "https://localhost:8080/"
        },
        "id": "e2n1dZNxv_Dx",
        "outputId": "6953551a-5fe8-4bb5-c856-5ff076bfe8f2"
      },
      "execution_count": null,
      "outputs": [
        {
          "output_type": "execute_result",
          "data": {
            "text/plain": [
              "array(['Petrol', 'Diesel', nan, 'LPG'], dtype=object)"
            ]
          },
          "metadata": {},
          "execution_count": 11
        }
      ]
    },
    {
      "cell_type": "markdown",
      "source": [
        "**Quality**\n",
        "\n",
        "* names are pretty inconsistent\n",
        "* names have company names attached to it\n",
        "* some names are spam like 'Maruti Ertiga showroom condition with' and 'Well mentained Tata Sumo'\n",
        "* company: many of the names are not of any company like 'Used', 'URJENT', and so on.\n",
        "* year has many non-year values\n",
        "* year is in object. Change to integer\n",
        "* Price has Ask for Price\n",
        "* Price has commas in its prices and is in object\n",
        "* kms_driven has object values with kms at last.\n",
        "* It has nan values and two rows have 'Petrol' in them\n",
        "* fuel_type has nan values"
      ],
      "metadata": {
        "id": "QvuvEExJxqhx"
      }
    },
    {
      "cell_type": "code",
      "source": [
        "df_copy=df.copy()\n",
        "df_copy"
      ],
      "metadata": {
        "colab": {
          "base_uri": "https://localhost:8080/",
          "height": 423
        },
        "id": "CEphCXgEv_Ix",
        "outputId": "f551bce8-efc1-4707-aebf-7e3367630c51"
      },
      "execution_count": null,
      "outputs": [
        {
          "output_type": "execute_result",
          "data": {
            "text/plain": [
              "                                       name    company  year          Price  \\\n",
              "0      Hyundai Santro Xing XO eRLX Euro III    Hyundai  2007         80,000   \n",
              "1                   Mahindra Jeep CL550 MDI   Mahindra  2006       4,25,000   \n",
              "2                Maruti Suzuki Alto 800 Vxi     Maruti  2018  Ask For Price   \n",
              "3    Hyundai Grand i10 Magna 1.2 Kappa VTVT    Hyundai  2014       3,25,000   \n",
              "4          Ford EcoSport Titanium 1.5L TDCi       Ford  2014       5,75,000   \n",
              "..                                      ...        ...   ...            ...   \n",
              "887                                      Ta       Tara  zest       3,10,000   \n",
              "888                     Tata Zest XM Diesel       Tata  2018       2,60,000   \n",
              "889                      Mahindra Quanto C8   Mahindra  2013       3,90,000   \n",
              "890                Honda Amaze 1.2 E i VTEC      Honda  2014       1,80,000   \n",
              "891               Chevrolet Sail 1.2 LT ABS  Chevrolet  2014       1,60,000   \n",
              "\n",
              "     kms_driven fuel_type  \n",
              "0    45,000 kms    Petrol  \n",
              "1        40 kms    Diesel  \n",
              "2    22,000 kms    Petrol  \n",
              "3    28,000 kms    Petrol  \n",
              "4    36,000 kms    Diesel  \n",
              "..          ...       ...  \n",
              "887         NaN       NaN  \n",
              "888  27,000 kms    Diesel  \n",
              "889  40,000 kms    Diesel  \n",
              "890      Petrol       NaN  \n",
              "891      Petrol       NaN  \n",
              "\n",
              "[892 rows x 6 columns]"
            ],
            "text/html": [
              "\n",
              "  <div id=\"df-442da6ed-d49e-41f6-99fd-dd04474fc30b\" class=\"colab-df-container\">\n",
              "    <div>\n",
              "<style scoped>\n",
              "    .dataframe tbody tr th:only-of-type {\n",
              "        vertical-align: middle;\n",
              "    }\n",
              "\n",
              "    .dataframe tbody tr th {\n",
              "        vertical-align: top;\n",
              "    }\n",
              "\n",
              "    .dataframe thead th {\n",
              "        text-align: right;\n",
              "    }\n",
              "</style>\n",
              "<table border=\"1\" class=\"dataframe\">\n",
              "  <thead>\n",
              "    <tr style=\"text-align: right;\">\n",
              "      <th></th>\n",
              "      <th>name</th>\n",
              "      <th>company</th>\n",
              "      <th>year</th>\n",
              "      <th>Price</th>\n",
              "      <th>kms_driven</th>\n",
              "      <th>fuel_type</th>\n",
              "    </tr>\n",
              "  </thead>\n",
              "  <tbody>\n",
              "    <tr>\n",
              "      <th>0</th>\n",
              "      <td>Hyundai Santro Xing XO eRLX Euro III</td>\n",
              "      <td>Hyundai</td>\n",
              "      <td>2007</td>\n",
              "      <td>80,000</td>\n",
              "      <td>45,000 kms</td>\n",
              "      <td>Petrol</td>\n",
              "    </tr>\n",
              "    <tr>\n",
              "      <th>1</th>\n",
              "      <td>Mahindra Jeep CL550 MDI</td>\n",
              "      <td>Mahindra</td>\n",
              "      <td>2006</td>\n",
              "      <td>4,25,000</td>\n",
              "      <td>40 kms</td>\n",
              "      <td>Diesel</td>\n",
              "    </tr>\n",
              "    <tr>\n",
              "      <th>2</th>\n",
              "      <td>Maruti Suzuki Alto 800 Vxi</td>\n",
              "      <td>Maruti</td>\n",
              "      <td>2018</td>\n",
              "      <td>Ask For Price</td>\n",
              "      <td>22,000 kms</td>\n",
              "      <td>Petrol</td>\n",
              "    </tr>\n",
              "    <tr>\n",
              "      <th>3</th>\n",
              "      <td>Hyundai Grand i10 Magna 1.2 Kappa VTVT</td>\n",
              "      <td>Hyundai</td>\n",
              "      <td>2014</td>\n",
              "      <td>3,25,000</td>\n",
              "      <td>28,000 kms</td>\n",
              "      <td>Petrol</td>\n",
              "    </tr>\n",
              "    <tr>\n",
              "      <th>4</th>\n",
              "      <td>Ford EcoSport Titanium 1.5L TDCi</td>\n",
              "      <td>Ford</td>\n",
              "      <td>2014</td>\n",
              "      <td>5,75,000</td>\n",
              "      <td>36,000 kms</td>\n",
              "      <td>Diesel</td>\n",
              "    </tr>\n",
              "    <tr>\n",
              "      <th>...</th>\n",
              "      <td>...</td>\n",
              "      <td>...</td>\n",
              "      <td>...</td>\n",
              "      <td>...</td>\n",
              "      <td>...</td>\n",
              "      <td>...</td>\n",
              "    </tr>\n",
              "    <tr>\n",
              "      <th>887</th>\n",
              "      <td>Ta</td>\n",
              "      <td>Tara</td>\n",
              "      <td>zest</td>\n",
              "      <td>3,10,000</td>\n",
              "      <td>NaN</td>\n",
              "      <td>NaN</td>\n",
              "    </tr>\n",
              "    <tr>\n",
              "      <th>888</th>\n",
              "      <td>Tata Zest XM Diesel</td>\n",
              "      <td>Tata</td>\n",
              "      <td>2018</td>\n",
              "      <td>2,60,000</td>\n",
              "      <td>27,000 kms</td>\n",
              "      <td>Diesel</td>\n",
              "    </tr>\n",
              "    <tr>\n",
              "      <th>889</th>\n",
              "      <td>Mahindra Quanto C8</td>\n",
              "      <td>Mahindra</td>\n",
              "      <td>2013</td>\n",
              "      <td>3,90,000</td>\n",
              "      <td>40,000 kms</td>\n",
              "      <td>Diesel</td>\n",
              "    </tr>\n",
              "    <tr>\n",
              "      <th>890</th>\n",
              "      <td>Honda Amaze 1.2 E i VTEC</td>\n",
              "      <td>Honda</td>\n",
              "      <td>2014</td>\n",
              "      <td>1,80,000</td>\n",
              "      <td>Petrol</td>\n",
              "      <td>NaN</td>\n",
              "    </tr>\n",
              "    <tr>\n",
              "      <th>891</th>\n",
              "      <td>Chevrolet Sail 1.2 LT ABS</td>\n",
              "      <td>Chevrolet</td>\n",
              "      <td>2014</td>\n",
              "      <td>1,60,000</td>\n",
              "      <td>Petrol</td>\n",
              "      <td>NaN</td>\n",
              "    </tr>\n",
              "  </tbody>\n",
              "</table>\n",
              "<p>892 rows × 6 columns</p>\n",
              "</div>\n",
              "    <div class=\"colab-df-buttons\">\n",
              "\n",
              "  <div class=\"colab-df-container\">\n",
              "    <button class=\"colab-df-convert\" onclick=\"convertToInteractive('df-442da6ed-d49e-41f6-99fd-dd04474fc30b')\"\n",
              "            title=\"Convert this dataframe to an interactive table.\"\n",
              "            style=\"display:none;\">\n",
              "\n",
              "  <svg xmlns=\"http://www.w3.org/2000/svg\" height=\"24px\" viewBox=\"0 -960 960 960\">\n",
              "    <path d=\"M120-120v-720h720v720H120Zm60-500h600v-160H180v160Zm220 220h160v-160H400v160Zm0 220h160v-160H400v160ZM180-400h160v-160H180v160Zm440 0h160v-160H620v160ZM180-180h160v-160H180v160Zm440 0h160v-160H620v160Z\"/>\n",
              "  </svg>\n",
              "    </button>\n",
              "\n",
              "  <style>\n",
              "    .colab-df-container {\n",
              "      display:flex;\n",
              "      gap: 12px;\n",
              "    }\n",
              "\n",
              "    .colab-df-convert {\n",
              "      background-color: #E8F0FE;\n",
              "      border: none;\n",
              "      border-radius: 50%;\n",
              "      cursor: pointer;\n",
              "      display: none;\n",
              "      fill: #1967D2;\n",
              "      height: 32px;\n",
              "      padding: 0 0 0 0;\n",
              "      width: 32px;\n",
              "    }\n",
              "\n",
              "    .colab-df-convert:hover {\n",
              "      background-color: #E2EBFA;\n",
              "      box-shadow: 0px 1px 2px rgba(60, 64, 67, 0.3), 0px 1px 3px 1px rgba(60, 64, 67, 0.15);\n",
              "      fill: #174EA6;\n",
              "    }\n",
              "\n",
              "    .colab-df-buttons div {\n",
              "      margin-bottom: 4px;\n",
              "    }\n",
              "\n",
              "    [theme=dark] .colab-df-convert {\n",
              "      background-color: #3B4455;\n",
              "      fill: #D2E3FC;\n",
              "    }\n",
              "\n",
              "    [theme=dark] .colab-df-convert:hover {\n",
              "      background-color: #434B5C;\n",
              "      box-shadow: 0px 1px 3px 1px rgba(0, 0, 0, 0.15);\n",
              "      filter: drop-shadow(0px 1px 2px rgba(0, 0, 0, 0.3));\n",
              "      fill: #FFFFFF;\n",
              "    }\n",
              "  </style>\n",
              "\n",
              "    <script>\n",
              "      const buttonEl =\n",
              "        document.querySelector('#df-442da6ed-d49e-41f6-99fd-dd04474fc30b button.colab-df-convert');\n",
              "      buttonEl.style.display =\n",
              "        google.colab.kernel.accessAllowed ? 'block' : 'none';\n",
              "\n",
              "      async function convertToInteractive(key) {\n",
              "        const element = document.querySelector('#df-442da6ed-d49e-41f6-99fd-dd04474fc30b');\n",
              "        const dataTable =\n",
              "          await google.colab.kernel.invokeFunction('convertToInteractive',\n",
              "                                                    [key], {});\n",
              "        if (!dataTable) return;\n",
              "\n",
              "        const docLinkHtml = 'Like what you see? Visit the ' +\n",
              "          '<a target=\"_blank\" href=https://colab.research.google.com/notebooks/data_table.ipynb>data table notebook</a>'\n",
              "          + ' to learn more about interactive tables.';\n",
              "        element.innerHTML = '';\n",
              "        dataTable['output_type'] = 'display_data';\n",
              "        await google.colab.output.renderOutput(dataTable, element);\n",
              "        const docLink = document.createElement('div');\n",
              "        docLink.innerHTML = docLinkHtml;\n",
              "        element.appendChild(docLink);\n",
              "      }\n",
              "    </script>\n",
              "  </div>\n",
              "\n",
              "\n",
              "<div id=\"df-b1e5f7ee-68ab-487b-90a3-075dd59d545d\">\n",
              "  <button class=\"colab-df-quickchart\" onclick=\"quickchart('df-b1e5f7ee-68ab-487b-90a3-075dd59d545d')\"\n",
              "            title=\"Suggest charts\"\n",
              "            style=\"display:none;\">\n",
              "\n",
              "<svg xmlns=\"http://www.w3.org/2000/svg\" height=\"24px\"viewBox=\"0 0 24 24\"\n",
              "     width=\"24px\">\n",
              "    <g>\n",
              "        <path d=\"M19 3H5c-1.1 0-2 .9-2 2v14c0 1.1.9 2 2 2h14c1.1 0 2-.9 2-2V5c0-1.1-.9-2-2-2zM9 17H7v-7h2v7zm4 0h-2V7h2v10zm4 0h-2v-4h2v4z\"/>\n",
              "    </g>\n",
              "</svg>\n",
              "  </button>\n",
              "\n",
              "<style>\n",
              "  .colab-df-quickchart {\n",
              "      --bg-color: #E8F0FE;\n",
              "      --fill-color: #1967D2;\n",
              "      --hover-bg-color: #E2EBFA;\n",
              "      --hover-fill-color: #174EA6;\n",
              "      --disabled-fill-color: #AAA;\n",
              "      --disabled-bg-color: #DDD;\n",
              "  }\n",
              "\n",
              "  [theme=dark] .colab-df-quickchart {\n",
              "      --bg-color: #3B4455;\n",
              "      --fill-color: #D2E3FC;\n",
              "      --hover-bg-color: #434B5C;\n",
              "      --hover-fill-color: #FFFFFF;\n",
              "      --disabled-bg-color: #3B4455;\n",
              "      --disabled-fill-color: #666;\n",
              "  }\n",
              "\n",
              "  .colab-df-quickchart {\n",
              "    background-color: var(--bg-color);\n",
              "    border: none;\n",
              "    border-radius: 50%;\n",
              "    cursor: pointer;\n",
              "    display: none;\n",
              "    fill: var(--fill-color);\n",
              "    height: 32px;\n",
              "    padding: 0;\n",
              "    width: 32px;\n",
              "  }\n",
              "\n",
              "  .colab-df-quickchart:hover {\n",
              "    background-color: var(--hover-bg-color);\n",
              "    box-shadow: 0 1px 2px rgba(60, 64, 67, 0.3), 0 1px 3px 1px rgba(60, 64, 67, 0.15);\n",
              "    fill: var(--button-hover-fill-color);\n",
              "  }\n",
              "\n",
              "  .colab-df-quickchart-complete:disabled,\n",
              "  .colab-df-quickchart-complete:disabled:hover {\n",
              "    background-color: var(--disabled-bg-color);\n",
              "    fill: var(--disabled-fill-color);\n",
              "    box-shadow: none;\n",
              "  }\n",
              "\n",
              "  .colab-df-spinner {\n",
              "    border: 2px solid var(--fill-color);\n",
              "    border-color: transparent;\n",
              "    border-bottom-color: var(--fill-color);\n",
              "    animation:\n",
              "      spin 1s steps(1) infinite;\n",
              "  }\n",
              "\n",
              "  @keyframes spin {\n",
              "    0% {\n",
              "      border-color: transparent;\n",
              "      border-bottom-color: var(--fill-color);\n",
              "      border-left-color: var(--fill-color);\n",
              "    }\n",
              "    20% {\n",
              "      border-color: transparent;\n",
              "      border-left-color: var(--fill-color);\n",
              "      border-top-color: var(--fill-color);\n",
              "    }\n",
              "    30% {\n",
              "      border-color: transparent;\n",
              "      border-left-color: var(--fill-color);\n",
              "      border-top-color: var(--fill-color);\n",
              "      border-right-color: var(--fill-color);\n",
              "    }\n",
              "    40% {\n",
              "      border-color: transparent;\n",
              "      border-right-color: var(--fill-color);\n",
              "      border-top-color: var(--fill-color);\n",
              "    }\n",
              "    60% {\n",
              "      border-color: transparent;\n",
              "      border-right-color: var(--fill-color);\n",
              "    }\n",
              "    80% {\n",
              "      border-color: transparent;\n",
              "      border-right-color: var(--fill-color);\n",
              "      border-bottom-color: var(--fill-color);\n",
              "    }\n",
              "    90% {\n",
              "      border-color: transparent;\n",
              "      border-bottom-color: var(--fill-color);\n",
              "    }\n",
              "  }\n",
              "</style>\n",
              "\n",
              "  <script>\n",
              "    async function quickchart(key) {\n",
              "      const quickchartButtonEl =\n",
              "        document.querySelector('#' + key + ' button');\n",
              "      quickchartButtonEl.disabled = true;  // To prevent multiple clicks.\n",
              "      quickchartButtonEl.classList.add('colab-df-spinner');\n",
              "      try {\n",
              "        const charts = await google.colab.kernel.invokeFunction(\n",
              "            'suggestCharts', [key], {});\n",
              "      } catch (error) {\n",
              "        console.error('Error during call to suggestCharts:', error);\n",
              "      }\n",
              "      quickchartButtonEl.classList.remove('colab-df-spinner');\n",
              "      quickchartButtonEl.classList.add('colab-df-quickchart-complete');\n",
              "    }\n",
              "    (() => {\n",
              "      let quickchartButtonEl =\n",
              "        document.querySelector('#df-b1e5f7ee-68ab-487b-90a3-075dd59d545d button');\n",
              "      quickchartButtonEl.style.display =\n",
              "        google.colab.kernel.accessAllowed ? 'block' : 'none';\n",
              "    })();\n",
              "  </script>\n",
              "</div>\n",
              "\n",
              "  <div id=\"id_2632050c-3483-4bb0-bf54-97dd0bb2f095\">\n",
              "    <style>\n",
              "      .colab-df-generate {\n",
              "        background-color: #E8F0FE;\n",
              "        border: none;\n",
              "        border-radius: 50%;\n",
              "        cursor: pointer;\n",
              "        display: none;\n",
              "        fill: #1967D2;\n",
              "        height: 32px;\n",
              "        padding: 0 0 0 0;\n",
              "        width: 32px;\n",
              "      }\n",
              "\n",
              "      .colab-df-generate:hover {\n",
              "        background-color: #E2EBFA;\n",
              "        box-shadow: 0px 1px 2px rgba(60, 64, 67, 0.3), 0px 1px 3px 1px rgba(60, 64, 67, 0.15);\n",
              "        fill: #174EA6;\n",
              "      }\n",
              "\n",
              "      [theme=dark] .colab-df-generate {\n",
              "        background-color: #3B4455;\n",
              "        fill: #D2E3FC;\n",
              "      }\n",
              "\n",
              "      [theme=dark] .colab-df-generate:hover {\n",
              "        background-color: #434B5C;\n",
              "        box-shadow: 0px 1px 3px 1px rgba(0, 0, 0, 0.15);\n",
              "        filter: drop-shadow(0px 1px 2px rgba(0, 0, 0, 0.3));\n",
              "        fill: #FFFFFF;\n",
              "      }\n",
              "    </style>\n",
              "    <button class=\"colab-df-generate\" onclick=\"generateWithVariable('df_copy')\"\n",
              "            title=\"Generate code using this dataframe.\"\n",
              "            style=\"display:none;\">\n",
              "\n",
              "  <svg xmlns=\"http://www.w3.org/2000/svg\" height=\"24px\"viewBox=\"0 0 24 24\"\n",
              "       width=\"24px\">\n",
              "    <path d=\"M7,19H8.4L18.45,9,17,7.55,7,17.6ZM5,21V16.75L18.45,3.32a2,2,0,0,1,2.83,0l1.4,1.43a1.91,1.91,0,0,1,.58,1.4,1.91,1.91,0,0,1-.58,1.4L9.25,21ZM18.45,9,17,7.55Zm-12,3A5.31,5.31,0,0,0,4.9,8.1,5.31,5.31,0,0,0,1,6.5,5.31,5.31,0,0,0,4.9,4.9,5.31,5.31,0,0,0,6.5,1,5.31,5.31,0,0,0,8.1,4.9,5.31,5.31,0,0,0,12,6.5,5.46,5.46,0,0,0,6.5,12Z\"/>\n",
              "  </svg>\n",
              "    </button>\n",
              "    <script>\n",
              "      (() => {\n",
              "      const buttonEl =\n",
              "        document.querySelector('#id_2632050c-3483-4bb0-bf54-97dd0bb2f095 button.colab-df-generate');\n",
              "      buttonEl.style.display =\n",
              "        google.colab.kernel.accessAllowed ? 'block' : 'none';\n",
              "\n",
              "      buttonEl.onclick = () => {\n",
              "        google.colab.notebook.generateWithVariable('df_copy');\n",
              "      }\n",
              "      })();\n",
              "    </script>\n",
              "  </div>\n",
              "\n",
              "    </div>\n",
              "  </div>\n"
            ]
          },
          "metadata": {},
          "execution_count": 12
        }
      ]
    },
    {
      "cell_type": "markdown",
      "source": [
        "# ***Data Cleaning***"
      ],
      "metadata": {
        "id": "7HpHIIIwzSYg"
      }
    },
    {
      "cell_type": "markdown",
      "source": [
        "year has many non-year values"
      ],
      "metadata": {
        "id": "LUupVN4Ozn1a"
      }
    },
    {
      "cell_type": "code",
      "source": [
        "df=df[df['year'].str.isnumeric()]"
      ],
      "metadata": {
        "id": "q-7nuVKsv_P6"
      },
      "execution_count": null,
      "outputs": []
    },
    {
      "cell_type": "markdown",
      "source": [
        "year is in object. Change to integer"
      ],
      "metadata": {
        "id": "khZu54qczy5z"
      }
    },
    {
      "cell_type": "code",
      "source": [
        "df['year']=df['year'].astype(int)"
      ],
      "metadata": {
        "colab": {
          "base_uri": "https://localhost:8080/"
        },
        "id": "v8z3FP4Pv_Sa",
        "outputId": "73093adb-493e-4b62-cf7c-6ab820367e25"
      },
      "execution_count": null,
      "outputs": [
        {
          "output_type": "stream",
          "name": "stderr",
          "text": [
            "<ipython-input-14-d065cfac7303>:1: SettingWithCopyWarning: \n",
            "A value is trying to be set on a copy of a slice from a DataFrame.\n",
            "Try using .loc[row_indexer,col_indexer] = value instead\n",
            "\n",
            "See the caveats in the documentation: https://pandas.pydata.org/pandas-docs/stable/user_guide/indexing.html#returning-a-view-versus-a-copy\n",
            "  df['year']=df['year'].astype(int)\n"
          ]
        }
      ]
    },
    {
      "cell_type": "code",
      "source": [
        "df.info()"
      ],
      "metadata": {
        "colab": {
          "base_uri": "https://localhost:8080/"
        },
        "id": "QyrBCiIzv_Ug",
        "outputId": "9eea2b0c-f97d-492f-82b2-77a91ea17a12"
      },
      "execution_count": null,
      "outputs": [
        {
          "output_type": "stream",
          "name": "stdout",
          "text": [
            "<class 'pandas.core.frame.DataFrame'>\n",
            "Int64Index: 842 entries, 0 to 891\n",
            "Data columns (total 6 columns):\n",
            " #   Column      Non-Null Count  Dtype \n",
            "---  ------      --------------  ----- \n",
            " 0   name        842 non-null    object\n",
            " 1   company     842 non-null    object\n",
            " 2   year        842 non-null    int64 \n",
            " 3   Price       842 non-null    object\n",
            " 4   kms_driven  840 non-null    object\n",
            " 5   fuel_type   837 non-null    object\n",
            "dtypes: int64(1), object(5)\n",
            "memory usage: 46.0+ KB\n"
          ]
        }
      ]
    },
    {
      "cell_type": "markdown",
      "source": [
        "Price has Ask for Price"
      ],
      "metadata": {
        "id": "VHIGxF9w1pWI"
      }
    },
    {
      "cell_type": "code",
      "source": [
        "df=df[df['Price']!='Ask For Price']"
      ],
      "metadata": {
        "id": "H8YdJ3zbv_WS"
      },
      "execution_count": null,
      "outputs": []
    },
    {
      "cell_type": "markdown",
      "source": [
        "Price has commas in its prices and is in object"
      ],
      "metadata": {
        "id": "U2UEvI8k1z3t"
      }
    },
    {
      "cell_type": "code",
      "source": [
        "df['Price']=df['Price'].str.replace(',','')"
      ],
      "metadata": {
        "id": "zz5ukK0zv_YF"
      },
      "execution_count": null,
      "outputs": []
    },
    {
      "cell_type": "markdown",
      "source": [
        "Price is in object. Change to integer"
      ],
      "metadata": {
        "id": "JqPnnrOb27Qg"
      }
    },
    {
      "cell_type": "code",
      "source": [
        "df['Price']=df['Price'].astype(int)"
      ],
      "metadata": {
        "id": "RW9el3wV2hvX"
      },
      "execution_count": null,
      "outputs": []
    },
    {
      "cell_type": "code",
      "source": [
        "df['Price'].unique()"
      ],
      "metadata": {
        "colab": {
          "base_uri": "https://localhost:8080/"
        },
        "id": "iPKIRqpHv_Z1",
        "outputId": "f557b651-dc27-495a-852b-52d8e7f1cd69"
      },
      "execution_count": null,
      "outputs": [
        {
          "output_type": "execute_result",
          "data": {
            "text/plain": [
              "array([  80000,  425000,  325000,  575000,  175000,  190000,  830000,\n",
              "        250000,  182000,  315000,  415000,  320000, 1000000,  500000,\n",
              "        350000,  160000,  310000,   75000,  100000,  290000,   95000,\n",
              "        180000,  385000,  105000,  650000,  689999,  448000,  549000,\n",
              "        501000,  489999,  280000,  349999,  284999,  345000,  499999,\n",
              "        235000,  249999, 1475000,  395000,  220000,  170000,   85000,\n",
              "        200000,  570000,  110000,  448999, 1891111,  159500,  344999,\n",
              "        449999,  865000,  699000,  375000,  224999, 1200000,  195000,\n",
              "        351000,  240000,   90000,  155000,  600000,  189500,  210000,\n",
              "        390000,  135000, 1600000,  701000,  265000,  525000,  372000,\n",
              "        635000,  550000,  485000,  329500,  251111,  569999,   69999,\n",
              "        299999,  399999,  450000,  270000,  158400,  179000,  125000,\n",
              "        299000,  150000,  275000,  285000,  340000,   70000,  289999,\n",
              "        849999,  749999,  274999,  984999,  599999,  244999,  474999,\n",
              "        245000,  169500,  370000,  168000,  145000,   98500,  209000,\n",
              "        185000,  900000,  699999,  199999,  544999,  199000,  540000,\n",
              "         49000,  700000,   55000,  895000,  355000,  565000,  365000,\n",
              "         40000,  400000,  330000,  580000,  379000,  219000,  519000,\n",
              "        730000, 2000000, 2100000, 1400000,  311000,  855000,  535000,\n",
              "        178000,  300000,  255000,  549999,  380000,   57000,  410000,\n",
              "        225000,  120000,   59000,  599000,  675000,   72500,  610000,\n",
              "        230000,  520000,  524999,  424999,  644999,  584999,  799999,\n",
              "        444999,  649999,  944999,  574999,  374999,  130000,  401000,\n",
              "       1350000,  174999,  239999,   99999,  324999, 1074999, 1130000,\n",
              "        149000,  770000,   30000,  335000,  399000,   65000,  169999,\n",
              "        165000,  560000,  950000,  715000,   45000,  940000,  155555,\n",
              "       1500000,  495000,  800000, 1299000,  530000, 1499000,   32000,\n",
              "        405000,  760000,  750000,  419000,  140000, 1540000,  123000,\n",
              "        498000,  480000,  488000, 1525000,  548900,  725000,   99000,\n",
              "         52000, 2800000,  499000,  381000,  278000,  690000,  260000,\n",
              "         90001,  115000, 1599000,  159000,   51999,  215000,   35000,\n",
              "       1150000,  269000,   60000,  430000, 8500003,  401919,  490000,\n",
              "        424000,  205000,  549900,  435000,  189700,  389700,  360000,\n",
              "        295000,  114990, 1065000,  470000,   48000,  188000,  465000,\n",
              "        179999, 2190000, 2390000, 1075000,  475000, 1025000,  615000,\n",
              "       1900000, 1490000, 1510000, 1850000,  790000, 1725000, 1225000,\n",
              "         68000,  970000, 3100000,  899000,   88000,   53000,  568500,\n",
              "         71000,  590000,  795000,   42000,  189000,  162000,   35999,\n",
              "       2900000,   39999,   50500,  510000,  860000,  500001])"
            ]
          },
          "metadata": {},
          "execution_count": 19
        }
      ]
    },
    {
      "cell_type": "code",
      "source": [
        "df.info()"
      ],
      "metadata": {
        "colab": {
          "base_uri": "https://localhost:8080/"
        },
        "id": "Ww8rs62dv_bh",
        "outputId": "481c381f-22c4-44a3-ea3d-bfe3af23d57f"
      },
      "execution_count": null,
      "outputs": [
        {
          "output_type": "stream",
          "name": "stdout",
          "text": [
            "<class 'pandas.core.frame.DataFrame'>\n",
            "Int64Index: 819 entries, 0 to 891\n",
            "Data columns (total 6 columns):\n",
            " #   Column      Non-Null Count  Dtype \n",
            "---  ------      --------------  ----- \n",
            " 0   name        819 non-null    object\n",
            " 1   company     819 non-null    object\n",
            " 2   year        819 non-null    int64 \n",
            " 3   Price       819 non-null    int64 \n",
            " 4   kms_driven  819 non-null    object\n",
            " 5   fuel_type   816 non-null    object\n",
            "dtypes: int64(2), object(4)\n",
            "memory usage: 44.8+ KB\n"
          ]
        }
      ]
    },
    {
      "cell_type": "code",
      "source": [
        "plt.subplots(figsize=(15,7))\n",
        "ax=sns.boxplot(x='company',y='Price',data=df)\n",
        "ax.set_xticklabels(ax.get_xticklabels(),rotation=40,ha='right')\n",
        "plt.show()"
      ],
      "metadata": {
        "id": "_GWH7AIGv_d5",
        "colab": {
          "base_uri": "https://localhost:8080/",
          "height": 529
        },
        "outputId": "d732a739-319b-43fd-b771-b04a73c457f0"
      },
      "execution_count": null,
      "outputs": [
        {
          "output_type": "display_data",
          "data": {
            "text/plain": [
              "<Figure size 1500x700 with 1 Axes>"
            ],
            "image/png": "[encoded data removed]"
          },
          "metadata": {}
        }
      ]
    },
    {
      "cell_type": "markdown",
      "source": [
        "kms_driven has object values with kms at last"
      ],
      "metadata": {
        "id": "tqu29iG0l0g-"
      }
    },
    {
      "cell_type": "code",
      "source": [
        "df['kms_driven']=df['kms_driven'].str.split().str.get(0)"
      ],
      "metadata": {
        "id": "dxhycKxlv_h7"
      },
      "execution_count": null,
      "outputs": []
    },
    {
      "cell_type": "code",
      "source": [
        "df['kms_driven'].unique()"
      ],
      "metadata": {
        "id": "73zeSpowv_kI",
        "colab": {
          "base_uri": "https://localhost:8080/"
        },
        "outputId": "ccab04f2-5579-411a-84c1-f6f4df0d8c55"
      },
      "execution_count": null,
      "outputs": [
        {
          "output_type": "execute_result",
          "data": {
            "text/plain": [
              "array(['45,000', '40', '28,000', '36,000', '41,000', '25,000', '24,530',\n",
              "       '60,000', '30,000', '32,000', '48,660', '4,000', '16,934',\n",
              "       '43,000', '35,550', '39,522', '39,000', '55,000', '72,000',\n",
              "       '15,975', '70,000', '23,452', '35,522', '48,508', '15,487',\n",
              "       '82,000', '20,000', '68,000', '38,000', '27,000', '33,000',\n",
              "       '46,000', '16,000', '47,000', '35,000', '30,874', '15,000',\n",
              "       '29,685', '1,30,000', '19,000', '54,000', '13,000', '38,200',\n",
              "       '22,000', '50,000', '13,500', '3,600', '45,863', '60,500',\n",
              "       '12,500', '18,000', '13,349', '29,000', '44,000', '42,000',\n",
              "       '14,000', '49,000', '36,200', '51,000', '1,04,000', '33,333',\n",
              "       '33,600', '5,600', '7,500', '26,000', '24,330', '65,480',\n",
              "       '2,00,000', '59,000', '99,000', '2,800', '21,000', '11,000',\n",
              "       '66,000', '3,000', '7,000', '38,500', '37,200', '43,200', '24,800',\n",
              "       '45,872', '40,000', '11,400', '97,200', '52,000', '31,000',\n",
              "       '1,75,430', '37,000', '65,000', '3,350', '75,000', '62,000',\n",
              "       '73,000', '2,200', '54,870', '34,580', '97,000', '60', '80,200',\n",
              "       '3,200', '0,000', '5,000', '588', '71,200', '1,75,400', '9,300',\n",
              "       '56,758', '10,000', '56,450', '56,000', '32,700', '9,000', '73',\n",
              "       '1,60,000', '58,559', '57,000', '1,70,000', '80,000', '6,821',\n",
              "       '23,000', '34,000', '1,800', '4,00,000', '48,000', '90,000',\n",
              "       '12,000', '69,900', '1,66,000', '122', '0', '36,469', '7,800',\n",
              "       '24,695', '15,141', '59,910', '1,00,000', '4,500', '1,29,000',\n",
              "       '300', '1,31,000', '1,11,111', '59,466', '25,500', '44,005',\n",
              "       '2,110', '43,222', '1,00,200', '65', '1,40,000', '1,03,553',\n",
              "       '58,000', '1,20,000', '49,800', '100', '81,876', '6,020', '55,700',\n",
              "       '18,500', '53,000', '35,500', '22,134', '1,000', '8,500', '87,000',\n",
              "       '6,000', '8,000', '55,800', '56,400', '72,160', '11,500',\n",
              "       '1,33,000', '2,000', '88,000', '65,422', '1,17,000', '1,50,000',\n",
              "       '10,750', '6,800', '9,800', '57,923', '30,201', '6,200', '37,518',\n",
              "       '24,652', '383', '95,000', '3,528', '52,500', '47,900', '52,800',\n",
              "       '1,95,000', '48,008', '48,247', '9,400', '64,000', '2,137',\n",
              "       '10,544', '1,47,000', '90,001', '48,006', '74,000', '85,000',\n",
              "       '29,500', '39,700', '67,000', '19,336', '60,105', '45,933',\n",
              "       '1,02,563', '28,600', '41,800', '1,16,000', '42,590', '7,400',\n",
              "       '54,500', '76,000', '00', '11,523', '38,600', '95,500', '37,458',\n",
              "       '85,960', '12,516', '30,600', '2,550', '62,500', '69,000',\n",
              "       '28,400', '68,485', '3,500', '85,455', '63,000', '1,600', '77,000',\n",
              "       '26,500', '2,875', '13,900', '1,500', '2,450', '1,625', '33,400',\n",
              "       '60,123', '1,37,495', '91,200', '1,46,000', '1,00,800', '2,100',\n",
              "       '2,500', '1,32,000', 'Petrol'], dtype=object)"
            ]
          },
          "metadata": {},
          "execution_count": 23
        }
      ]
    },
    {
      "cell_type": "code",
      "source": [
        "df['kms_driven']=df['kms_driven'].str.replace(\",\",\"\")"
      ],
      "metadata": {
        "id": "ezkU0422nUa6"
      },
      "execution_count": null,
      "outputs": []
    },
    {
      "cell_type": "code",
      "source": [
        "df['kms_driven'].unique()"
      ],
      "metadata": {
        "colab": {
          "base_uri": "https://localhost:8080/"
        },
        "id": "ON4VJPhPnUuK",
        "outputId": "3868ca7c-a758-4152-ec5f-aa578075b60b"
      },
      "execution_count": null,
      "outputs": [
        {
          "output_type": "execute_result",
          "data": {
            "text/plain": [
              "array(['45000', '40', '28000', '36000', '41000', '25000', '24530',\n",
              "       '60000', '30000', '32000', '48660', '4000', '16934', '43000',\n",
              "       '35550', '39522', '39000', '55000', '72000', '15975', '70000',\n",
              "       '23452', '35522', '48508', '15487', '82000', '20000', '68000',\n",
              "       '38000', '27000', '33000', '46000', '16000', '47000', '35000',\n",
              "       '30874', '15000', '29685', '130000', '19000', '54000', '13000',\n",
              "       '38200', '22000', '50000', '13500', '3600', '45863', '60500',\n",
              "       '12500', '18000', '13349', '29000', '44000', '42000', '14000',\n",
              "       '49000', '36200', '51000', '104000', '33333', '33600', '5600',\n",
              "       '7500', '26000', '24330', '65480', '200000', '59000', '99000',\n",
              "       '2800', '21000', '11000', '66000', '3000', '7000', '38500',\n",
              "       '37200', '43200', '24800', '45872', '40000', '11400', '97200',\n",
              "       '52000', '31000', '175430', '37000', '65000', '3350', '75000',\n",
              "       '62000', '73000', '2200', '54870', '34580', '97000', '60', '80200',\n",
              "       '3200', '0000', '5000', '588', '71200', '175400', '9300', '56758',\n",
              "       '10000', '56450', '56000', '32700', '9000', '73', '160000',\n",
              "       '58559', '57000', '170000', '80000', '6821', '23000', '34000',\n",
              "       '1800', '400000', '48000', '90000', '12000', '69900', '166000',\n",
              "       '122', '0', '36469', '7800', '24695', '15141', '59910', '100000',\n",
              "       '4500', '129000', '300', '131000', '111111', '59466', '25500',\n",
              "       '44005', '2110', '43222', '100200', '65', '140000', '103553',\n",
              "       '58000', '120000', '49800', '100', '81876', '6020', '55700',\n",
              "       '18500', '53000', '35500', '22134', '1000', '8500', '87000',\n",
              "       '6000', '8000', '55800', '56400', '72160', '11500', '133000',\n",
              "       '2000', '88000', '65422', '117000', '150000', '10750', '6800',\n",
              "       '9800', '57923', '30201', '6200', '37518', '24652', '383', '95000',\n",
              "       '3528', '52500', '47900', '52800', '195000', '48008', '48247',\n",
              "       '9400', '64000', '2137', '10544', '147000', '90001', '48006',\n",
              "       '74000', '85000', '29500', '39700', '67000', '19336', '60105',\n",
              "       '45933', '102563', '28600', '41800', '116000', '42590', '7400',\n",
              "       '54500', '76000', '00', '11523', '38600', '95500', '37458',\n",
              "       '85960', '12516', '30600', '2550', '62500', '69000', '28400',\n",
              "       '68485', '3500', '85455', '63000', '1600', '77000', '26500',\n",
              "       '2875', '13900', '1500', '2450', '1625', '33400', '60123',\n",
              "       '137495', '91200', '146000', '100800', '2100', '2500', '132000',\n",
              "       'Petrol'], dtype=object)"
            ]
          },
          "metadata": {},
          "execution_count": 25
        }
      ]
    },
    {
      "cell_type": "markdown",
      "source": [
        "It has nan values and two rows have 'Petrol' in them."
      ],
      "metadata": {
        "id": "OZrseVIsnmfr"
      }
    },
    {
      "cell_type": "code",
      "source": [
        "df=df[df['kms_driven'].str.isnumeric()]"
      ],
      "metadata": {
        "id": "l7Wv3cA9nUxk"
      },
      "execution_count": null,
      "outputs": []
    },
    {
      "cell_type": "markdown",
      "source": [
        "kms_driven is in object. Change to integer"
      ],
      "metadata": {
        "id": "8aGgeW9Lo4uf"
      }
    },
    {
      "cell_type": "code",
      "source": [
        "df['kms_driven']=df['kms_driven'].astype(int)"
      ],
      "metadata": {
        "id": "YeDthDqSoMdh",
        "colab": {
          "base_uri": "https://localhost:8080/"
        },
        "outputId": "ed973095-f00d-4eb3-aa08-123896304787"
      },
      "execution_count": null,
      "outputs": [
        {
          "output_type": "stream",
          "name": "stderr",
          "text": [
            "<ipython-input-27-8efe6069236f>:1: SettingWithCopyWarning: \n",
            "A value is trying to be set on a copy of a slice from a DataFrame.\n",
            "Try using .loc[row_indexer,col_indexer] = value instead\n",
            "\n",
            "See the caveats in the documentation: https://pandas.pydata.org/pandas-docs/stable/user_guide/indexing.html#returning-a-view-versus-a-copy\n",
            "  df['kms_driven']=df['kms_driven'].astype(int)\n"
          ]
        }
      ]
    },
    {
      "cell_type": "markdown",
      "source": [
        "fuel_type has nan values"
      ],
      "metadata": {
        "id": "38rbphsSqSa1"
      }
    },
    {
      "cell_type": "code",
      "source": [
        "df=df[~df['fuel_type'].isna()]"
      ],
      "metadata": {
        "id": "I5Lwi40UpSFV"
      },
      "execution_count": null,
      "outputs": []
    },
    {
      "cell_type": "code",
      "source": [
        "df['fuel_type'].unique()"
      ],
      "metadata": {
        "id": "7woKYaFupRs5",
        "colab": {
          "base_uri": "https://localhost:8080/"
        },
        "outputId": "75c32a95-a178-4bf0-d941-38f9b33b6b59"
      },
      "execution_count": null,
      "outputs": [
        {
          "output_type": "execute_result",
          "data": {
            "text/plain": [
              "array(['Petrol', 'Diesel', 'LPG'], dtype=object)"
            ]
          },
          "metadata": {},
          "execution_count": 29
        }
      ]
    },
    {
      "cell_type": "code",
      "source": [
        "df.shape"
      ],
      "metadata": {
        "id": "ll1wdeXZpKmz",
        "colab": {
          "base_uri": "https://localhost:8080/"
        },
        "outputId": "950c75c5-a3ac-45ef-f5fb-5f2f15a26b79"
      },
      "execution_count": null,
      "outputs": [
        {
          "output_type": "execute_result",
          "data": {
            "text/plain": [
              "(816, 6)"
            ]
          },
          "metadata": {},
          "execution_count": 30
        }
      ]
    },
    {
      "cell_type": "markdown",
      "source": [
        "**name and company had spammed data...but with the previous cleaning, those rows got removed.**"
      ],
      "metadata": {
        "id": "13cm0tj5doJm"
      }
    },
    {
      "cell_type": "markdown",
      "source": [
        "Company does not need any cleaning now. Changing car names. Keeping only the first three words"
      ],
      "metadata": {
        "id": "uuHlhtaEdvpO"
      }
    },
    {
      "cell_type": "code",
      "source": [
        "df['name']=df['name'].str.split().str.slice(start=0,stop=3).str.join(' ')"
      ],
      "metadata": {
        "id": "Ke2qjL9DdFm2"
      },
      "execution_count": null,
      "outputs": []
    },
    {
      "cell_type": "markdown",
      "source": [
        "Resetting the index of the final cleaned data"
      ],
      "metadata": {
        "id": "S2gnIS1NeVmQ"
      }
    },
    {
      "cell_type": "code",
      "source": [
        "df=df.reset_index(drop=True)"
      ],
      "metadata": {
        "id": "-UYRo62MdE1S"
      },
      "execution_count": null,
      "outputs": []
    },
    {
      "cell_type": "markdown",
      "source": [
        "# ***Cleaned Data***"
      ],
      "metadata": {
        "id": "ijpak2SFfddL"
      }
    },
    {
      "cell_type": "code",
      "source": [
        "df.head()"
      ],
      "metadata": {
        "colab": {
          "base_uri": "https://localhost:8080/",
          "height": 206
        },
        "id": "0OXGeTEVdHWH",
        "outputId": "760a82c5-088b-4d37-fd7f-c3d752855ed0"
      },
      "execution_count": null,
      "outputs": [
        {
          "output_type": "execute_result",
          "data": {
            "text/plain": [
              "                     name   company  year   Price  kms_driven fuel_type\n",
              "0     Hyundai Santro Xing   Hyundai  2007   80000       45000    Petrol\n",
              "1     Mahindra Jeep CL550  Mahindra  2006  425000          40    Diesel\n",
              "2       Hyundai Grand i10   Hyundai  2014  325000       28000    Petrol\n",
              "3  Ford EcoSport Titanium      Ford  2014  575000       36000    Diesel\n",
              "4               Ford Figo      Ford  2012  175000       41000    Diesel"
            ],
            "text/html": [
              "\n",
              "  <div id=\"df-64b77374-23cc-4a47-a0d7-d3ca05ff997f\" class=\"colab-df-container\">\n",
              "    <div>\n",
              "<style scoped>\n",
              "    .dataframe tbody tr th:only-of-type {\n",
              "        vertical-align: middle;\n",
              "    }\n",
              "\n",
              "    .dataframe tbody tr th {\n",
              "        vertical-align: top;\n",
              "    }\n",
              "\n",
              "    .dataframe thead th {\n",
              "        text-align: right;\n",
              "    }\n",
              "</style>\n",
              "<table border=\"1\" class=\"dataframe\">\n",
              "  <thead>\n",
              "    <tr style=\"text-align: right;\">\n",
              "      <th></th>\n",
              "      <th>name</th>\n",
              "      <th>company</th>\n",
              "      <th>year</th>\n",
              "      <th>Price</th>\n",
              "      <th>kms_driven</th>\n",
              "      <th>fuel_type</th>\n",
              "    </tr>\n",
              "  </thead>\n",
              "  <tbody>\n",
              "    <tr>\n",
              "      <th>0</th>\n",
              "      <td>Hyundai Santro Xing</td>\n",
              "      <td>Hyundai</td>\n",
              "      <td>2007</td>\n",
              "      <td>80000</td>\n",
              "      <td>45000</td>\n",
              "      <td>Petrol</td>\n",
              "    </tr>\n",
              "    <tr>\n",
              "      <th>1</th>\n",
              "      <td>Mahindra Jeep CL550</td>\n",
              "      <td>Mahindra</td>\n",
              "      <td>2006</td>\n",
              "      <td>425000</td>\n",
              "      <td>40</td>\n",
              "      <td>Diesel</td>\n",
              "    </tr>\n",
              "    <tr>\n",
              "      <th>2</th>\n",
              "      <td>Hyundai Grand i10</td>\n",
              "      <td>Hyundai</td>\n",
              "      <td>2014</td>\n",
              "      <td>325000</td>\n",
              "      <td>28000</td>\n",
              "      <td>Petrol</td>\n",
              "    </tr>\n",
              "    <tr>\n",
              "      <th>3</th>\n",
              "      <td>Ford EcoSport Titanium</td>\n",
              "      <td>Ford</td>\n",
              "      <td>2014</td>\n",
              "      <td>575000</td>\n",
              "      <td>36000</td>\n",
              "      <td>Diesel</td>\n",
              "    </tr>\n",
              "    <tr>\n",
              "      <th>4</th>\n",
              "      <td>Ford Figo</td>\n",
              "      <td>Ford</td>\n",
              "      <td>2012</td>\n",
              "      <td>175000</td>\n",
              "      <td>41000</td>\n",
              "      <td>Diesel</td>\n",
              "    </tr>\n",
              "  </tbody>\n",
              "</table>\n",
              "</div>\n",
              "    <div class=\"colab-df-buttons\">\n",
              "\n",
              "  <div class=\"colab-df-container\">\n",
              "    <button class=\"colab-df-convert\" onclick=\"convertToInteractive('df-64b77374-23cc-4a47-a0d7-d3ca05ff997f')\"\n",
              "            title=\"Convert this dataframe to an interactive table.\"\n",
              "            style=\"display:none;\">\n",
              "\n",
              "  <svg xmlns=\"http://www.w3.org/2000/svg\" height=\"24px\" viewBox=\"0 -960 960 960\">\n",
              "    <path d=\"M120-120v-720h720v720H120Zm60-500h600v-160H180v160Zm220 220h160v-160H400v160Zm0 220h160v-160H400v160ZM180-400h160v-160H180v160Zm440 0h160v-160H620v160ZM180-180h160v-160H180v160Zm440 0h160v-160H620v160Z\"/>\n",
              "  </svg>\n",
              "    </button>\n",
              "\n",
              "  <style>\n",
              "    .colab-df-container {\n",
              "      display:flex;\n",
              "      gap: 12px;\n",
              "    }\n",
              "\n",
              "    .colab-df-convert {\n",
              "      background-color: #E8F0FE;\n",
              "      border: none;\n",
              "      border-radius: 50%;\n",
              "      cursor: pointer;\n",
              "      display: none;\n",
              "      fill: #1967D2;\n",
              "      height: 32px;\n",
              "      padding: 0 0 0 0;\n",
              "      width: 32px;\n",
              "    }\n",
              "\n",
              "    .colab-df-convert:hover {\n",
              "      background-color: #E2EBFA;\n",
              "      box-shadow: 0px 1px 2px rgba(60, 64, 67, 0.3), 0px 1px 3px 1px rgba(60, 64, 67, 0.15);\n",
              "      fill: #174EA6;\n",
              "    }\n",
              "\n",
              "    .colab-df-buttons div {\n",
              "      margin-bottom: 4px;\n",
              "    }\n",
              "\n",
              "    [theme=dark] .colab-df-convert {\n",
              "      background-color: #3B4455;\n",
              "      fill: #D2E3FC;\n",
              "    }\n",
              "\n",
              "    [theme=dark] .colab-df-convert:hover {\n",
              "      background-color: #434B5C;\n",
              "      box-shadow: 0px 1px 3px 1px rgba(0, 0, 0, 0.15);\n",
              "      filter: drop-shadow(0px 1px 2px rgba(0, 0, 0, 0.3));\n",
              "      fill: #FFFFFF;\n",
              "    }\n",
              "  </style>\n",
              "\n",
              "    <script>\n",
              "      const buttonEl =\n",
              "        document.querySelector('#df-64b77374-23cc-4a47-a0d7-d3ca05ff997f button.colab-df-convert');\n",
              "      buttonEl.style.display =\n",
              "        google.colab.kernel.accessAllowed ? 'block' : 'none';\n",
              "\n",
              "      async function convertToInteractive(key) {\n",
              "        const element = document.querySelector('#df-64b77374-23cc-4a47-a0d7-d3ca05ff997f');\n",
              "        const dataTable =\n",
              "          await google.colab.kernel.invokeFunction('convertToInteractive',\n",
              "                                                    [key], {});\n",
              "        if (!dataTable) return;\n",
              "\n",
              "        const docLinkHtml = 'Like what you see? Visit the ' +\n",
              "          '<a target=\"_blank\" href=https://colab.research.google.com/notebooks/data_table.ipynb>data table notebook</a>'\n",
              "          + ' to learn more about interactive tables.';\n",
              "        element.innerHTML = '';\n",
              "        dataTable['output_type'] = 'display_data';\n",
              "        await google.colab.output.renderOutput(dataTable, element);\n",
              "        const docLink = document.createElement('div');\n",
              "        docLink.innerHTML = docLinkHtml;\n",
              "        element.appendChild(docLink);\n",
              "      }\n",
              "    </script>\n",
              "  </div>\n",
              "\n",
              "\n",
              "<div id=\"df-b82a2fa7-30a3-4e5e-a57a-a3782a3e05c6\">\n",
              "  <button class=\"colab-df-quickchart\" onclick=\"quickchart('df-b82a2fa7-30a3-4e5e-a57a-a3782a3e05c6')\"\n",
              "            title=\"Suggest charts\"\n",
              "            style=\"display:none;\">\n",
              "\n",
              "<svg xmlns=\"http://www.w3.org/2000/svg\" height=\"24px\"viewBox=\"0 0 24 24\"\n",
              "     width=\"24px\">\n",
              "    <g>\n",
              "        <path d=\"M19 3H5c-1.1 0-2 .9-2 2v14c0 1.1.9 2 2 2h14c1.1 0 2-.9 2-2V5c0-1.1-.9-2-2-2zM9 17H7v-7h2v7zm4 0h-2V7h2v10zm4 0h-2v-4h2v4z\"/>\n",
              "    </g>\n",
              "</svg>\n",
              "  </button>\n",
              "\n",
              "<style>\n",
              "  .colab-df-quickchart {\n",
              "      --bg-color: #E8F0FE;\n",
              "      --fill-color: #1967D2;\n",
              "      --hover-bg-color: #E2EBFA;\n",
              "      --hover-fill-color: #174EA6;\n",
              "      --disabled-fill-color: #AAA;\n",
              "      --disabled-bg-color: #DDD;\n",
              "  }\n",
              "\n",
              "  [theme=dark] .colab-df-quickchart {\n",
              "      --bg-color: #3B4455;\n",
              "      --fill-color: #D2E3FC;\n",
              "      --hover-bg-color: #434B5C;\n",
              "      --hover-fill-color: #FFFFFF;\n",
              "      --disabled-bg-color: #3B4455;\n",
              "      --disabled-fill-color: #666;\n",
              "  }\n",
              "\n",
              "  .colab-df-quickchart {\n",
              "    background-color: var(--bg-color);\n",
              "    border: none;\n",
              "    border-radius: 50%;\n",
              "    cursor: pointer;\n",
              "    display: none;\n",
              "    fill: var(--fill-color);\n",
              "    height: 32px;\n",
              "    padding: 0;\n",
              "    width: 32px;\n",
              "  }\n",
              "\n",
              "  .colab-df-quickchart:hover {\n",
              "    background-color: var(--hover-bg-color);\n",
              "    box-shadow: 0 1px 2px rgba(60, 64, 67, 0.3), 0 1px 3px 1px rgba(60, 64, 67, 0.15);\n",
              "    fill: var(--button-hover-fill-color);\n",
              "  }\n",
              "\n",
              "  .colab-df-quickchart-complete:disabled,\n",
              "  .colab-df-quickchart-complete:disabled:hover {\n",
              "    background-color: var(--disabled-bg-color);\n",
              "    fill: var(--disabled-fill-color);\n",
              "    box-shadow: none;\n",
              "  }\n",
              "\n",
              "  .colab-df-spinner {\n",
              "    border: 2px solid var(--fill-color);\n",
              "    border-color: transparent;\n",
              "    border-bottom-color: var(--fill-color);\n",
              "    animation:\n",
              "      spin 1s steps(1) infinite;\n",
              "  }\n",
              "\n",
              "  @keyframes spin {\n",
              "    0% {\n",
              "      border-color: transparent;\n",
              "      border-bottom-color: var(--fill-color);\n",
              "      border-left-color: var(--fill-color);\n",
              "    }\n",
              "    20% {\n",
              "      border-color: transparent;\n",
              "      border-left-color: var(--fill-color);\n",
              "      border-top-color: var(--fill-color);\n",
              "    }\n",
              "    30% {\n",
              "      border-color: transparent;\n",
              "      border-left-color: var(--fill-color);\n",
              "      border-top-color: var(--fill-color);\n",
              "      border-right-color: var(--fill-color);\n",
              "    }\n",
              "    40% {\n",
              "      border-color: transparent;\n",
              "      border-right-color: var(--fill-color);\n",
              "      border-top-color: var(--fill-color);\n",
              "    }\n",
              "    60% {\n",
              "      border-color: transparent;\n",
              "      border-right-color: var(--fill-color);\n",
              "    }\n",
              "    80% {\n",
              "      border-color: transparent;\n",
              "      border-right-color: var(--fill-color);\n",
              "      border-bottom-color: var(--fill-color);\n",
              "    }\n",
              "    90% {\n",
              "      border-color: transparent;\n",
              "      border-bottom-color: var(--fill-color);\n",
              "    }\n",
              "  }\n",
              "</style>\n",
              "\n",
              "  <script>\n",
              "    async function quickchart(key) {\n",
              "      const quickchartButtonEl =\n",
              "        document.querySelector('#' + key + ' button');\n",
              "      quickchartButtonEl.disabled = true;  // To prevent multiple clicks.\n",
              "      quickchartButtonEl.classList.add('colab-df-spinner');\n",
              "      try {\n",
              "        const charts = await google.colab.kernel.invokeFunction(\n",
              "            'suggestCharts', [key], {});\n",
              "      } catch (error) {\n",
              "        console.error('Error during call to suggestCharts:', error);\n",
              "      }\n",
              "      quickchartButtonEl.classList.remove('colab-df-spinner');\n",
              "      quickchartButtonEl.classList.add('colab-df-quickchart-complete');\n",
              "    }\n",
              "    (() => {\n",
              "      let quickchartButtonEl =\n",
              "        document.querySelector('#df-b82a2fa7-30a3-4e5e-a57a-a3782a3e05c6 button');\n",
              "      quickchartButtonEl.style.display =\n",
              "        google.colab.kernel.accessAllowed ? 'block' : 'none';\n",
              "    })();\n",
              "  </script>\n",
              "</div>\n",
              "\n",
              "    </div>\n",
              "  </div>\n"
            ]
          },
          "metadata": {},
          "execution_count": 33
        }
      ]
    },
    {
      "cell_type": "code",
      "source": [
        "df.to_csv('Cleaned_data.csv')"
      ],
      "metadata": {
        "id": "vEKW_0Mcfuzq"
      },
      "execution_count": null,
      "outputs": []
    },
    {
      "cell_type": "code",
      "source": [
        "df.info()"
      ],
      "metadata": {
        "colab": {
          "base_uri": "https://localhost:8080/"
        },
        "id": "3BXUQHWlfuwy",
        "outputId": "c5d6b6e6-ecfd-4247-9791-665683633a8f"
      },
      "execution_count": null,
      "outputs": [
        {
          "output_type": "stream",
          "name": "stdout",
          "text": [
            "<class 'pandas.core.frame.DataFrame'>\n",
            "RangeIndex: 816 entries, 0 to 815\n",
            "Data columns (total 6 columns):\n",
            " #   Column      Non-Null Count  Dtype \n",
            "---  ------      --------------  ----- \n",
            " 0   name        816 non-null    object\n",
            " 1   company     816 non-null    object\n",
            " 2   year        816 non-null    int64 \n",
            " 3   Price       816 non-null    int64 \n",
            " 4   kms_driven  816 non-null    int64 \n",
            " 5   fuel_type   816 non-null    object\n",
            "dtypes: int64(3), object(3)\n",
            "memory usage: 38.4+ KB\n"
          ]
        }
      ]
    },
    {
      "cell_type": "code",
      "source": [
        "df.describe(include='all')"
      ],
      "metadata": {
        "colab": {
          "base_uri": "https://localhost:8080/",
          "height": 394
        },
        "id": "7Z6B1CNofuuU",
        "outputId": "3769d8be-5377-4d37-bab4-f5ef4d34c29b"
      },
      "execution_count": null,
      "outputs": [
        {
          "output_type": "execute_result",
          "data": {
            "text/plain": [
              "                       name company         year         Price     kms_driven  \\\n",
              "count                   816     816   816.000000  8.160000e+02     816.000000   \n",
              "unique                  254      25          NaN           NaN            NaN   \n",
              "top     Maruti Suzuki Swift  Maruti          NaN           NaN            NaN   \n",
              "freq                     51     221          NaN           NaN            NaN   \n",
              "mean                    NaN     NaN  2012.444853  4.117176e+05   46275.531863   \n",
              "std                     NaN     NaN     4.002992  4.751844e+05   34297.428044   \n",
              "min                     NaN     NaN  1995.000000  3.000000e+04       0.000000   \n",
              "25%                     NaN     NaN  2010.000000  1.750000e+05   27000.000000   \n",
              "50%                     NaN     NaN  2013.000000  2.999990e+05   41000.000000   \n",
              "75%                     NaN     NaN  2015.000000  4.912500e+05   56818.500000   \n",
              "max                     NaN     NaN  2019.000000  8.500003e+06  400000.000000   \n",
              "\n",
              "       fuel_type  \n",
              "count        816  \n",
              "unique         3  \n",
              "top       Petrol  \n",
              "freq         428  \n",
              "mean         NaN  \n",
              "std          NaN  \n",
              "min          NaN  \n",
              "25%          NaN  \n",
              "50%          NaN  \n",
              "75%          NaN  \n",
              "max          NaN  "
            ],
            "text/html": [
              "\n",
              "  <div id=\"df-72bebd51-db85-4778-ab68-ba99f3de1616\" class=\"colab-df-container\">\n",
              "    <div>\n",
              "<style scoped>\n",
              "    .dataframe tbody tr th:only-of-type {\n",
              "        vertical-align: middle;\n",
              "    }\n",
              "\n",
              "    .dataframe tbody tr th {\n",
              "        vertical-align: top;\n",
              "    }\n",
              "\n",
              "    .dataframe thead th {\n",
              "        text-align: right;\n",
              "    }\n",
              "</style>\n",
              "<table border=\"1\" class=\"dataframe\">\n",
              "  <thead>\n",
              "    <tr style=\"text-align: right;\">\n",
              "      <th></th>\n",
              "      <th>name</th>\n",
              "      <th>company</th>\n",
              "      <th>year</th>\n",
              "      <th>Price</th>\n",
              "      <th>kms_driven</th>\n",
              "      <th>fuel_type</th>\n",
              "    </tr>\n",
              "  </thead>\n",
              "  <tbody>\n",
              "    <tr>\n",
              "      <th>count</th>\n",
              "      <td>816</td>\n",
              "      <td>816</td>\n",
              "      <td>816.000000</td>\n",
              "      <td>8.160000e+02</td>\n",
              "      <td>816.000000</td>\n",
              "      <td>816</td>\n",
              "    </tr>\n",
              "    <tr>\n",
              "      <th>unique</th>\n",
              "      <td>254</td>\n",
              "      <td>25</td>\n",
              "      <td>NaN</td>\n",
              "      <td>NaN</td>\n",
              "      <td>NaN</td>\n",
              "      <td>3</td>\n",
              "    </tr>\n",
              "    <tr>\n",
              "      <th>top</th>\n",
              "      <td>Maruti Suzuki Swift</td>\n",
              "      <td>Maruti</td>\n",
              "      <td>NaN</td>\n",
              "      <td>NaN</td>\n",
              "      <td>NaN</td>\n",
              "      <td>Petrol</td>\n",
              "    </tr>\n",
              "    <tr>\n",
              "      <th>freq</th>\n",
              "      <td>51</td>\n",
              "      <td>221</td>\n",
              "      <td>NaN</td>\n",
              "      <td>NaN</td>\n",
              "      <td>NaN</td>\n",
              "      <td>428</td>\n",
              "    </tr>\n",
              "    <tr>\n",
              "      <th>mean</th>\n",
              "      <td>NaN</td>\n",
              "      <td>NaN</td>\n",
              "      <td>2012.444853</td>\n",
              "      <td>4.117176e+05</td>\n",
              "      <td>46275.531863</td>\n",
              "      <td>NaN</td>\n",
              "    </tr>\n",
              "    <tr>\n",
              "      <th>std</th>\n",
              "      <td>NaN</td>\n",
              "      <td>NaN</td>\n",
              "      <td>4.002992</td>\n",
              "      <td>4.751844e+05</td>\n",
              "      <td>34297.428044</td>\n",
              "      <td>NaN</td>\n",
              "    </tr>\n",
              "    <tr>\n",
              "      <th>min</th>\n",
              "      <td>NaN</td>\n",
              "      <td>NaN</td>\n",
              "      <td>1995.000000</td>\n",
              "      <td>3.000000e+04</td>\n",
              "      <td>0.000000</td>\n",
              "      <td>NaN</td>\n",
              "    </tr>\n",
              "    <tr>\n",
              "      <th>25%</th>\n",
              "      <td>NaN</td>\n",
              "      <td>NaN</td>\n",
              "      <td>2010.000000</td>\n",
              "      <td>1.750000e+05</td>\n",
              "      <td>27000.000000</td>\n",
              "      <td>NaN</td>\n",
              "    </tr>\n",
              "    <tr>\n",
              "      <th>50%</th>\n",
              "      <td>NaN</td>\n",
              "      <td>NaN</td>\n",
              "      <td>2013.000000</td>\n",
              "      <td>2.999990e+05</td>\n",
              "      <td>41000.000000</td>\n",
              "      <td>NaN</td>\n",
              "    </tr>\n",
              "    <tr>\n",
              "      <th>75%</th>\n",
              "      <td>NaN</td>\n",
              "      <td>NaN</td>\n",
              "      <td>2015.000000</td>\n",
              "      <td>4.912500e+05</td>\n",
              "      <td>56818.500000</td>\n",
              "      <td>NaN</td>\n",
              "    </tr>\n",
              "    <tr>\n",
              "      <th>max</th>\n",
              "      <td>NaN</td>\n",
              "      <td>NaN</td>\n",
              "      <td>2019.000000</td>\n",
              "      <td>8.500003e+06</td>\n",
              "      <td>400000.000000</td>\n",
              "      <td>NaN</td>\n",
              "    </tr>\n",
              "  </tbody>\n",
              "</table>\n",
              "</div>\n",
              "    <div class=\"colab-df-buttons\">\n",
              "\n",
              "  <div class=\"colab-df-container\">\n",
              "    <button class=\"colab-df-convert\" onclick=\"convertToInteractive('df-72bebd51-db85-4778-ab68-ba99f3de1616')\"\n",
              "            title=\"Convert this dataframe to an interactive table.\"\n",
              "            style=\"display:none;\">\n",
              "\n",
              "  <svg xmlns=\"http://www.w3.org/2000/svg\" height=\"24px\" viewBox=\"0 -960 960 960\">\n",
              "    <path d=\"M120-120v-720h720v720H120Zm60-500h600v-160H180v160Zm220 220h160v-160H400v160Zm0 220h160v-160H400v160ZM180-400h160v-160H180v160Zm440 0h160v-160H620v160ZM180-180h160v-160H180v160Zm440 0h160v-160H620v160Z\"/>\n",
              "  </svg>\n",
              "    </button>\n",
              "\n",
              "  <style>\n",
              "    .colab-df-container {\n",
              "      display:flex;\n",
              "      gap: 12px;\n",
              "    }\n",
              "\n",
              "    .colab-df-convert {\n",
              "      background-color: #E8F0FE;\n",
              "      border: none;\n",
              "      border-radius: 50%;\n",
              "      cursor: pointer;\n",
              "      display: none;\n",
              "      fill: #1967D2;\n",
              "      height: 32px;\n",
              "      padding: 0 0 0 0;\n",
              "      width: 32px;\n",
              "    }\n",
              "\n",
              "    .colab-df-convert:hover {\n",
              "      background-color: #E2EBFA;\n",
              "      box-shadow: 0px 1px 2px rgba(60, 64, 67, 0.3), 0px 1px 3px 1px rgba(60, 64, 67, 0.15);\n",
              "      fill: #174EA6;\n",
              "    }\n",
              "\n",
              "    .colab-df-buttons div {\n",
              "      margin-bottom: 4px;\n",
              "    }\n",
              "\n",
              "    [theme=dark] .colab-df-convert {\n",
              "      background-color: #3B4455;\n",
              "      fill: #D2E3FC;\n",
              "    }\n",
              "\n",
              "    [theme=dark] .colab-df-convert:hover {\n",
              "      background-color: #434B5C;\n",
              "      box-shadow: 0px 1px 3px 1px rgba(0, 0, 0, 0.15);\n",
              "      filter: drop-shadow(0px 1px 2px rgba(0, 0, 0, 0.3));\n",
              "      fill: #FFFFFF;\n",
              "    }\n",
              "  </style>\n",
              "\n",
              "    <script>\n",
              "      const buttonEl =\n",
              "        document.querySelector('#df-72bebd51-db85-4778-ab68-ba99f3de1616 button.colab-df-convert');\n",
              "      buttonEl.style.display =\n",
              "        google.colab.kernel.accessAllowed ? 'block' : 'none';\n",
              "\n",
              "      async function convertToInteractive(key) {\n",
              "        const element = document.querySelector('#df-72bebd51-db85-4778-ab68-ba99f3de1616');\n",
              "        const dataTable =\n",
              "          await google.colab.kernel.invokeFunction('convertToInteractive',\n",
              "                                                    [key], {});\n",
              "        if (!dataTable) return;\n",
              "\n",
              "        const docLinkHtml = 'Like what you see? Visit the ' +\n",
              "          '<a target=\"_blank\" href=https://colab.research.google.com/notebooks/data_table.ipynb>data table notebook</a>'\n",
              "          + ' to learn more about interactive tables.';\n",
              "        element.innerHTML = '';\n",
              "        dataTable['output_type'] = 'display_data';\n",
              "        await google.colab.output.renderOutput(dataTable, element);\n",
              "        const docLink = document.createElement('div');\n",
              "        docLink.innerHTML = docLinkHtml;\n",
              "        element.appendChild(docLink);\n",
              "      }\n",
              "    </script>\n",
              "  </div>\n",
              "\n",
              "\n",
              "<div id=\"df-ecab0ade-ff96-4e6b-8a52-7ee46aab6730\">\n",
              "  <button class=\"colab-df-quickchart\" onclick=\"quickchart('df-ecab0ade-ff96-4e6b-8a52-7ee46aab6730')\"\n",
              "            title=\"Suggest charts\"\n",
              "            style=\"display:none;\">\n",
              "\n",
              "<svg xmlns=\"http://www.w3.org/2000/svg\" height=\"24px\"viewBox=\"0 0 24 24\"\n",
              "     width=\"24px\">\n",
              "    <g>\n",
              "        <path d=\"M19 3H5c-1.1 0-2 .9-2 2v14c0 1.1.9 2 2 2h14c1.1 0 2-.9 2-2V5c0-1.1-.9-2-2-2zM9 17H7v-7h2v7zm4 0h-2V7h2v10zm4 0h-2v-4h2v4z\"/>\n",
              "    </g>\n",
              "</svg>\n",
              "  </button>\n",
              "\n",
              "<style>\n",
              "  .colab-df-quickchart {\n",
              "      --bg-color: #E8F0FE;\n",
              "      --fill-color: #1967D2;\n",
              "      --hover-bg-color: #E2EBFA;\n",
              "      --hover-fill-color: #174EA6;\n",
              "      --disabled-fill-color: #AAA;\n",
              "      --disabled-bg-color: #DDD;\n",
              "  }\n",
              "\n",
              "  [theme=dark] .colab-df-quickchart {\n",
              "      --bg-color: #3B4455;\n",
              "      --fill-color: #D2E3FC;\n",
              "      --hover-bg-color: #434B5C;\n",
              "      --hover-fill-color: #FFFFFF;\n",
              "      --disabled-bg-color: #3B4455;\n",
              "      --disabled-fill-color: #666;\n",
              "  }\n",
              "\n",
              "  .colab-df-quickchart {\n",
              "    background-color: var(--bg-color);\n",
              "    border: none;\n",
              "    border-radius: 50%;\n",
              "    cursor: pointer;\n",
              "    display: none;\n",
              "    fill: var(--fill-color);\n",
              "    height: 32px;\n",
              "    padding: 0;\n",
              "    width: 32px;\n",
              "  }\n",
              "\n",
              "  .colab-df-quickchart:hover {\n",
              "    background-color: var(--hover-bg-color);\n",
              "    box-shadow: 0 1px 2px rgba(60, 64, 67, 0.3), 0 1px 3px 1px rgba(60, 64, 67, 0.15);\n",
              "    fill: var(--button-hover-fill-color);\n",
              "  }\n",
              "\n",
              "  .colab-df-quickchart-complete:disabled,\n",
              "  .colab-df-quickchart-complete:disabled:hover {\n",
              "    background-color: var(--disabled-bg-color);\n",
              "    fill: var(--disabled-fill-color);\n",
              "    box-shadow: none;\n",
              "  }\n",
              "\n",
              "  .colab-df-spinner {\n",
              "    border: 2px solid var(--fill-color);\n",
              "    border-color: transparent;\n",
              "    border-bottom-color: var(--fill-color);\n",
              "    animation:\n",
              "      spin 1s steps(1) infinite;\n",
              "  }\n",
              "\n",
              "  @keyframes spin {\n",
              "    0% {\n",
              "      border-color: transparent;\n",
              "      border-bottom-color: var(--fill-color);\n",
              "      border-left-color: var(--fill-color);\n",
              "    }\n",
              "    20% {\n",
              "      border-color: transparent;\n",
              "      border-left-color: var(--fill-color);\n",
              "      border-top-color: var(--fill-color);\n",
              "    }\n",
              "    30% {\n",
              "      border-color: transparent;\n",
              "      border-left-color: var(--fill-color);\n",
              "      border-top-color: var(--fill-color);\n",
              "      border-right-color: var(--fill-color);\n",
              "    }\n",
              "    40% {\n",
              "      border-color: transparent;\n",
              "      border-right-color: var(--fill-color);\n",
              "      border-top-color: var(--fill-color);\n",
              "    }\n",
              "    60% {\n",
              "      border-color: transparent;\n",
              "      border-right-color: var(--fill-color);\n",
              "    }\n",
              "    80% {\n",
              "      border-color: transparent;\n",
              "      border-right-color: var(--fill-color);\n",
              "      border-bottom-color: var(--fill-color);\n",
              "    }\n",
              "    90% {\n",
              "      border-color: transparent;\n",
              "      border-bottom-color: var(--fill-color);\n",
              "    }\n",
              "  }\n",
              "</style>\n",
              "\n",
              "  <script>\n",
              "    async function quickchart(key) {\n",
              "      const quickchartButtonEl =\n",
              "        document.querySelector('#' + key + ' button');\n",
              "      quickchartButtonEl.disabled = true;  // To prevent multiple clicks.\n",
              "      quickchartButtonEl.classList.add('colab-df-spinner');\n",
              "      try {\n",
              "        const charts = await google.colab.kernel.invokeFunction(\n",
              "            'suggestCharts', [key], {});\n",
              "      } catch (error) {\n",
              "        console.error('Error during call to suggestCharts:', error);\n",
              "      }\n",
              "      quickchartButtonEl.classList.remove('colab-df-spinner');\n",
              "      quickchartButtonEl.classList.add('colab-df-quickchart-complete');\n",
              "    }\n",
              "    (() => {\n",
              "      let quickchartButtonEl =\n",
              "        document.querySelector('#df-ecab0ade-ff96-4e6b-8a52-7ee46aab6730 button');\n",
              "      quickchartButtonEl.style.display =\n",
              "        google.colab.kernel.accessAllowed ? 'block' : 'none';\n",
              "    })();\n",
              "  </script>\n",
              "</div>\n",
              "\n",
              "    </div>\n",
              "  </div>\n"
            ]
          },
          "metadata": {},
          "execution_count": 36
        }
      ]
    },
    {
      "cell_type": "code",
      "source": [
        "sns.heatmap(df.corr())\n",
        "df.corr()"
      ],
      "metadata": {
        "colab": {
          "base_uri": "https://localhost:8080/",
          "height": 651
        },
        "id": "t_XXNtaXkjPO",
        "outputId": "2bdae7fa-4378-4e6d-9ebd-de6a06de8d77"
      },
      "execution_count": null,
      "outputs": [
        {
          "output_type": "stream",
          "name": "stderr",
          "text": [
            "<ipython-input-37-08cccf812f01>:1: FutureWarning: The default value of numeric_only in DataFrame.corr is deprecated. In a future version, it will default to False. Select only valid columns or specify the value of numeric_only to silence this warning.\n",
            "  sns.heatmap(df.corr())\n",
            "<ipython-input-37-08cccf812f01>:2: FutureWarning: The default value of numeric_only in DataFrame.corr is deprecated. In a future version, it will default to False. Select only valid columns or specify the value of numeric_only to silence this warning.\n",
            "  df.corr()\n"
          ]
        },
        {
          "output_type": "execute_result",
          "data": {
            "text/plain": [
              "                year     Price  kms_driven\n",
              "year        1.000000  0.287193   -0.233695\n",
              "Price       0.287193  1.000000   -0.120854\n",
              "kms_driven -0.233695 -0.120854    1.000000"
            ],
            "text/html": [
              "\n",
              "  <div id=\"df-a57170fc-bd72-4eb6-8abb-869fdc893f4a\" class=\"colab-df-container\">\n",
              "    <div>\n",
              "<style scoped>\n",
              "    .dataframe tbody tr th:only-of-type {\n",
              "        vertical-align: middle;\n",
              "    }\n",
              "\n",
              "    .dataframe tbody tr th {\n",
              "        vertical-align: top;\n",
              "    }\n",
              "\n",
              "    .dataframe thead th {\n",
              "        text-align: right;\n",
              "    }\n",
              "</style>\n",
              "<table border=\"1\" class=\"dataframe\">\n",
              "  <thead>\n",
              "    <tr style=\"text-align: right;\">\n",
              "      <th></th>\n",
              "      <th>year</th>\n",
              "      <th>Price</th>\n",
              "      <th>kms_driven</th>\n",
              "    </tr>\n",
              "  </thead>\n",
              "  <tbody>\n",
              "    <tr>\n",
              "      <th>year</th>\n",
              "      <td>1.000000</td>\n",
              "      <td>0.287193</td>\n",
              "      <td>-0.233695</td>\n",
              "    </tr>\n",
              "    <tr>\n",
              "      <th>Price</th>\n",
              "      <td>0.287193</td>\n",
              "      <td>1.000000</td>\n",
              "      <td>-0.120854</td>\n",
              "    </tr>\n",
              "    <tr>\n",
              "      <th>kms_driven</th>\n",
              "      <td>-0.233695</td>\n",
              "      <td>-0.120854</td>\n",
              "      <td>1.000000</td>\n",
              "    </tr>\n",
              "  </tbody>\n",
              "</table>\n",
              "</div>\n",
              "    <div class=\"colab-df-buttons\">\n",
              "\n",
              "  <div class=\"colab-df-container\">\n",
              "    <button class=\"colab-df-convert\" onclick=\"convertToInteractive('df-a57170fc-bd72-4eb6-8abb-869fdc893f4a')\"\n",
              "            title=\"Convert this dataframe to an interactive table.\"\n",
              "            style=\"display:none;\">\n",
              "\n",
              "  <svg xmlns=\"http://www.w3.org/2000/svg\" height=\"24px\" viewBox=\"0 -960 960 960\">\n",
              "    <path d=\"M120-120v-720h720v720H120Zm60-500h600v-160H180v160Zm220 220h160v-160H400v160Zm0 220h160v-160H400v160ZM180-400h160v-160H180v160Zm440 0h160v-160H620v160ZM180-180h160v-160H180v160Zm440 0h160v-160H620v160Z\"/>\n",
              "  </svg>\n",
              "    </button>\n",
              "\n",
              "  <style>\n",
              "    .colab-df-container {\n",
              "      display:flex;\n",
              "      gap: 12px;\n",
              "    }\n",
              "\n",
              "    .colab-df-convert {\n",
              "      background-color: #E8F0FE;\n",
              "      border: none;\n",
              "      border-radius: 50%;\n",
              "      cursor: pointer;\n",
              "      display: none;\n",
              "      fill: #1967D2;\n",
              "      height: 32px;\n",
              "      padding: 0 0 0 0;\n",
              "      width: 32px;\n",
              "    }\n",
              "\n",
              "    .colab-df-convert:hover {\n",
              "      background-color: #E2EBFA;\n",
              "      box-shadow: 0px 1px 2px rgba(60, 64, 67, 0.3), 0px 1px 3px 1px rgba(60, 64, 67, 0.15);\n",
              "      fill: #174EA6;\n",
              "    }\n",
              "\n",
              "    .colab-df-buttons div {\n",
              "      margin-bottom: 4px;\n",
              "    }\n",
              "\n",
              "    [theme=dark] .colab-df-convert {\n",
              "      background-color: #3B4455;\n",
              "      fill: #D2E3FC;\n",
              "    }\n",
              "\n",
              "    [theme=dark] .colab-df-convert:hover {\n",
              "      background-color: #434B5C;\n",
              "      box-shadow: 0px 1px 3px 1px rgba(0, 0, 0, 0.15);\n",
              "      filter: drop-shadow(0px 1px 2px rgba(0, 0, 0, 0.3));\n",
              "      fill: #FFFFFF;\n",
              "    }\n",
              "  </style>\n",
              "\n",
              "    <script>\n",
              "      const buttonEl =\n",
              "        document.querySelector('#df-a57170fc-bd72-4eb6-8abb-869fdc893f4a button.colab-df-convert');\n",
              "      buttonEl.style.display =\n",
              "        google.colab.kernel.accessAllowed ? 'block' : 'none';\n",
              "\n",
              "      async function convertToInteractive(key) {\n",
              "        const element = document.querySelector('#df-a57170fc-bd72-4eb6-8abb-869fdc893f4a');\n",
              "        const dataTable =\n",
              "          await google.colab.kernel.invokeFunction('convertToInteractive',\n",
              "                                                    [key], {});\n",
              "        if (!dataTable) return;\n",
              "\n",
              "        const docLinkHtml = 'Like what you see? Visit the ' +\n",
              "          '<a target=\"_blank\" href=https://colab.research.google.com/notebooks/data_table.ipynb>data table notebook</a>'\n",
              "          + ' to learn more about interactive tables.';\n",
              "        element.innerHTML = '';\n",
              "        dataTable['output_type'] = 'display_data';\n",
              "        await google.colab.output.renderOutput(dataTable, element);\n",
              "        const docLink = document.createElement('div');\n",
              "        docLink.innerHTML = docLinkHtml;\n",
              "        element.appendChild(docLink);\n",
              "      }\n",
              "    </script>\n",
              "  </div>\n",
              "\n",
              "\n",
              "<div id=\"df-7731faa5-6fe2-4523-ad0b-64dc75ffbf2f\">\n",
              "  <button class=\"colab-df-quickchart\" onclick=\"quickchart('df-7731faa5-6fe2-4523-ad0b-64dc75ffbf2f')\"\n",
              "            title=\"Suggest charts\"\n",
              "            style=\"display:none;\">\n",
              "\n",
              "<svg xmlns=\"http://www.w3.org/2000/svg\" height=\"24px\"viewBox=\"0 0 24 24\"\n",
              "     width=\"24px\">\n",
              "    <g>\n",
              "        <path d=\"M19 3H5c-1.1 0-2 .9-2 2v14c0 1.1.9 2 2 2h14c1.1 0 2-.9 2-2V5c0-1.1-.9-2-2-2zM9 17H7v-7h2v7zm4 0h-2V7h2v10zm4 0h-2v-4h2v4z\"/>\n",
              "    </g>\n",
              "</svg>\n",
              "  </button>\n",
              "\n",
              "<style>\n",
              "  .colab-df-quickchart {\n",
              "      --bg-color: #E8F0FE;\n",
              "      --fill-color: #1967D2;\n",
              "      --hover-bg-color: #E2EBFA;\n",
              "      --hover-fill-color: #174EA6;\n",
              "      --disabled-fill-color: #AAA;\n",
              "      --disabled-bg-color: #DDD;\n",
              "  }\n",
              "\n",
              "  [theme=dark] .colab-df-quickchart {\n",
              "      --bg-color: #3B4455;\n",
              "      --fill-color: #D2E3FC;\n",
              "      --hover-bg-color: #434B5C;\n",
              "      --hover-fill-color: #FFFFFF;\n",
              "      --disabled-bg-color: #3B4455;\n",
              "      --disabled-fill-color: #666;\n",
              "  }\n",
              "\n",
              "  .colab-df-quickchart {\n",
              "    background-color: var(--bg-color);\n",
              "    border: none;\n",
              "    border-radius: 50%;\n",
              "    cursor: pointer;\n",
              "    display: none;\n",
              "    fill: var(--fill-color);\n",
              "    height: 32px;\n",
              "    padding: 0;\n",
              "    width: 32px;\n",
              "  }\n",
              "\n",
              "  .colab-df-quickchart:hover {\n",
              "    background-color: var(--hover-bg-color);\n",
              "    box-shadow: 0 1px 2px rgba(60, 64, 67, 0.3), 0 1px 3px 1px rgba(60, 64, 67, 0.15);\n",
              "    fill: var(--button-hover-fill-color);\n",
              "  }\n",
              "\n",
              "  .colab-df-quickchart-complete:disabled,\n",
              "  .colab-df-quickchart-complete:disabled:hover {\n",
              "    background-color: var(--disabled-bg-color);\n",
              "    fill: var(--disabled-fill-color);\n",
              "    box-shadow: none;\n",
              "  }\n",
              "\n",
              "  .colab-df-spinner {\n",
              "    border: 2px solid var(--fill-color);\n",
              "    border-color: transparent;\n",
              "    border-bottom-color: var(--fill-color);\n",
              "    animation:\n",
              "      spin 1s steps(1) infinite;\n",
              "  }\n",
              "\n",
              "  @keyframes spin {\n",
              "    0% {\n",
              "      border-color: transparent;\n",
              "      border-bottom-color: var(--fill-color);\n",
              "      border-left-color: var(--fill-color);\n",
              "    }\n",
              "    20% {\n",
              "      border-color: transparent;\n",
              "      border-left-color: var(--fill-color);\n",
              "      border-top-color: var(--fill-color);\n",
              "    }\n",
              "    30% {\n",
              "      border-color: transparent;\n",
              "      border-left-color: var(--fill-color);\n",
              "      border-top-color: var(--fill-color);\n",
              "      border-right-color: var(--fill-color);\n",
              "    }\n",
              "    40% {\n",
              "      border-color: transparent;\n",
              "      border-right-color: var(--fill-color);\n",
              "      border-top-color: var(--fill-color);\n",
              "    }\n",
              "    60% {\n",
              "      border-color: transparent;\n",
              "      border-right-color: var(--fill-color);\n",
              "    }\n",
              "    80% {\n",
              "      border-color: transparent;\n",
              "      border-right-color: var(--fill-color);\n",
              "      border-bottom-color: var(--fill-color);\n",
              "    }\n",
              "    90% {\n",
              "      border-color: transparent;\n",
              "      border-bottom-color: var(--fill-color);\n",
              "    }\n",
              "  }\n",
              "</style>\n",
              "\n",
              "  <script>\n",
              "    async function quickchart(key) {\n",
              "      const quickchartButtonEl =\n",
              "        document.querySelector('#' + key + ' button');\n",
              "      quickchartButtonEl.disabled = true;  // To prevent multiple clicks.\n",
              "      quickchartButtonEl.classList.add('colab-df-spinner');\n",
              "      try {\n",
              "        const charts = await google.colab.kernel.invokeFunction(\n",
              "            'suggestCharts', [key], {});\n",
              "      } catch (error) {\n",
              "        console.error('Error during call to suggestCharts:', error);\n",
              "      }\n",
              "      quickchartButtonEl.classList.remove('colab-df-spinner');\n",
              "      quickchartButtonEl.classList.add('colab-df-quickchart-complete');\n",
              "    }\n",
              "    (() => {\n",
              "      let quickchartButtonEl =\n",
              "        document.querySelector('#df-7731faa5-6fe2-4523-ad0b-64dc75ffbf2f button');\n",
              "      quickchartButtonEl.style.display =\n",
              "        google.colab.kernel.accessAllowed ? 'block' : 'none';\n",
              "    })();\n",
              "  </script>\n",
              "</div>\n",
              "\n",
              "    </div>\n",
              "  </div>\n"
            ]
          },
          "metadata": {},
          "execution_count": 37
        },
        {
          "output_type": "display_data",
          "data": {
            "text/plain": [
              "<Figure size 640x480 with 2 Axes>"
            ],
            "image/png": "[encoded data removed]"
          },
          "metadata": {}
        }
      ]
    },
    {
      "cell_type": "code",
      "source": [
        "df=df[df['Price']<6000000]"
      ],
      "metadata": {
        "id": "csp09yyEfusD"
      },
      "execution_count": null,
      "outputs": []
    },
    {
      "cell_type": "markdown",
      "source": [
        "Checking relationship of Company with Price"
      ],
      "metadata": {
        "id": "N-Y240ZNhbf0"
      }
    },
    {
      "cell_type": "code",
      "source": [
        "df['company'].unique()"
      ],
      "metadata": {
        "colab": {
          "base_uri": "https://localhost:8080/"
        },
        "id": "Rih7JwLLfupX",
        "outputId": "e72afff5-ac36-4601-c192-727fe5525696"
      },
      "execution_count": null,
      "outputs": [
        {
          "output_type": "execute_result",
          "data": {
            "text/plain": [
              "array(['Hyundai', 'Mahindra', 'Ford', 'Maruti', 'Skoda', 'Audi', 'Toyota',\n",
              "       'Renault', 'Honda', 'Datsun', 'Mitsubishi', 'Tata', 'Volkswagen',\n",
              "       'Chevrolet', 'Mini', 'BMW', 'Nissan', 'Hindustan', 'Fiat', 'Force',\n",
              "       'Mercedes', 'Land', 'Jaguar', 'Jeep', 'Volvo'], dtype=object)"
            ]
          },
          "metadata": {},
          "execution_count": 39
        }
      ]
    },
    {
      "cell_type": "code",
      "source": [
        "plt.subplots(figsize=(15,7))\n",
        "ax=sns.boxplot(x='company',y='Price',data=df)\n",
        "ax.set_xticklabels(ax.get_xticklabels(),rotation=40,ha='right')\n",
        "plt.show()"
      ],
      "metadata": {
        "colab": {
          "base_uri": "https://localhost:8080/",
          "height": 523
        },
        "id": "ORmV5R9zfumk",
        "outputId": "7a8533d5-191b-4ad1-df19-11a0af2ef9bf"
      },
      "execution_count": null,
      "outputs": [
        {
          "output_type": "display_data",
          "data": {
            "text/plain": [
              "<Figure size 1500x700 with 1 Axes>"
            ],
            "image/png": "[encoded data removed]"
          },
          "metadata": {}
        }
      ]
    },
    {
      "cell_type": "markdown",
      "source": [
        "checking relationship with year with price"
      ],
      "metadata": {
        "id": "VdJc4Bzij4d0"
      }
    },
    {
      "cell_type": "code",
      "source": [
        "plt.subplots(figsize=(15,7))\n",
        "ax=sns.boxplot(x='year',y='Price',data=df)\n",
        "ax.set_xticklabels(ax.get_xticklabels(),rotation=40,ha='right')\n",
        "plt.show()"
      ],
      "metadata": {
        "colab": {
          "base_uri": "https://localhost:8080/",
          "height": 501
        },
        "id": "fuBdIaGofukA",
        "outputId": "00139258-3e1c-4da1-fe31-bc3612a46161"
      },
      "execution_count": null,
      "outputs": [
        {
          "output_type": "display_data",
          "data": {
            "text/plain": [
              "<Figure size 1500x700 with 1 Axes>"
            ],
            "image/png": "[encoded data removed]"
          },
          "metadata": {}
        }
      ]
    },
    {
      "cell_type": "code",
      "source": [
        "plt.subplots(figsize=(20,10))\n",
        "ax=sns.swarmplot(x='year',y='Price',data=df)\n",
        "ax.set_xticklabels(ax.get_xticklabels(),rotation=40,ha='right')\n",
        "plt.show()"
      ],
      "metadata": {
        "id": "iarXGp7bfuhA",
        "colab": {
          "base_uri": "https://localhost:8080/",
          "height": 851
        },
        "outputId": "cd20180f-07e5-4380-a6ea-5d2d18680dca"
      },
      "execution_count": null,
      "outputs": [
        {
          "output_type": "stream",
          "name": "stderr",
          "text": [
            "/usr/local/lib/python3.10/dist-packages/seaborn/categorical.py:3544: UserWarning: 13.6% of the points cannot be placed; you may want to decrease the size of the markers or use stripplot.\n",
            "  warnings.warn(msg, UserWarning)\n",
            "/usr/local/lib/python3.10/dist-packages/seaborn/categorical.py:3544: UserWarning: 13.0% of the points cannot be placed; you may want to decrease the size of the markers or use stripplot.\n",
            "  warnings.warn(msg, UserWarning)\n",
            "/usr/local/lib/python3.10/dist-packages/seaborn/categorical.py:3544: UserWarning: 6.8% of the points cannot be placed; you may want to decrease the size of the markers or use stripplot.\n",
            "  warnings.warn(msg, UserWarning)\n",
            "/usr/local/lib/python3.10/dist-packages/seaborn/categorical.py:3544: UserWarning: 10.6% of the points cannot be placed; you may want to decrease the size of the markers or use stripplot.\n",
            "  warnings.warn(msg, UserWarning)\n",
            "/usr/local/lib/python3.10/dist-packages/seaborn/categorical.py:3544: UserWarning: 7.7% of the points cannot be placed; you may want to decrease the size of the markers or use stripplot.\n",
            "  warnings.warn(msg, UserWarning)\n",
            "<ipython-input-42-d2c0f2e4c7e8>:3: UserWarning: FixedFormatter should only be used together with FixedLocator\n",
            "  ax.set_xticklabels(ax.get_xticklabels(),rotation=40,ha='right')\n",
            "/usr/local/lib/python3.10/dist-packages/seaborn/categorical.py:3544: UserWarning: 9.3% of the points cannot be placed; you may want to decrease the size of the markers or use stripplot.\n",
            "  warnings.warn(msg, UserWarning)\n",
            "/usr/local/lib/python3.10/dist-packages/seaborn/categorical.py:3544: UserWarning: 9.6% of the points cannot be placed; you may want to decrease the size of the markers or use stripplot.\n",
            "  warnings.warn(msg, UserWarning)\n",
            "/usr/local/lib/python3.10/dist-packages/seaborn/categorical.py:3544: UserWarning: 5.5% of the points cannot be placed; you may want to decrease the size of the markers or use stripplot.\n",
            "  warnings.warn(msg, UserWarning)\n"
          ]
        },
        {
          "output_type": "display_data",
          "data": {
            "text/plain": [
              "<Figure size 2000x1000 with 1 Axes>"
            ],
            "image/png": "[encoded data removed]"
          },
          "metadata": {}
        }
      ]
    },
    {
      "cell_type": "markdown",
      "source": [
        "Checking relationship of kms_driven with Price"
      ],
      "metadata": {
        "id": "glGo7aQ8p4LP"
      }
    },
    {
      "cell_type": "code",
      "source": [
        "sns.relplot(x='kms_driven',y='Price',data=df,height=7,aspect=1.5)"
      ],
      "metadata": {
        "id": "V5W3152Sfudu",
        "colab": {
          "base_uri": "https://localhost:8080/",
          "height": 657
        },
        "outputId": "5dbbeb90-0998-488d-dc99-06898044c956"
      },
      "execution_count": null,
      "outputs": [
        {
          "output_type": "execute_result",
          "data": {
            "text/plain": [
              "<seaborn.axisgrid.FacetGrid at 0x78fd124b7c10>"
            ]
          },
          "metadata": {},
          "execution_count": 43
        },
        {
          "output_type": "display_data",
          "data": {
            "text/plain": [
              "<Figure size 1050x700 with 1 Axes>"
            ],
            "image/png": "[encoded data removed]"
          },
          "metadata": {}
        }
      ]
    },
    {
      "cell_type": "markdown",
      "source": [
        "Checking relationship of Fuel Type with Price"
      ],
      "metadata": {
        "id": "5w2CKItnqRMn"
      }
    },
    {
      "cell_type": "code",
      "source": [
        "plt.subplots(figsize=(14,7))\n",
        "sns.boxplot(x='fuel_type',y='Price',data=df)"
      ],
      "metadata": {
        "id": "9d5nKVS4fuar",
        "colab": {
          "base_uri": "https://localhost:8080/",
          "height": 535
        },
        "outputId": "553ad13e-80c3-49ec-ddbd-11873b96202a"
      },
      "execution_count": null,
      "outputs": [
        {
          "output_type": "execute_result",
          "data": {
            "text/plain": [
              "<Axes: xlabel='fuel_type', ylabel='Price'>"
            ]
          },
          "metadata": {},
          "execution_count": 44
        },
        {
          "output_type": "display_data",
          "data": {
            "text/plain": [
              "<Figure size 1400x700 with 1 Axes>"
            ],
            "image/png": "[encoded data removed]"
          },
          "metadata": {}
        }
      ]
    },
    {
      "cell_type": "markdown",
      "source": [
        "Relationship of Price with FuelType, Year and Company mixed"
      ],
      "metadata": {
        "id": "Bf1fQ7IJqeqJ"
      }
    },
    {
      "cell_type": "code",
      "source": [
        "ax=sns.relplot(x='company',y='Price',data=df,hue='fuel_type',size='year',height=7,aspect=2)\n",
        "ax.set_xticklabels(rotation=40,ha='right')"
      ],
      "metadata": {
        "id": "tYXEIFhmfuX9",
        "colab": {
          "base_uri": "https://localhost:8080/",
          "height": 501
        },
        "outputId": "ebde31f2-a520-43e7-d393-cbe8ff401802"
      },
      "execution_count": null,
      "outputs": [
        {
          "output_type": "execute_result",
          "data": {
            "text/plain": [
              "<seaborn.axisgrid.FacetGrid at 0x78fd0e403b20>"
            ]
          },
          "metadata": {},
          "execution_count": 45
        },
        {
          "output_type": "display_data",
          "data": {
            "text/plain": [
              "<Figure size 1492.62x700 with 1 Axes>"
            ],
            "image/png": "[encoded data removed]"
          },
          "metadata": {}
        }
      ]
    },
    {
      "cell_type": "markdown",
      "source": [
        "Extracting Training Data"
      ],
      "metadata": {
        "id": "5g6LXEW0qrvg"
      }
    },
    {
      "cell_type": "code",
      "source": [
        "X=df[['name','company','year','kms_driven','fuel_type']]\n",
        "y=df['Price']"
      ],
      "metadata": {
        "id": "nkDWIHVCfuU9"
      },
      "execution_count": null,
      "outputs": []
    },
    {
      "cell_type": "code",
      "source": [
        "X.head()"
      ],
      "metadata": {
        "id": "AtACzGBSfuR_",
        "colab": {
          "base_uri": "https://localhost:8080/",
          "height": 206
        },
        "outputId": "cc15fd60-ed82-4d55-82ca-7dbed4797dad"
      },
      "execution_count": null,
      "outputs": [
        {
          "output_type": "execute_result",
          "data": {
            "text/plain": [
              "                     name   company  year  kms_driven fuel_type\n",
              "0     Hyundai Santro Xing   Hyundai  2007       45000    Petrol\n",
              "1     Mahindra Jeep CL550  Mahindra  2006          40    Diesel\n",
              "2       Hyundai Grand i10   Hyundai  2014       28000    Petrol\n",
              "3  Ford EcoSport Titanium      Ford  2014       36000    Diesel\n",
              "4               Ford Figo      Ford  2012       41000    Diesel"
            ],
            "text/html": [
              "\n",
              "  <div id=\"df-ecba73b4-ca8a-4cb5-be82-2f811d360ca6\" class=\"colab-df-container\">\n",
              "    <div>\n",
              "<style scoped>\n",
              "    .dataframe tbody tr th:only-of-type {\n",
              "        vertical-align: middle;\n",
              "    }\n",
              "\n",
              "    .dataframe tbody tr th {\n",
              "        vertical-align: top;\n",
              "    }\n",
              "\n",
              "    .dataframe thead th {\n",
              "        text-align: right;\n",
              "    }\n",
              "</style>\n",
              "<table border=\"1\" class=\"dataframe\">\n",
              "  <thead>\n",
              "    <tr style=\"text-align: right;\">\n",
              "      <th></th>\n",
              "      <th>name</th>\n",
              "      <th>company</th>\n",
              "      <th>year</th>\n",
              "      <th>kms_driven</th>\n",
              "      <th>fuel_type</th>\n",
              "    </tr>\n",
              "  </thead>\n",
              "  <tbody>\n",
              "    <tr>\n",
              "      <th>0</th>\n",
              "      <td>Hyundai Santro Xing</td>\n",
              "      <td>Hyundai</td>\n",
              "      <td>2007</td>\n",
              "      <td>45000</td>\n",
              "      <td>Petrol</td>\n",
              "    </tr>\n",
              "    <tr>\n",
              "      <th>1</th>\n",
              "      <td>Mahindra Jeep CL550</td>\n",
              "      <td>Mahindra</td>\n",
              "      <td>2006</td>\n",
              "      <td>40</td>\n",
              "      <td>Diesel</td>\n",
              "    </tr>\n",
              "    <tr>\n",
              "      <th>2</th>\n",
              "      <td>Hyundai Grand i10</td>\n",
              "      <td>Hyundai</td>\n",
              "      <td>2014</td>\n",
              "      <td>28000</td>\n",
              "      <td>Petrol</td>\n",
              "    </tr>\n",
              "    <tr>\n",
              "      <th>3</th>\n",
              "      <td>Ford EcoSport Titanium</td>\n",
              "      <td>Ford</td>\n",
              "      <td>2014</td>\n",
              "      <td>36000</td>\n",
              "      <td>Diesel</td>\n",
              "    </tr>\n",
              "    <tr>\n",
              "      <th>4</th>\n",
              "      <td>Ford Figo</td>\n",
              "      <td>Ford</td>\n",
              "      <td>2012</td>\n",
              "      <td>41000</td>\n",
              "      <td>Diesel</td>\n",
              "    </tr>\n",
              "  </tbody>\n",
              "</table>\n",
              "</div>\n",
              "    <div class=\"colab-df-buttons\">\n",
              "\n",
              "  <div class=\"colab-df-container\">\n",
              "    <button class=\"colab-df-convert\" onclick=\"convertToInteractive('df-ecba73b4-ca8a-4cb5-be82-2f811d360ca6')\"\n",
              "            title=\"Convert this dataframe to an interactive table.\"\n",
              "            style=\"display:none;\">\n",
              "\n",
              "  <svg xmlns=\"http://www.w3.org/2000/svg\" height=\"24px\" viewBox=\"0 -960 960 960\">\n",
              "    <path d=\"M120-120v-720h720v720H120Zm60-500h600v-160H180v160Zm220 220h160v-160H400v160Zm0 220h160v-160H400v160ZM180-400h160v-160H180v160Zm440 0h160v-160H620v160ZM180-180h160v-160H180v160Zm440 0h160v-160H620v160Z\"/>\n",
              "  </svg>\n",
              "    </button>\n",
              "\n",
              "  <style>\n",
              "    .colab-df-container {\n",
              "      display:flex;\n",
              "      gap: 12px;\n",
              "    }\n",
              "\n",
              "    .colab-df-convert {\n",
              "      background-color: #E8F0FE;\n",
              "      border: none;\n",
              "      border-radius: 50%;\n",
              "      cursor: pointer;\n",
              "      display: none;\n",
              "      fill: #1967D2;\n",
              "      height: 32px;\n",
              "      padding: 0 0 0 0;\n",
              "      width: 32px;\n",
              "    }\n",
              "\n",
              "    .colab-df-convert:hover {\n",
              "      background-color: #E2EBFA;\n",
              "      box-shadow: 0px 1px 2px rgba(60, 64, 67, 0.3), 0px 1px 3px 1px rgba(60, 64, 67, 0.15);\n",
              "      fill: #174EA6;\n",
              "    }\n",
              "\n",
              "    .colab-df-buttons div {\n",
              "      margin-bottom: 4px;\n",
              "    }\n",
              "\n",
              "    [theme=dark] .colab-df-convert {\n",
              "      background-color: #3B4455;\n",
              "      fill: #D2E3FC;\n",
              "    }\n",
              "\n",
              "    [theme=dark] .colab-df-convert:hover {\n",
              "      background-color: #434B5C;\n",
              "      box-shadow: 0px 1px 3px 1px rgba(0, 0, 0, 0.15);\n",
              "      filter: drop-shadow(0px 1px 2px rgba(0, 0, 0, 0.3));\n",
              "      fill: #FFFFFF;\n",
              "    }\n",
              "  </style>\n",
              "\n",
              "    <script>\n",
              "      const buttonEl =\n",
              "        document.querySelector('#df-ecba73b4-ca8a-4cb5-be82-2f811d360ca6 button.colab-df-convert');\n",
              "      buttonEl.style.display =\n",
              "        google.colab.kernel.accessAllowed ? 'block' : 'none';\n",
              "\n",
              "      async function convertToInteractive(key) {\n",
              "        const element = document.querySelector('#df-ecba73b4-ca8a-4cb5-be82-2f811d360ca6');\n",
              "        const dataTable =\n",
              "          await google.colab.kernel.invokeFunction('convertToInteractive',\n",
              "                                                    [key], {});\n",
              "        if (!dataTable) return;\n",
              "\n",
              "        const docLinkHtml = 'Like what you see? Visit the ' +\n",
              "          '<a target=\"_blank\" href=https://colab.research.google.com/notebooks/data_table.ipynb>data table notebook</a>'\n",
              "          + ' to learn more about interactive tables.';\n",
              "        element.innerHTML = '';\n",
              "        dataTable['output_type'] = 'display_data';\n",
              "        await google.colab.output.renderOutput(dataTable, element);\n",
              "        const docLink = document.createElement('div');\n",
              "        docLink.innerHTML = docLinkHtml;\n",
              "        element.appendChild(docLink);\n",
              "      }\n",
              "    </script>\n",
              "  </div>\n",
              "\n",
              "\n",
              "<div id=\"df-bf58e2b8-222d-4c93-9280-a3e4be686648\">\n",
              "  <button class=\"colab-df-quickchart\" onclick=\"quickchart('df-bf58e2b8-222d-4c93-9280-a3e4be686648')\"\n",
              "            title=\"Suggest charts\"\n",
              "            style=\"display:none;\">\n",
              "\n",
              "<svg xmlns=\"http://www.w3.org/2000/svg\" height=\"24px\"viewBox=\"0 0 24 24\"\n",
              "     width=\"24px\">\n",
              "    <g>\n",
              "        <path d=\"M19 3H5c-1.1 0-2 .9-2 2v14c0 1.1.9 2 2 2h14c1.1 0 2-.9 2-2V5c0-1.1-.9-2-2-2zM9 17H7v-7h2v7zm4 0h-2V7h2v10zm4 0h-2v-4h2v4z\"/>\n",
              "    </g>\n",
              "</svg>\n",
              "  </button>\n",
              "\n",
              "<style>\n",
              "  .colab-df-quickchart {\n",
              "      --bg-color: #E8F0FE;\n",
              "      --fill-color: #1967D2;\n",
              "      --hover-bg-color: #E2EBFA;\n",
              "      --hover-fill-color: #174EA6;\n",
              "      --disabled-fill-color: #AAA;\n",
              "      --disabled-bg-color: #DDD;\n",
              "  }\n",
              "\n",
              "  [theme=dark] .colab-df-quickchart {\n",
              "      --bg-color: #3B4455;\n",
              "      --fill-color: #D2E3FC;\n",
              "      --hover-bg-color: #434B5C;\n",
              "      --hover-fill-color: #FFFFFF;\n",
              "      --disabled-bg-color: #3B4455;\n",
              "      --disabled-fill-color: #666;\n",
              "  }\n",
              "\n",
              "  .colab-df-quickchart {\n",
              "    background-color: var(--bg-color);\n",
              "    border: none;\n",
              "    border-radius: 50%;\n",
              "    cursor: pointer;\n",
              "    display: none;\n",
              "    fill: var(--fill-color);\n",
              "    height: 32px;\n",
              "    padding: 0;\n",
              "    width: 32px;\n",
              "  }\n",
              "\n",
              "  .colab-df-quickchart:hover {\n",
              "    background-color: var(--hover-bg-color);\n",
              "    box-shadow: 0 1px 2px rgba(60, 64, 67, 0.3), 0 1px 3px 1px rgba(60, 64, 67, 0.15);\n",
              "    fill: var(--button-hover-fill-color);\n",
              "  }\n",
              "\n",
              "  .colab-df-quickchart-complete:disabled,\n",
              "  .colab-df-quickchart-complete:disabled:hover {\n",
              "    background-color: var(--disabled-bg-color);\n",
              "    fill: var(--disabled-fill-color);\n",
              "    box-shadow: none;\n",
              "  }\n",
              "\n",
              "  .colab-df-spinner {\n",
              "    border: 2px solid var(--fill-color);\n",
              "    border-color: transparent;\n",
              "    border-bottom-color: var(--fill-color);\n",
              "    animation:\n",
              "      spin 1s steps(1) infinite;\n",
              "  }\n",
              "\n",
              "  @keyframes spin {\n",
              "    0% {\n",
              "      border-color: transparent;\n",
              "      border-bottom-color: var(--fill-color);\n",
              "      border-left-color: var(--fill-color);\n",
              "    }\n",
              "    20% {\n",
              "      border-color: transparent;\n",
              "      border-left-color: var(--fill-color);\n",
              "      border-top-color: var(--fill-color);\n",
              "    }\n",
              "    30% {\n",
              "      border-color: transparent;\n",
              "      border-left-color: var(--fill-color);\n",
              "      border-top-color: var(--fill-color);\n",
              "      border-right-color: var(--fill-color);\n",
              "    }\n",
              "    40% {\n",
              "      border-color: transparent;\n",
              "      border-right-color: var(--fill-color);\n",
              "      border-top-color: var(--fill-color);\n",
              "    }\n",
              "    60% {\n",
              "      border-color: transparent;\n",
              "      border-right-color: var(--fill-color);\n",
              "    }\n",
              "    80% {\n",
              "      border-color: transparent;\n",
              "      border-right-color: var(--fill-color);\n",
              "      border-bottom-color: var(--fill-color);\n",
              "    }\n",
              "    90% {\n",
              "      border-color: transparent;\n",
              "      border-bottom-color: var(--fill-color);\n",
              "    }\n",
              "  }\n",
              "</style>\n",
              "\n",
              "  <script>\n",
              "    async function quickchart(key) {\n",
              "      const quickchartButtonEl =\n",
              "        document.querySelector('#' + key + ' button');\n",
              "      quickchartButtonEl.disabled = true;  // To prevent multiple clicks.\n",
              "      quickchartButtonEl.classList.add('colab-df-spinner');\n",
              "      try {\n",
              "        const charts = await google.colab.kernel.invokeFunction(\n",
              "            'suggestCharts', [key], {});\n",
              "      } catch (error) {\n",
              "        console.error('Error during call to suggestCharts:', error);\n",
              "      }\n",
              "      quickchartButtonEl.classList.remove('colab-df-spinner');\n",
              "      quickchartButtonEl.classList.add('colab-df-quickchart-complete');\n",
              "    }\n",
              "    (() => {\n",
              "      let quickchartButtonEl =\n",
              "        document.querySelector('#df-bf58e2b8-222d-4c93-9280-a3e4be686648 button');\n",
              "      quickchartButtonEl.style.display =\n",
              "        google.colab.kernel.accessAllowed ? 'block' : 'none';\n",
              "    })();\n",
              "  </script>\n",
              "</div>\n",
              "\n",
              "    </div>\n",
              "  </div>\n"
            ]
          },
          "metadata": {},
          "execution_count": 47
        }
      ]
    },
    {
      "cell_type": "code",
      "source": [
        "y"
      ],
      "metadata": {
        "id": "CKF7lHmPfuPL",
        "colab": {
          "base_uri": "https://localhost:8080/"
        },
        "outputId": "9a9839ad-b83a-4d7c-e3a5-0ba5747adfaa"
      },
      "execution_count": null,
      "outputs": [
        {
          "output_type": "execute_result",
          "data": {
            "text/plain": [
              "0       80000\n",
              "1      425000\n",
              "2      325000\n",
              "3      575000\n",
              "4      175000\n",
              "        ...  \n",
              "811    270000\n",
              "812    110000\n",
              "813    300000\n",
              "814    260000\n",
              "815    390000\n",
              "Name: Price, Length: 815, dtype: int64"
            ]
          },
          "metadata": {},
          "execution_count": 48
        }
      ]
    },
    {
      "cell_type": "markdown",
      "source": [
        "Applying Train Test Split"
      ],
      "metadata": {
        "id": "_9u8qDGGrMAa"
      }
    },
    {
      "cell_type": "code",
      "source": [
        "from sklearn.model_selection import train_test_split\n",
        "X_train,X_test,y_train,y_test=train_test_split(X,y,test_size=0.2)"
      ],
      "metadata": {
        "id": "iOA1gLdXfuIQ"
      },
      "execution_count": null,
      "outputs": []
    },
    {
      "cell_type": "code",
      "source": [
        "from sklearn.linear_model import LinearRegression"
      ],
      "metadata": {
        "id": "LTPxipXMft_m"
      },
      "execution_count": null,
      "outputs": []
    },
    {
      "cell_type": "code",
      "source": [
        "from sklearn.preprocessing import OneHotEncoder\n",
        "from sklearn.compose import make_column_transformer\n",
        "from sklearn.pipeline import make_pipeline\n",
        "from sklearn.metrics import r2_score"
      ],
      "metadata": {
        "id": "_tJR5UjVfthR"
      },
      "execution_count": null,
      "outputs": []
    },
    {
      "cell_type": "markdown",
      "source": [
        "Creating an OneHotEncoder object to contain all the possible categories"
      ],
      "metadata": {
        "id": "JjwYTO4ks6et"
      }
    },
    {
      "cell_type": "code",
      "source": [
        "ohe=OneHotEncoder()\n",
        "ohe.fit(X[['name','company','fuel_type']])"
      ],
      "metadata": {
        "colab": {
          "base_uri": "https://localhost:8080/",
          "height": 74
        },
        "id": "In6t2_--rACb",
        "outputId": "5256217d-caa9-4040-cd36-c97f158c7371"
      },
      "execution_count": null,
      "outputs": [
        {
          "output_type": "execute_result",
          "data": {
            "text/plain": [
              "OneHotEncoder()"
            ],
            "text/html": [
              "<style>#sk-container-id-1 {color: black;background-color: white;}#sk-container-id-1 pre{padding: 0;}#sk-container-id-1 div.sk-toggleable {background-color: white;}#sk-container-id-1 label.sk-toggleable__label {cursor: pointer;display: block;width: 100%;margin-bottom: 0;padding: 0.3em;box-sizing: border-box;text-align: center;}#sk-container-id-1 label.sk-toggleable__label-arrow:before {content: \"▸\";float: left;margin-right: 0.25em;color: #696969;}#sk-container-id-1 label.sk-toggleable__label-arrow:hover:before {color: black;}#sk-container-id-1 div.sk-estimator:hover label.sk-toggleable__label-arrow:before {color: black;}#sk-container-id-1 div.sk-toggleable__content {max-height: 0;max-width: 0;overflow: hidden;text-align: left;background-color: #f0f8ff;}#sk-container-id-1 div.sk-toggleable__content pre {margin: 0.2em;color: black;border-radius: 0.25em;background-color: #f0f8ff;}#sk-container-id-1 input.sk-toggleable__control:checked~div.sk-toggleable__content {max-height: 200px;max-width: 100%;overflow: auto;}#sk-container-id-1 input.sk-toggleable__control:checked~label.sk-toggleable__label-arrow:before {content: \"▾\";}#sk-container-id-1 div.sk-estimator input.sk-toggleable__control:checked~label.sk-toggleable__label {background-color: #d4ebff;}#sk-container-id-1 div.sk-label input.sk-toggleable__control:checked~label.sk-toggleable__label {background-color: #d4ebff;}#sk-container-id-1 input.sk-hidden--visually {border: 0;clip: rect(1px 1px 1px 1px);clip: rect(1px, 1px, 1px, 1px);height: 1px;margin: -1px;overflow: hidden;padding: 0;position: absolute;width: 1px;}#sk-container-id-1 div.sk-estimator {font-family: monospace;background-color: #f0f8ff;border: 1px dotted black;border-radius: 0.25em;box-sizing: border-box;margin-bottom: 0.5em;}#sk-container-id-1 div.sk-estimator:hover {background-color: #d4ebff;}#sk-container-id-1 div.sk-parallel-item::after {content: \"\";width: 100%;border-bottom: 1px solid gray;flex-grow: 1;}#sk-container-id-1 div.sk-label:hover label.sk-toggleable__label {background-color: #d4ebff;}#sk-container-id-1 div.sk-serial::before {content: \"\";position: absolute;border-left: 1px solid gray;box-sizing: border-box;top: 0;bottom: 0;left: 50%;z-index: 0;}#sk-container-id-1 div.sk-serial {display: flex;flex-direction: column;align-items: center;background-color: white;padding-right: 0.2em;padding-left: 0.2em;position: relative;}#sk-container-id-1 div.sk-item {position: relative;z-index: 1;}#sk-container-id-1 div.sk-parallel {display: flex;align-items: stretch;justify-content: center;background-color: white;position: relative;}#sk-container-id-1 div.sk-item::before, #sk-container-id-1 div.sk-parallel-item::before {content: \"\";position: absolute;border-left: 1px solid gray;box-sizing: border-box;top: 0;bottom: 0;left: 50%;z-index: -1;}#sk-container-id-1 div.sk-parallel-item {display: flex;flex-direction: column;z-index: 1;position: relative;background-color: white;}#sk-container-id-1 div.sk-parallel-item:first-child::after {align-self: flex-end;width: 50%;}#sk-container-id-1 div.sk-parallel-item:last-child::after {align-self: flex-start;width: 50%;}#sk-container-id-1 div.sk-parallel-item:only-child::after {width: 0;}#sk-container-id-1 div.sk-dashed-wrapped {border: 1px dashed gray;margin: 0 0.4em 0.5em 0.4em;box-sizing: border-box;padding-bottom: 0.4em;background-color: white;}#sk-container-id-1 div.sk-label label {font-family: monospace;font-weight: bold;display: inline-block;line-height: 1.2em;}#sk-container-id-1 div.sk-label-container {text-align: center;}#sk-container-id-1 div.sk-container {/* jupyter's `normalize.less` sets `[hidden] { display: none; }` but bootstrap.min.css set `[hidden] { display: none !important; }` so we also need the `!important` here to be able to override the default hidden behavior on the sphinx rendered scikit-learn.org. See: https://github.com/scikit-learn/scikit-learn/issues/21755 */display: inline-block !important;position: relative;}#sk-container-id-1 div.sk-text-repr-fallback {display: none;}</style><div id=\"sk-container-id-1\" class=\"sk-top-container\"><div class=\"sk-text-repr-fallback\"><pre>OneHotEncoder()</pre><b>In a Jupyter environment, please rerun this cell to show the HTML representation or trust the notebook. <br />On GitHub, the HTML representation is unable to render, please try loading this page with nbviewer.org.</b></div><div class=\"sk-container\" hidden><div class=\"sk-item\"><div class=\"sk-estimator sk-toggleable\"><input class=\"sk-toggleable__control sk-hidden--visually\" id=\"sk-estimator-id-1\" type=\"checkbox\" checked><label for=\"sk-estimator-id-1\" class=\"sk-toggleable__label sk-toggleable__label-arrow\">OneHotEncoder</label><div class=\"sk-toggleable__content\"><pre>OneHotEncoder()</pre></div></div></div></div></div>"
            ]
          },
          "metadata": {},
          "execution_count": 52
        }
      ]
    },
    {
      "cell_type": "markdown",
      "source": [
        "Creating a column transformer to transform categorical columns"
      ],
      "metadata": {
        "id": "9lb0e-AFtIv5"
      }
    },
    {
      "cell_type": "code",
      "source": [
        "column_trans=make_column_transformer((OneHotEncoder(categories=ohe.categories_),['name','company','fuel_type']),remainder='passthrough')"
      ],
      "metadata": {
        "id": "5phI5fB4q__i"
      },
      "execution_count": null,
      "outputs": []
    },
    {
      "cell_type": "markdown",
      "source": [
        "Linear Regression Model"
      ],
      "metadata": {
        "id": "nuBGFdELtqoJ"
      }
    },
    {
      "cell_type": "code",
      "source": [
        "lr=LinearRegression()"
      ],
      "metadata": {
        "id": "-Wm3zcMMq_9X"
      },
      "execution_count": null,
      "outputs": []
    },
    {
      "cell_type": "markdown",
      "source": [
        "Making a pipeline"
      ],
      "metadata": {
        "id": "DJ1evs6Atvyj"
      }
    },
    {
      "cell_type": "code",
      "source": [
        "pipe=make_pipeline(column_trans,lr)"
      ],
      "metadata": {
        "id": "dhIgJMsrq_6w"
      },
      "execution_count": null,
      "outputs": []
    },
    {
      "cell_type": "markdown",
      "source": [
        "Fitting the model"
      ],
      "metadata": {
        "id": "DlVxTDpyt7Rm"
      }
    },
    {
      "cell_type": "code",
      "source": [
        "pipe.fit(X_train,y_train)"
      ],
      "metadata": {
        "colab": {
          "base_uri": "https://localhost:8080/",
          "height": 190
        },
        "id": "Z95LHIh0q_4s",
        "outputId": "f2beec3b-32b2-4138-e8e6-0fc030f908d7"
      },
      "execution_count": null,
      "outputs": [
        {
          "output_type": "execute_result",
          "data": {
            "text/plain": [
              "Pipeline(steps=[('columntransformer',\n",
              "                 ColumnTransformer(remainder='passthrough',\n",
              "                                   transformers=[('onehotencoder',\n",
              "                                                  OneHotEncoder(categories=[array(['Audi A3 Cabriolet', 'Audi A4 1.8', 'Audi A4 2.0', 'Audi A6 2.0',\n",
              "       'Audi A8', 'Audi Q3 2.0', 'Audi Q5 2.0', 'Audi Q7', 'BMW 3 Series',\n",
              "       'BMW 5 Series', 'BMW 7 Series', 'BMW X1', 'BMW X1 sDrive20d',\n",
              "       'BMW X1 xDrive20d', 'Chevrolet Beat', 'Chevrolet Beat...\n",
              "                                                                            array(['Audi', 'BMW', 'Chevrolet', 'Datsun', 'Fiat', 'Force', 'Ford',\n",
              "       'Hindustan', 'Honda', 'Hyundai', 'Jaguar', 'Jeep', 'Land',\n",
              "       'Mahindra', 'Maruti', 'Mercedes', 'Mini', 'Mitsubishi', 'Nissan',\n",
              "       'Renault', 'Skoda', 'Tata', 'Toyota', 'Volkswagen', 'Volvo'],\n",
              "      dtype=object),\n",
              "                                                                            array(['Diesel', 'LPG', 'Petrol'], dtype=object)]),\n",
              "                                                  ['name', 'company',\n",
              "                                                   'fuel_type'])])),\n",
              "                ('linearregression', LinearRegression())])"
            ],
            "text/html": [
              "<style>#sk-container-id-2 {color: black;background-color: white;}#sk-container-id-2 pre{padding: 0;}#sk-container-id-2 div.sk-toggleable {background-color: white;}#sk-container-id-2 label.sk-toggleable__label {cursor: pointer;display: block;width: 100%;margin-bottom: 0;padding: 0.3em;box-sizing: border-box;text-align: center;}#sk-container-id-2 label.sk-toggleable__label-arrow:before {content: \"▸\";float: left;margin-right: 0.25em;color: #696969;}#sk-container-id-2 label.sk-toggleable__label-arrow:hover:before {color: black;}#sk-container-id-2 div.sk-estimator:hover label.sk-toggleable__label-arrow:before {color: black;}#sk-container-id-2 div.sk-toggleable__content {max-height: 0;max-width: 0;overflow: hidden;text-align: left;background-color: #f0f8ff;}#sk-container-id-2 div.sk-toggleable__content pre {margin: 0.2em;color: black;border-radius: 0.25em;background-color: #f0f8ff;}#sk-container-id-2 input.sk-toggleable__control:checked~div.sk-toggleable__content {max-height: 200px;max-width: 100%;overflow: auto;}#sk-container-id-2 input.sk-toggleable__control:checked~label.sk-toggleable__label-arrow:before {content: \"▾\";}#sk-container-id-2 div.sk-estimator input.sk-toggleable__control:checked~label.sk-toggleable__label {background-color: #d4ebff;}#sk-container-id-2 div.sk-label input.sk-toggleable__control:checked~label.sk-toggleable__label {background-color: #d4ebff;}#sk-container-id-2 input.sk-hidden--visually {border: 0;clip: rect(1px 1px 1px 1px);clip: rect(1px, 1px, 1px, 1px);height: 1px;margin: -1px;overflow: hidden;padding: 0;position: absolute;width: 1px;}#sk-container-id-2 div.sk-estimator {font-family: monospace;background-color: #f0f8ff;border: 1px dotted black;border-radius: 0.25em;box-sizing: border-box;margin-bottom: 0.5em;}#sk-container-id-2 div.sk-estimator:hover {background-color: #d4ebff;}#sk-container-id-2 div.sk-parallel-item::after {content: \"\";width: 100%;border-bottom: 1px solid gray;flex-grow: 1;}#sk-container-id-2 div.sk-label:hover label.sk-toggleable__label {background-color: #d4ebff;}#sk-container-id-2 div.sk-serial::before {content: \"\";position: absolute;border-left: 1px solid gray;box-sizing: border-box;top: 0;bottom: 0;left: 50%;z-index: 0;}#sk-container-id-2 div.sk-serial {display: flex;flex-direction: column;align-items: center;background-color: white;padding-right: 0.2em;padding-left: 0.2em;position: relative;}#sk-container-id-2 div.sk-item {position: relative;z-index: 1;}#sk-container-id-2 div.sk-parallel {display: flex;align-items: stretch;justify-content: center;background-color: white;position: relative;}#sk-container-id-2 div.sk-item::before, #sk-container-id-2 div.sk-parallel-item::before {content: \"\";position: absolute;border-left: 1px solid gray;box-sizing: border-box;top: 0;bottom: 0;left: 50%;z-index: -1;}#sk-container-id-2 div.sk-parallel-item {display: flex;flex-direction: column;z-index: 1;position: relative;background-color: white;}#sk-container-id-2 div.sk-parallel-item:first-child::after {align-self: flex-end;width: 50%;}#sk-container-id-2 div.sk-parallel-item:last-child::after {align-self: flex-start;width: 50%;}#sk-container-id-2 div.sk-parallel-item:only-child::after {width: 0;}#sk-container-id-2 div.sk-dashed-wrapped {border: 1px dashed gray;margin: 0 0.4em 0.5em 0.4em;box-sizing: border-box;padding-bottom: 0.4em;background-color: white;}#sk-container-id-2 div.sk-label label {font-family: monospace;font-weight: bold;display: inline-block;line-height: 1.2em;}#sk-container-id-2 div.sk-label-container {text-align: center;}#sk-container-id-2 div.sk-container {/* jupyter's `normalize.less` sets `[hidden] { display: none; }` but bootstrap.min.css set `[hidden] { display: none !important; }` so we also need the `!important` here to be able to override the default hidden behavior on the sphinx rendered scikit-learn.org. See: https://github.com/scikit-learn/scikit-learn/issues/21755 */display: inline-block !important;position: relative;}#sk-container-id-2 div.sk-text-repr-fallback {display: none;}</style><div id=\"sk-container-id-2\" class=\"sk-top-container\"><div class=\"sk-text-repr-fallback\"><pre>Pipeline(steps=[(&#x27;columntransformer&#x27;,\n",
              "                 ColumnTransformer(remainder=&#x27;passthrough&#x27;,\n",
              "                                   transformers=[(&#x27;onehotencoder&#x27;,\n",
              "                                                  OneHotEncoder(categories=[array([&#x27;Audi A3 Cabriolet&#x27;, &#x27;Audi A4 1.8&#x27;, &#x27;Audi A4 2.0&#x27;, &#x27;Audi A6 2.0&#x27;,\n",
              "       &#x27;Audi A8&#x27;, &#x27;Audi Q3 2.0&#x27;, &#x27;Audi Q5 2.0&#x27;, &#x27;Audi Q7&#x27;, &#x27;BMW 3 Series&#x27;,\n",
              "       &#x27;BMW 5 Series&#x27;, &#x27;BMW 7 Series&#x27;, &#x27;BMW X1&#x27;, &#x27;BMW X1 sDrive20d&#x27;,\n",
              "       &#x27;BMW X1 xDrive20d&#x27;, &#x27;Chevrolet Beat&#x27;, &#x27;Chevrolet Beat...\n",
              "                                                                            array([&#x27;Audi&#x27;, &#x27;BMW&#x27;, &#x27;Chevrolet&#x27;, &#x27;Datsun&#x27;, &#x27;Fiat&#x27;, &#x27;Force&#x27;, &#x27;Ford&#x27;,\n",
              "       &#x27;Hindustan&#x27;, &#x27;Honda&#x27;, &#x27;Hyundai&#x27;, &#x27;Jaguar&#x27;, &#x27;Jeep&#x27;, &#x27;Land&#x27;,\n",
              "       &#x27;Mahindra&#x27;, &#x27;Maruti&#x27;, &#x27;Mercedes&#x27;, &#x27;Mini&#x27;, &#x27;Mitsubishi&#x27;, &#x27;Nissan&#x27;,\n",
              "       &#x27;Renault&#x27;, &#x27;Skoda&#x27;, &#x27;Tata&#x27;, &#x27;Toyota&#x27;, &#x27;Volkswagen&#x27;, &#x27;Volvo&#x27;],\n",
              "      dtype=object),\n",
              "                                                                            array([&#x27;Diesel&#x27;, &#x27;LPG&#x27;, &#x27;Petrol&#x27;], dtype=object)]),\n",
              "                                                  [&#x27;name&#x27;, &#x27;company&#x27;,\n",
              "                                                   &#x27;fuel_type&#x27;])])),\n",
              "                (&#x27;linearregression&#x27;, LinearRegression())])</pre><b>In a Jupyter environment, please rerun this cell to show the HTML representation or trust the notebook. <br />On GitHub, the HTML representation is unable to render, please try loading this page with nbviewer.org.</b></div><div class=\"sk-container\" hidden><div class=\"sk-item sk-dashed-wrapped\"><div class=\"sk-label-container\"><div class=\"sk-label sk-toggleable\"><input class=\"sk-toggleable__control sk-hidden--visually\" id=\"sk-estimator-id-2\" type=\"checkbox\" ><label for=\"sk-estimator-id-2\" class=\"sk-toggleable__label sk-toggleable__label-arrow\">Pipeline</label><div class=\"sk-toggleable__content\"><pre>Pipeline(steps=[(&#x27;columntransformer&#x27;,\n",
              "                 ColumnTransformer(remainder=&#x27;passthrough&#x27;,\n",
              "                                   transformers=[(&#x27;onehotencoder&#x27;,\n",
              "                                                  OneHotEncoder(categories=[array([&#x27;Audi A3 Cabriolet&#x27;, &#x27;Audi A4 1.8&#x27;, &#x27;Audi A4 2.0&#x27;, &#x27;Audi A6 2.0&#x27;,\n",
              "       &#x27;Audi A8&#x27;, &#x27;Audi Q3 2.0&#x27;, &#x27;Audi Q5 2.0&#x27;, &#x27;Audi Q7&#x27;, &#x27;BMW 3 Series&#x27;,\n",
              "       &#x27;BMW 5 Series&#x27;, &#x27;BMW 7 Series&#x27;, &#x27;BMW X1&#x27;, &#x27;BMW X1 sDrive20d&#x27;,\n",
              "       &#x27;BMW X1 xDrive20d&#x27;, &#x27;Chevrolet Beat&#x27;, &#x27;Chevrolet Beat...\n",
              "                                                                            array([&#x27;Audi&#x27;, &#x27;BMW&#x27;, &#x27;Chevrolet&#x27;, &#x27;Datsun&#x27;, &#x27;Fiat&#x27;, &#x27;Force&#x27;, &#x27;Ford&#x27;,\n",
              "       &#x27;Hindustan&#x27;, &#x27;Honda&#x27;, &#x27;Hyundai&#x27;, &#x27;Jaguar&#x27;, &#x27;Jeep&#x27;, &#x27;Land&#x27;,\n",
              "       &#x27;Mahindra&#x27;, &#x27;Maruti&#x27;, &#x27;Mercedes&#x27;, &#x27;Mini&#x27;, &#x27;Mitsubishi&#x27;, &#x27;Nissan&#x27;,\n",
              "       &#x27;Renault&#x27;, &#x27;Skoda&#x27;, &#x27;Tata&#x27;, &#x27;Toyota&#x27;, &#x27;Volkswagen&#x27;, &#x27;Volvo&#x27;],\n",
              "      dtype=object),\n",
              "                                                                            array([&#x27;Diesel&#x27;, &#x27;LPG&#x27;, &#x27;Petrol&#x27;], dtype=object)]),\n",
              "                                                  [&#x27;name&#x27;, &#x27;company&#x27;,\n",
              "                                                   &#x27;fuel_type&#x27;])])),\n",
              "                (&#x27;linearregression&#x27;, LinearRegression())])</pre></div></div></div><div class=\"sk-serial\"><div class=\"sk-item sk-dashed-wrapped\"><div class=\"sk-label-container\"><div class=\"sk-label sk-toggleable\"><input class=\"sk-toggleable__control sk-hidden--visually\" id=\"sk-estimator-id-3\" type=\"checkbox\" ><label for=\"sk-estimator-id-3\" class=\"sk-toggleable__label sk-toggleable__label-arrow\">columntransformer: ColumnTransformer</label><div class=\"sk-toggleable__content\"><pre>ColumnTransformer(remainder=&#x27;passthrough&#x27;,\n",
              "                  transformers=[(&#x27;onehotencoder&#x27;,\n",
              "                                 OneHotEncoder(categories=[array([&#x27;Audi A3 Cabriolet&#x27;, &#x27;Audi A4 1.8&#x27;, &#x27;Audi A4 2.0&#x27;, &#x27;Audi A6 2.0&#x27;,\n",
              "       &#x27;Audi A8&#x27;, &#x27;Audi Q3 2.0&#x27;, &#x27;Audi Q5 2.0&#x27;, &#x27;Audi Q7&#x27;, &#x27;BMW 3 Series&#x27;,\n",
              "       &#x27;BMW 5 Series&#x27;, &#x27;BMW 7 Series&#x27;, &#x27;BMW X1&#x27;, &#x27;BMW X1 sDrive20d&#x27;,\n",
              "       &#x27;BMW X1 xDrive20d&#x27;, &#x27;Chevrolet Beat&#x27;, &#x27;Chevrolet Beat Diesel&#x27;,\n",
              "       &#x27;Chevrolet Beat LS&#x27;, &#x27;Chevrolet B...\n",
              "       &#x27;Volkswagen Vento Konekt&#x27;, &#x27;Volvo S80 Summum&#x27;], dtype=object),\n",
              "                                                           array([&#x27;Audi&#x27;, &#x27;BMW&#x27;, &#x27;Chevrolet&#x27;, &#x27;Datsun&#x27;, &#x27;Fiat&#x27;, &#x27;Force&#x27;, &#x27;Ford&#x27;,\n",
              "       &#x27;Hindustan&#x27;, &#x27;Honda&#x27;, &#x27;Hyundai&#x27;, &#x27;Jaguar&#x27;, &#x27;Jeep&#x27;, &#x27;Land&#x27;,\n",
              "       &#x27;Mahindra&#x27;, &#x27;Maruti&#x27;, &#x27;Mercedes&#x27;, &#x27;Mini&#x27;, &#x27;Mitsubishi&#x27;, &#x27;Nissan&#x27;,\n",
              "       &#x27;Renault&#x27;, &#x27;Skoda&#x27;, &#x27;Tata&#x27;, &#x27;Toyota&#x27;, &#x27;Volkswagen&#x27;, &#x27;Volvo&#x27;],\n",
              "      dtype=object),\n",
              "                                                           array([&#x27;Diesel&#x27;, &#x27;LPG&#x27;, &#x27;Petrol&#x27;], dtype=object)]),\n",
              "                                 [&#x27;name&#x27;, &#x27;company&#x27;, &#x27;fuel_type&#x27;])])</pre></div></div></div><div class=\"sk-parallel\"><div class=\"sk-parallel-item\"><div class=\"sk-item\"><div class=\"sk-label-container\"><div class=\"sk-label sk-toggleable\"><input class=\"sk-toggleable__control sk-hidden--visually\" id=\"sk-estimator-id-4\" type=\"checkbox\" ><label for=\"sk-estimator-id-4\" class=\"sk-toggleable__label sk-toggleable__label-arrow\">onehotencoder</label><div class=\"sk-toggleable__content\"><pre>[&#x27;name&#x27;, &#x27;company&#x27;, &#x27;fuel_type&#x27;]</pre></div></div></div><div class=\"sk-serial\"><div class=\"sk-item\"><div class=\"sk-estimator sk-toggleable\"><input class=\"sk-toggleable__control sk-hidden--visually\" id=\"sk-estimator-id-5\" type=\"checkbox\" ><label for=\"sk-estimator-id-5\" class=\"sk-toggleable__label sk-toggleable__label-arrow\">OneHotEncoder</label><div class=\"sk-toggleable__content\"><pre>OneHotEncoder(categories=[array([&#x27;Audi A3 Cabriolet&#x27;, &#x27;Audi A4 1.8&#x27;, &#x27;Audi A4 2.0&#x27;, &#x27;Audi A6 2.0&#x27;,\n",
              "       &#x27;Audi A8&#x27;, &#x27;Audi Q3 2.0&#x27;, &#x27;Audi Q5 2.0&#x27;, &#x27;Audi Q7&#x27;, &#x27;BMW 3 Series&#x27;,\n",
              "       &#x27;BMW 5 Series&#x27;, &#x27;BMW 7 Series&#x27;, &#x27;BMW X1&#x27;, &#x27;BMW X1 sDrive20d&#x27;,\n",
              "       &#x27;BMW X1 xDrive20d&#x27;, &#x27;Chevrolet Beat&#x27;, &#x27;Chevrolet Beat Diesel&#x27;,\n",
              "       &#x27;Chevrolet Beat LS&#x27;, &#x27;Chevrolet Beat LT&#x27;, &#x27;Chevrolet Beat PS&#x27;,\n",
              "       &#x27;Chevrolet Cruze LTZ&#x27;, &#x27;Chevrolet Enjoy&#x27;, &#x27;Chevrolet E...\n",
              "       &#x27;Volkswagen Vento Comfortline&#x27;, &#x27;Volkswagen Vento Highline&#x27;,\n",
              "       &#x27;Volkswagen Vento Konekt&#x27;, &#x27;Volvo S80 Summum&#x27;], dtype=object),\n",
              "                          array([&#x27;Audi&#x27;, &#x27;BMW&#x27;, &#x27;Chevrolet&#x27;, &#x27;Datsun&#x27;, &#x27;Fiat&#x27;, &#x27;Force&#x27;, &#x27;Ford&#x27;,\n",
              "       &#x27;Hindustan&#x27;, &#x27;Honda&#x27;, &#x27;Hyundai&#x27;, &#x27;Jaguar&#x27;, &#x27;Jeep&#x27;, &#x27;Land&#x27;,\n",
              "       &#x27;Mahindra&#x27;, &#x27;Maruti&#x27;, &#x27;Mercedes&#x27;, &#x27;Mini&#x27;, &#x27;Mitsubishi&#x27;, &#x27;Nissan&#x27;,\n",
              "       &#x27;Renault&#x27;, &#x27;Skoda&#x27;, &#x27;Tata&#x27;, &#x27;Toyota&#x27;, &#x27;Volkswagen&#x27;, &#x27;Volvo&#x27;],\n",
              "      dtype=object),\n",
              "                          array([&#x27;Diesel&#x27;, &#x27;LPG&#x27;, &#x27;Petrol&#x27;], dtype=object)])</pre></div></div></div></div></div></div><div class=\"sk-parallel-item\"><div class=\"sk-item\"><div class=\"sk-label-container\"><div class=\"sk-label sk-toggleable\"><input class=\"sk-toggleable__control sk-hidden--visually\" id=\"sk-estimator-id-6\" type=\"checkbox\" ><label for=\"sk-estimator-id-6\" class=\"sk-toggleable__label sk-toggleable__label-arrow\">remainder</label><div class=\"sk-toggleable__content\"><pre>[&#x27;year&#x27;, &#x27;kms_driven&#x27;]</pre></div></div></div><div class=\"sk-serial\"><div class=\"sk-item\"><div class=\"sk-estimator sk-toggleable\"><input class=\"sk-toggleable__control sk-hidden--visually\" id=\"sk-estimator-id-7\" type=\"checkbox\" ><label for=\"sk-estimator-id-7\" class=\"sk-toggleable__label sk-toggleable__label-arrow\">passthrough</label><div class=\"sk-toggleable__content\"><pre>passthrough</pre></div></div></div></div></div></div></div></div><div class=\"sk-item\"><div class=\"sk-estimator sk-toggleable\"><input class=\"sk-toggleable__control sk-hidden--visually\" id=\"sk-estimator-id-8\" type=\"checkbox\" ><label for=\"sk-estimator-id-8\" class=\"sk-toggleable__label sk-toggleable__label-arrow\">LinearRegression</label><div class=\"sk-toggleable__content\"><pre>LinearRegression()</pre></div></div></div></div></div></div></div>"
            ]
          },
          "metadata": {},
          "execution_count": 56
        }
      ]
    },
    {
      "cell_type": "code",
      "source": [
        "y_pred=pipe.predict(X_test)"
      ],
      "metadata": {
        "id": "Rh9TfV_Gq_17"
      },
      "execution_count": null,
      "outputs": []
    },
    {
      "cell_type": "markdown",
      "source": [
        "R2 Score"
      ],
      "metadata": {
        "id": "dwawkZxzuIV4"
      }
    },
    {
      "cell_type": "code",
      "source": [
        "r2_score(y_test,y_pred)"
      ],
      "metadata": {
        "colab": {
          "base_uri": "https://localhost:8080/"
        },
        "id": "t4Iydcqmq_zX",
        "outputId": "e1c997a2-c4dc-499c-b5ad-f8f60324e8ef"
      },
      "execution_count": null,
      "outputs": [
        {
          "output_type": "execute_result",
          "data": {
            "text/plain": [
              "0.7202198449296701"
            ]
          },
          "metadata": {},
          "execution_count": 58
        }
      ]
    },
    {
      "cell_type": "markdown",
      "source": [
        "finding the model with a random state of TrainTestSplit where the model was found to give almost 0.92 as r2_score"
      ],
      "metadata": {
        "id": "bKPNJonVuUju"
      }
    },
    {
      "cell_type": "code",
      "source": [
        "scores=[]\n",
        "for i in range(1000):\n",
        "    X_train,X_test,y_train,y_test=train_test_split(X,y,test_size=0.1,random_state=i)\n",
        "    lr=LinearRegression()\n",
        "    pipe=make_pipeline(column_trans,lr)\n",
        "    pipe.fit(X_train,y_train)\n",
        "    y_pred=pipe.predict(X_test)\n",
        "    scores.append(r2_score(y_test,y_pred))"
      ],
      "metadata": {
        "id": "r7EXdBj-q_wg"
      },
      "execution_count": null,
      "outputs": []
    },
    {
      "cell_type": "code",
      "source": [
        "np.argmax(scores)"
      ],
      "metadata": {
        "colab": {
          "base_uri": "https://localhost:8080/"
        },
        "id": "kAUd4HMDq_um",
        "outputId": "0f194ed1-f037-4109-a71e-6579ac228c86"
      },
      "execution_count": null,
      "outputs": [
        {
          "output_type": "execute_result",
          "data": {
            "text/plain": [
              "302"
            ]
          },
          "metadata": {},
          "execution_count": 60
        }
      ]
    },
    {
      "cell_type": "code",
      "source": [
        "scores[np.argmax(scores)]"
      ],
      "metadata": {
        "colab": {
          "base_uri": "https://localhost:8080/"
        },
        "id": "OSRJSPnnq_sj",
        "outputId": "c97b81e2-c7aa-4262-80d2-8f77bb77815b"
      },
      "execution_count": null,
      "outputs": [
        {
          "output_type": "execute_result",
          "data": {
            "text/plain": [
              "0.8991190499074018"
            ]
          },
          "metadata": {},
          "execution_count": 61
        }
      ]
    },
    {
      "cell_type": "code",
      "source": [
        "pipe.predict(pd.DataFrame(columns=X_test.columns,data=np.array(['Maruti Suzuki Swift','Maruti',2019,100,'Petrol']).reshape(1,5)))"
      ],
      "metadata": {
        "colab": {
          "base_uri": "https://localhost:8080/"
        },
        "id": "FiPbgjYsq_n0",
        "outputId": "80df5952-0ae7-4384-b32a-7fb4a20c0221"
      },
      "execution_count": null,
      "outputs": [
        {
          "output_type": "execute_result",
          "data": {
            "text/plain": [
              "array([430382.81414542])"
            ]
          },
          "metadata": {},
          "execution_count": 62
        }
      ]
    },
    {
      "cell_type": "markdown",
      "source": [
        "the best model is found at a certain random state"
      ],
      "metadata": {
        "id": "HzCilBjFyvGP"
      }
    },
    {
      "cell_type": "code",
      "source": [
        "X_train,X_test,y_train,y_test=train_test_split(X,y,test_size=0.1,random_state=np.argmax(scores))\n",
        "lr=LinearRegression()\n",
        "pipe=make_pipeline(column_trans,lr)\n",
        "pipe.fit(X_train,y_train)\n",
        "y_pred=pipe.predict(X_test)\n",
        "r2_score(y_test,y_pred)"
      ],
      "metadata": {
        "colab": {
          "base_uri": "https://localhost:8080/"
        },
        "id": "9gkSyUmZyuXn",
        "outputId": "13c684f9-636e-468d-d6c1-314d03cab33a"
      },
      "execution_count": null,
      "outputs": [
        {
          "output_type": "execute_result",
          "data": {
            "text/plain": [
              "0.8991190499074018"
            ]
          },
          "metadata": {},
          "execution_count": 63
        }
      ]
    },
    {
      "cell_type": "code",
      "source": [
        "import pickle"
      ],
      "metadata": {
        "id": "HXQaEdDkyuVW"
      },
      "execution_count": null,
      "outputs": []
    },
    {
      "cell_type": "code",
      "source": [
        "pickle.dump(pipe,open('LinearRegressionModel.pkl','wb'))"
      ],
      "metadata": {
        "id": "R9DHWuAuyuSk"
      },
      "execution_count": null,
      "outputs": []
    },
    {
      "cell_type": "code",
      "source": [
        "pipe.predict(pd.DataFrame(columns=['name','company','year','kms_driven','fuel_type'],data=np.array(['Maruti Suzuki Swift','Maruti',2019,100,'Petrol']).reshape(1,5)))"
      ],
      "metadata": {
        "id": "OyIxtGBlyuQV",
        "colab": {
          "base_uri": "https://localhost:8080/"
        },
        "outputId": "3f5e73ac-d7a6-4b59-dc6e-8ad4df7681dc"
      },
      "execution_count": null,
      "outputs": [
        {
          "output_type": "execute_result",
          "data": {
            "text/plain": [
              "array([456549.33356479])"
            ]
          },
          "metadata": {},
          "execution_count": 66
        }
      ]
    },
    {
      "cell_type": "code",
      "source": [
        "pipe.steps[0][1].transformers[0][1].categories[0]"
      ],
      "metadata": {
        "id": "KzISTW2uyuNj",
        "colab": {
          "base_uri": "https://localhost:8080/"
        },
        "outputId": "d9bc9fa8-c6d1-4232-ed09-ff9c8942f19b"
      },
      "execution_count": null,
      "outputs": [
        {
          "output_type": "execute_result",
          "data": {
            "text/plain": [
              "array(['Audi A3 Cabriolet', 'Audi A4 1.8', 'Audi A4 2.0', 'Audi A6 2.0',\n",
              "       'Audi A8', 'Audi Q3 2.0', 'Audi Q5 2.0', 'Audi Q7', 'BMW 3 Series',\n",
              "       'BMW 5 Series', 'BMW 7 Series', 'BMW X1', 'BMW X1 sDrive20d',\n",
              "       'BMW X1 xDrive20d', 'Chevrolet Beat', 'Chevrolet Beat Diesel',\n",
              "       'Chevrolet Beat LS', 'Chevrolet Beat LT', 'Chevrolet Beat PS',\n",
              "       'Chevrolet Cruze LTZ', 'Chevrolet Enjoy', 'Chevrolet Enjoy 1.4',\n",
              "       'Chevrolet Sail 1.2', 'Chevrolet Sail UVA', 'Chevrolet Spark',\n",
              "       'Chevrolet Spark 1.0', 'Chevrolet Spark LS', 'Chevrolet Spark LT',\n",
              "       'Chevrolet Tavera LS', 'Chevrolet Tavera Neo', 'Datsun GO T',\n",
              "       'Datsun Go Plus', 'Datsun Redi GO', 'Fiat Linea Emotion',\n",
              "       'Fiat Petra ELX', 'Fiat Punto Emotion', 'Force Motors Force',\n",
              "       'Force Motors One', 'Ford EcoSport', 'Ford EcoSport Ambiente',\n",
              "       'Ford EcoSport Titanium', 'Ford EcoSport Trend',\n",
              "       'Ford Endeavor 4x4', 'Ford Fiesta', 'Ford Fiesta SXi', 'Ford Figo',\n",
              "       'Ford Figo Diesel', 'Ford Figo Duratorq', 'Ford Figo Petrol',\n",
              "       'Ford Fusion 1.4', 'Ford Ikon 1.3', 'Ford Ikon 1.6',\n",
              "       'Hindustan Motors Ambassador', 'Honda Accord', 'Honda Amaze',\n",
              "       'Honda Amaze 1.2', 'Honda Amaze 1.5', 'Honda Brio', 'Honda Brio V',\n",
              "       'Honda Brio VX', 'Honda City', 'Honda City 1.5', 'Honda City SV',\n",
              "       'Honda City VX', 'Honda City ZX', 'Honda Jazz S', 'Honda Jazz VX',\n",
              "       'Honda Mobilio', 'Honda Mobilio S', 'Honda WR V', 'Hyundai Accent',\n",
              "       'Hyundai Accent Executive', 'Hyundai Accent GLE',\n",
              "       'Hyundai Accent GLX', 'Hyundai Creta', 'Hyundai Creta 1.6',\n",
              "       'Hyundai Elantra 1.8', 'Hyundai Elantra SX', 'Hyundai Elite i20',\n",
              "       'Hyundai Eon', 'Hyundai Eon D', 'Hyundai Eon Era',\n",
              "       'Hyundai Eon Magna', 'Hyundai Eon Sportz', 'Hyundai Fluidic Verna',\n",
              "       'Hyundai Getz', 'Hyundai Getz GLE', 'Hyundai Getz Prime',\n",
              "       'Hyundai Grand i10', 'Hyundai Santro', 'Hyundai Santro AE',\n",
              "       'Hyundai Santro Xing', 'Hyundai Sonata Transform', 'Hyundai Verna',\n",
              "       'Hyundai Verna 1.4', 'Hyundai Verna 1.6', 'Hyundai Verna Fluidic',\n",
              "       'Hyundai Verna Transform', 'Hyundai Verna VGT',\n",
              "       'Hyundai Xcent Base', 'Hyundai Xcent SX', 'Hyundai i10',\n",
              "       'Hyundai i10 Era', 'Hyundai i10 Magna', 'Hyundai i10 Sportz',\n",
              "       'Hyundai i20', 'Hyundai i20 Active', 'Hyundai i20 Asta',\n",
              "       'Hyundai i20 Magna', 'Hyundai i20 Select', 'Hyundai i20 Sportz',\n",
              "       'Jaguar XE XE', 'Jaguar XF 2.2', 'Jeep Wrangler Unlimited',\n",
              "       'Land Rover Freelander', 'Mahindra Bolero DI',\n",
              "       'Mahindra Bolero Power', 'Mahindra Bolero SLE',\n",
              "       'Mahindra Jeep CL550', 'Mahindra Jeep MM', 'Mahindra KUV100',\n",
              "       'Mahindra KUV100 K8', 'Mahindra Logan', 'Mahindra Logan Diesel',\n",
              "       'Mahindra Quanto C4', 'Mahindra Quanto C8', 'Mahindra Scorpio',\n",
              "       'Mahindra Scorpio 2.6', 'Mahindra Scorpio LX',\n",
              "       'Mahindra Scorpio S10', 'Mahindra Scorpio S4',\n",
              "       'Mahindra Scorpio SLE', 'Mahindra Scorpio SLX',\n",
              "       'Mahindra Scorpio VLX', 'Mahindra Scorpio Vlx',\n",
              "       'Mahindra Scorpio W', 'Mahindra TUV300 T4', 'Mahindra TUV300 T8',\n",
              "       'Mahindra Thar CRDe', 'Mahindra XUV500', 'Mahindra XUV500 W10',\n",
              "       'Mahindra XUV500 W6', 'Mahindra XUV500 W8', 'Mahindra Xylo D2',\n",
              "       'Mahindra Xylo E4', 'Mahindra Xylo E8', 'Maruti Suzuki 800',\n",
              "       'Maruti Suzuki A', 'Maruti Suzuki Alto', 'Maruti Suzuki Baleno',\n",
              "       'Maruti Suzuki Celerio', 'Maruti Suzuki Ciaz',\n",
              "       'Maruti Suzuki Dzire', 'Maruti Suzuki Eeco',\n",
              "       'Maruti Suzuki Ertiga', 'Maruti Suzuki Esteem',\n",
              "       'Maruti Suzuki Estilo', 'Maruti Suzuki Maruti',\n",
              "       'Maruti Suzuki Omni', 'Maruti Suzuki Ritz', 'Maruti Suzuki S',\n",
              "       'Maruti Suzuki SX4', 'Maruti Suzuki Stingray',\n",
              "       'Maruti Suzuki Swift', 'Maruti Suzuki Versa',\n",
              "       'Maruti Suzuki Vitara', 'Maruti Suzuki Wagon', 'Maruti Suzuki Zen',\n",
              "       'Mercedes Benz A', 'Mercedes Benz B', 'Mercedes Benz C',\n",
              "       'Mercedes Benz GLA', 'Mini Cooper S', 'Mitsubishi Lancer 1.8',\n",
              "       'Mitsubishi Pajero Sport', 'Nissan Micra XL', 'Nissan Micra XV',\n",
              "       'Nissan Sunny', 'Nissan Sunny XL', 'Nissan Terrano XL',\n",
              "       'Nissan X Trail', 'Renault Duster', 'Renault Duster 110',\n",
              "       'Renault Duster 110PS', 'Renault Duster 85', 'Renault Duster 85PS',\n",
              "       'Renault Duster RxL', 'Renault Kwid', 'Renault Kwid 1.0',\n",
              "       'Renault Kwid RXT', 'Renault Lodgy 85', 'Renault Scala RxL',\n",
              "       'Skoda Fabia', 'Skoda Fabia 1.2L', 'Skoda Fabia Classic',\n",
              "       'Skoda Laura', 'Skoda Octavia Classic', 'Skoda Rapid Elegance',\n",
              "       'Skoda Superb 1.8', 'Skoda Yeti Ambition', 'Tata Aria Pleasure',\n",
              "       'Tata Bolt XM', 'Tata Indica', 'Tata Indica V2', 'Tata Indica eV2',\n",
              "       'Tata Indigo CS', 'Tata Indigo LS', 'Tata Indigo LX',\n",
              "       'Tata Indigo Marina', 'Tata Indigo eCS', 'Tata Manza',\n",
              "       'Tata Manza Aqua', 'Tata Manza Aura', 'Tata Manza ELAN',\n",
              "       'Tata Nano', 'Tata Nano Cx', 'Tata Nano GenX', 'Tata Nano LX',\n",
              "       'Tata Nano Lx', 'Tata Sumo Gold', 'Tata Sumo Grande',\n",
              "       'Tata Sumo Victa', 'Tata Tiago Revotorq', 'Tata Tiago Revotron',\n",
              "       'Tata Tigor Revotron', 'Tata Venture EX', 'Tata Vista Quadrajet',\n",
              "       'Tata Zest Quadrajet', 'Tata Zest XE', 'Tata Zest XM',\n",
              "       'Toyota Corolla', 'Toyota Corolla Altis', 'Toyota Corolla H2',\n",
              "       'Toyota Etios', 'Toyota Etios G', 'Toyota Etios GD',\n",
              "       'Toyota Etios Liva', 'Toyota Fortuner', 'Toyota Fortuner 3.0',\n",
              "       'Toyota Innova 2.0', 'Toyota Innova 2.5', 'Toyota Qualis',\n",
              "       'Volkswagen Jetta Comfortline', 'Volkswagen Jetta Highline',\n",
              "       'Volkswagen Passat Diesel', 'Volkswagen Polo',\n",
              "       'Volkswagen Polo Comfortline', 'Volkswagen Polo Highline',\n",
              "       'Volkswagen Polo Highline1.2L', 'Volkswagen Polo Trendline',\n",
              "       'Volkswagen Vento Comfortline', 'Volkswagen Vento Highline',\n",
              "       'Volkswagen Vento Konekt', 'Volvo S80 Summum'], dtype=object)"
            ]
          },
          "metadata": {},
          "execution_count": 67
        }
      ]
    },
    {
      "cell_type": "code",
      "source": [],
      "metadata": {
        "id": "IE8bxunFyuKv"
      },
      "execution_count": null,
      "outputs": []
    },
    {
      "cell_type": "code",
      "source": [],
      "metadata": {
        "id": "jXyQEqFOyuH0"
      },
      "execution_count": null,
      "outputs": []
    },
    {
      "cell_type": "code",
      "source": [],
      "metadata": {
        "id": "y_2RqK_KyuE3"
      },
      "execution_count": null,
      "outputs": []
    },
    {
      "cell_type": "code",
      "source": [],
      "metadata": {
        "id": "mC37ZpZSyt-W"
      },
      "execution_count": null,
      "outputs": []
    }
  ]
}